{
 "cells": [
  {
   "cell_type": "code",
   "execution_count": 1,
   "metadata": {},
   "outputs": [],
   "source": [
    "# Requirements\n",
    "# Comment if already satisfied\n",
    "#!pip install -U jupyter\n",
    "#!pip install datasets transformers accelerate torch torchinfo xlrd seaborn sklearn torchmetrics\n",
    "#!pip install --upgrade --quiet jupyter_client ipywidgets\n",
    "#!jupyter nbextension enable --py widgetsnbextension"
   ]
  },
  {
   "cell_type": "markdown",
   "metadata": {},
   "source": [
    "This model is the same as the one in `train_classification_model` but the training data no longer has conflicted ADUs."
   ]
  },
  {
   "cell_type": "code",
   "execution_count": 2,
   "metadata": {},
   "outputs": [],
   "source": [
    "import os\n",
    "import pandas as pd\n",
    "\n",
    "DATA_DIR = \"../data/\"\n",
    "LM_DIR = \"./out/language_model\"\n",
    "OUT_DIR = \"./out/classification_model2\"\n",
    "\n",
    "os.makedirs(OUT_DIR, exist_ok=True)\n",
    "\n",
    "SEED = 42"
   ]
  },
  {
   "cell_type": "code",
   "execution_count": 3,
   "metadata": {},
   "outputs": [],
   "source": [
    "import matplotlib.pyplot as plt\n",
    "def plot_training_history(train_history, val_history, model_name, phase_name, out_dir):\n",
    "    fig, (loss_ax, acc_ax) = plt.subplots(figsize=(12, 8), nrows=2)\n",
    "    fig.suptitle(f\"{model_name} - {phase_name} History\")\n",
    "    loss_ax.set_title(\"Cross Entropy Loss\")\n",
    "    loss_ax.plot(train_history[\"loss\"], label=\"train\")\n",
    "    loss_ax.plot(val_history[\"loss\"], label=\"val\")\n",
    "    loss_ax.legend(loc=\"best\")\n",
    "\n",
    "    acc_ax.set_title(\"Classification accuracy\")\n",
    "    acc_ax.plot(train_history[\"accuracy\"], label=\"train\")\n",
    "    acc_ax.plot(val_history[\"accuracy\"], label=\"val\")\n",
    "    loss_ax.legend(loc=\"best\")\n",
    "\n",
    "    plt.tight_layout()\n",
    "\n",
    "    fig.savefig(f\"{out_dir}/{model_name}_{phase_name}_history.png\", dpi=150, bbox_inches='tight')\n",
    "\n",
    "    return fig"
   ]
  },
  {
   "cell_type": "markdown",
   "metadata": {},
   "source": [
    "# Load Dataset"
   ]
  },
  {
   "cell_type": "code",
   "execution_count": 4,
   "metadata": {},
   "outputs": [
    {
     "data": {
      "text/html": [
       "<div>\n",
       "<style scoped>\n",
       "    .dataframe tbody tr th:only-of-type {\n",
       "        vertical-align: middle;\n",
       "    }\n",
       "\n",
       "    .dataframe tbody tr th {\n",
       "        vertical-align: top;\n",
       "    }\n",
       "\n",
       "    .dataframe thead th {\n",
       "        text-align: right;\n",
       "    }\n",
       "</style>\n",
       "<table border=\"1\" class=\"dataframe\">\n",
       "  <thead>\n",
       "    <tr style=\"text-align: right;\">\n",
       "      <th></th>\n",
       "      <th>index</th>\n",
       "      <th>article_id</th>\n",
       "      <th>annotator</th>\n",
       "      <th>node</th>\n",
       "      <th>ranges</th>\n",
       "      <th>tokens</th>\n",
       "      <th>label</th>\n",
       "    </tr>\n",
       "  </thead>\n",
       "  <tbody>\n",
       "    <tr>\n",
       "      <th>0</th>\n",
       "      <td>0</td>\n",
       "      <td>5d04a31b896a7fea069ef06f</td>\n",
       "      <td>A</td>\n",
       "      <td>0</td>\n",
       "      <td>[[2516, 2556]]</td>\n",
       "      <td>O facto não é apenas fruto da ignorância</td>\n",
       "      <td>Value</td>\n",
       "    </tr>\n",
       "    <tr>\n",
       "      <th>1</th>\n",
       "      <td>1</td>\n",
       "      <td>5d04a31b896a7fea069ef06f</td>\n",
       "      <td>A</td>\n",
       "      <td>1</td>\n",
       "      <td>[[2568, 2806]]</td>\n",
       "      <td>havia no seu humor mais jornalismo (mais inves...</td>\n",
       "      <td>Value</td>\n",
       "    </tr>\n",
       "    <tr>\n",
       "      <th>2</th>\n",
       "      <td>2</td>\n",
       "      <td>5d04a31b896a7fea069ef06f</td>\n",
       "      <td>A</td>\n",
       "      <td>3</td>\n",
       "      <td>[[3169, 3190]]</td>\n",
       "      <td>É tudo cómico na FIFA</td>\n",
       "      <td>Value</td>\n",
       "    </tr>\n",
       "    <tr>\n",
       "      <th>3</th>\n",
       "      <td>3</td>\n",
       "      <td>5d04a31b896a7fea069ef06f</td>\n",
       "      <td>A</td>\n",
       "      <td>4</td>\n",
       "      <td>[[3198, 3285]]</td>\n",
       "      <td>o que todos nós permitimos que esta organizaçã...</td>\n",
       "      <td>Value</td>\n",
       "    </tr>\n",
       "    <tr>\n",
       "      <th>4</th>\n",
       "      <td>4</td>\n",
       "      <td>5d04a31b896a7fea069ef06f</td>\n",
       "      <td>A</td>\n",
       "      <td>6</td>\n",
       "      <td>[[4257, 4296]]</td>\n",
       "      <td>não nos fazem rir à custa dos poderosos</td>\n",
       "      <td>Value</td>\n",
       "    </tr>\n",
       "  </tbody>\n",
       "</table>\n",
       "</div>"
      ],
      "text/plain": [
       "   index                article_id annotator  node          ranges  \\\n",
       "0      0  5d04a31b896a7fea069ef06f         A     0  [[2516, 2556]]   \n",
       "1      1  5d04a31b896a7fea069ef06f         A     1  [[2568, 2806]]   \n",
       "2      2  5d04a31b896a7fea069ef06f         A     3  [[3169, 3190]]   \n",
       "3      3  5d04a31b896a7fea069ef06f         A     4  [[3198, 3285]]   \n",
       "4      4  5d04a31b896a7fea069ef06f         A     6  [[4257, 4296]]   \n",
       "\n",
       "                                              tokens  label  \n",
       "0           O facto não é apenas fruto da ignorância  Value  \n",
       "1  havia no seu humor mais jornalismo (mais inves...  Value  \n",
       "2                              É tudo cómico na FIFA  Value  \n",
       "3  o que todos nós permitimos que esta organizaçã...  Value  \n",
       "4            não nos fazem rir à custa dos poderosos  Value  "
      ]
     },
     "execution_count": 4,
     "metadata": {},
     "output_type": "execute_result"
    }
   ],
   "source": [
    "#articles = pd.read_excel(os.path.join(DATA_DIR, \"OpArticles_ADUs.xlsx\"))\n",
    "adus = pd.read_csv(os.path.join(DATA_DIR, \"OpArticles_ADUs.csv\")) # If pandas version doesn't support .xlsx, use this instaed\n",
    "adus = adus.reset_index()\n",
    "\n",
    "adus.head()"
   ]
  },
  {
   "cell_type": "markdown",
   "metadata": {},
   "source": [
    "# Check for conflicts on annotations"
   ]
  },
  {
   "cell_type": "code",
   "execution_count": 5,
   "metadata": {},
   "outputs": [
    {
     "name": "stdout",
     "output_type": "stream",
     "text": [
      "Original dataset shape: (16743, 7) | Unique dataset shape: (8342, 7)\n"
     ]
    },
    {
     "data": {
      "text/html": [
       "<div>\n",
       "<style scoped>\n",
       "    .dataframe tbody tr th:only-of-type {\n",
       "        vertical-align: middle;\n",
       "    }\n",
       "\n",
       "    .dataframe tbody tr th {\n",
       "        vertical-align: top;\n",
       "    }\n",
       "\n",
       "    .dataframe thead th {\n",
       "        text-align: right;\n",
       "    }\n",
       "</style>\n",
       "<table border=\"1\" class=\"dataframe\">\n",
       "  <thead>\n",
       "    <tr style=\"text-align: right;\">\n",
       "      <th></th>\n",
       "      <th>index</th>\n",
       "      <th>article_id</th>\n",
       "      <th>annotator</th>\n",
       "      <th>node</th>\n",
       "      <th>ranges</th>\n",
       "      <th>tokens</th>\n",
       "      <th>label</th>\n",
       "    </tr>\n",
       "  </thead>\n",
       "  <tbody>\n",
       "    <tr>\n",
       "      <th>4</th>\n",
       "      <td>4</td>\n",
       "      <td>5d04a31b896a7fea069ef06f</td>\n",
       "      <td>A</td>\n",
       "      <td>6</td>\n",
       "      <td>[[4257, 4296]]</td>\n",
       "      <td>não nos fazem rir à custa dos poderosos</td>\n",
       "      <td>Value</td>\n",
       "    </tr>\n",
       "    <tr>\n",
       "      <th>5</th>\n",
       "      <td>5</td>\n",
       "      <td>5d04a31b896a7fea069ef06f</td>\n",
       "      <td>A</td>\n",
       "      <td>7</td>\n",
       "      <td>[[4305, 4404]]</td>\n",
       "      <td>alguém os convenceu de que devem ter como crit...</td>\n",
       "      <td>Value</td>\n",
       "    </tr>\n",
       "    <tr>\n",
       "      <th>8</th>\n",
       "      <td>8</td>\n",
       "      <td>5d04a31b896a7fea069ef06f</td>\n",
       "      <td>A</td>\n",
       "      <td>11</td>\n",
       "      <td>[[3778, 3922]]</td>\n",
       "      <td>toda a comunidade jornalística continua a trat...</td>\n",
       "      <td>Value</td>\n",
       "    </tr>\n",
       "    <tr>\n",
       "      <th>9</th>\n",
       "      <td>9</td>\n",
       "      <td>5d04a31b896a7fea069ef06f</td>\n",
       "      <td>B</td>\n",
       "      <td>0</td>\n",
       "      <td>[[1321, 1387]]</td>\n",
       "      <td>“o Portugal que morre” morre anónimo e esqueci...</td>\n",
       "      <td>Value(-)</td>\n",
       "    </tr>\n",
       "    <tr>\n",
       "      <th>10</th>\n",
       "      <td>10</td>\n",
       "      <td>5d04a31b896a7fea069ef06f</td>\n",
       "      <td>B</td>\n",
       "      <td>1</td>\n",
       "      <td>[[1153, 1316]]</td>\n",
       "      <td>Há no discurso político uma tal preocupação co...</td>\n",
       "      <td>Value(-)</td>\n",
       "    </tr>\n",
       "  </tbody>\n",
       "</table>\n",
       "</div>"
      ],
      "text/plain": [
       "    index                article_id annotator  node          ranges  \\\n",
       "4       4  5d04a31b896a7fea069ef06f         A     6  [[4257, 4296]]   \n",
       "5       5  5d04a31b896a7fea069ef06f         A     7  [[4305, 4404]]   \n",
       "8       8  5d04a31b896a7fea069ef06f         A    11  [[3778, 3922]]   \n",
       "9       9  5d04a31b896a7fea069ef06f         B     0  [[1321, 1387]]   \n",
       "10     10  5d04a31b896a7fea069ef06f         B     1  [[1153, 1316]]   \n",
       "\n",
       "                                               tokens     label  \n",
       "4             não nos fazem rir à custa dos poderosos     Value  \n",
       "5   alguém os convenceu de que devem ter como crit...     Value  \n",
       "8   toda a comunidade jornalística continua a trat...     Value  \n",
       "9   “o Portugal que morre” morre anónimo e esqueci...  Value(-)  \n",
       "10  Há no discurso político uma tal preocupação co...  Value(-)  "
      ]
     },
     "execution_count": 5,
     "metadata": {},
     "output_type": "execute_result"
    }
   ],
   "source": [
    "unique_adus = adus.drop_duplicates(subset=[\"article_id\", \"tokens\"], keep=False)\n",
    "\n",
    "print(f\"Original dataset shape: {adus.shape} | Unique dataset shape: {unique_adus.shape}\")\n",
    "unique_adus.head()"
   ]
  },
  {
   "cell_type": "code",
   "execution_count": 6,
   "metadata": {},
   "outputs": [
    {
     "data": {
      "text/html": [
       "<div>\n",
       "<style scoped>\n",
       "    .dataframe tbody tr th:only-of-type {\n",
       "        vertical-align: middle;\n",
       "    }\n",
       "\n",
       "    .dataframe tbody tr th {\n",
       "        vertical-align: top;\n",
       "    }\n",
       "\n",
       "    .dataframe thead th {\n",
       "        text-align: right;\n",
       "    }\n",
       "</style>\n",
       "<table border=\"1\" class=\"dataframe\">\n",
       "  <thead>\n",
       "    <tr style=\"text-align: right;\">\n",
       "      <th></th>\n",
       "      <th>index</th>\n",
       "      <th>article_id</th>\n",
       "      <th>annotator</th>\n",
       "      <th>node</th>\n",
       "      <th>ranges</th>\n",
       "      <th>tokens</th>\n",
       "      <th>label</th>\n",
       "    </tr>\n",
       "  </thead>\n",
       "  <tbody>\n",
       "    <tr>\n",
       "      <th>15230</th>\n",
       "      <td>15230</td>\n",
       "      <td>5cdd971b896a7fea062d6e3d</td>\n",
       "      <td>A</td>\n",
       "      <td>23</td>\n",
       "      <td>[[4683, 4740]]</td>\n",
       "      <td>Esta defesa do indefensável é particularmente ...</td>\n",
       "      <td>Value(-)</td>\n",
       "    </tr>\n",
       "    <tr>\n",
       "      <th>15248</th>\n",
       "      <td>15248</td>\n",
       "      <td>5cdd971b896a7fea062d6e3d</td>\n",
       "      <td>B</td>\n",
       "      <td>23</td>\n",
       "      <td>[[4683, 4740]]</td>\n",
       "      <td>Esta defesa do indefensável é particularmente ...</td>\n",
       "      <td>Value(-)</td>\n",
       "    </tr>\n",
       "    <tr>\n",
       "      <th>15260</th>\n",
       "      <td>15260</td>\n",
       "      <td>5cdd971b896a7fea062d6e3d</td>\n",
       "      <td>C</td>\n",
       "      <td>12</td>\n",
       "      <td>[[4683, 4740]]</td>\n",
       "      <td>Esta defesa do indefensável é particularmente ...</td>\n",
       "      <td>Value(-)</td>\n",
       "    </tr>\n",
       "    <tr>\n",
       "      <th>15220</th>\n",
       "      <td>15220</td>\n",
       "      <td>5cdd971b896a7fea062d6e3d</td>\n",
       "      <td>A</td>\n",
       "      <td>5</td>\n",
       "      <td>[[2467, 2521]]</td>\n",
       "      <td>Já de si isto seria problemático em termos ped...</td>\n",
       "      <td>Value</td>\n",
       "    </tr>\n",
       "    <tr>\n",
       "      <th>15239</th>\n",
       "      <td>15239</td>\n",
       "      <td>5cdd971b896a7fea062d6e3d</td>\n",
       "      <td>B</td>\n",
       "      <td>9</td>\n",
       "      <td>[[2467, 2521]]</td>\n",
       "      <td>Já de si isto seria problemático em termos ped...</td>\n",
       "      <td>Value(-)</td>\n",
       "    </tr>\n",
       "    <tr>\n",
       "      <th>...</th>\n",
       "      <td>...</td>\n",
       "      <td>...</td>\n",
       "      <td>...</td>\n",
       "      <td>...</td>\n",
       "      <td>...</td>\n",
       "      <td>...</td>\n",
       "      <td>...</td>\n",
       "    </tr>\n",
       "    <tr>\n",
       "      <th>1957</th>\n",
       "      <td>1957</td>\n",
       "      <td>5d04c671896a7fea06a11275</td>\n",
       "      <td>D</td>\n",
       "      <td>12</td>\n",
       "      <td>[[1433, 1467]]</td>\n",
       "      <td>Uma coisa é o futebol outra é Deus</td>\n",
       "      <td>Fact</td>\n",
       "    </tr>\n",
       "    <tr>\n",
       "      <th>1937</th>\n",
       "      <td>1937</td>\n",
       "      <td>5d04c671896a7fea06a11275</td>\n",
       "      <td>B</td>\n",
       "      <td>2</td>\n",
       "      <td>[[942, 1097]]</td>\n",
       "      <td>abster-se de participar em órgãos sociais do s...</td>\n",
       "      <td>Value</td>\n",
       "    </tr>\n",
       "    <tr>\n",
       "      <th>1955</th>\n",
       "      <td>1955</td>\n",
       "      <td>5d04c671896a7fea06a11275</td>\n",
       "      <td>D</td>\n",
       "      <td>9</td>\n",
       "      <td>[[942, 1097]]</td>\n",
       "      <td>abster-se de participar em órgãos sociais do s...</td>\n",
       "      <td>Policy</td>\n",
       "    </tr>\n",
       "    <tr>\n",
       "      <th>1943</th>\n",
       "      <td>1943</td>\n",
       "      <td>5d04c671896a7fea06a11275</td>\n",
       "      <td>C</td>\n",
       "      <td>0</td>\n",
       "      <td>[[1376, 1431]]</td>\n",
       "      <td>É completamente descabido misturar religião co...</td>\n",
       "      <td>Value(-)</td>\n",
       "    </tr>\n",
       "    <tr>\n",
       "      <th>1956</th>\n",
       "      <td>1956</td>\n",
       "      <td>5d04c671896a7fea06a11275</td>\n",
       "      <td>D</td>\n",
       "      <td>11</td>\n",
       "      <td>[[1376, 1431]]</td>\n",
       "      <td>É completamente descabido misturar religião co...</td>\n",
       "      <td>Value(-)</td>\n",
       "    </tr>\n",
       "  </tbody>\n",
       "</table>\n",
       "<p>8401 rows × 7 columns</p>\n",
       "</div>"
      ],
      "text/plain": [
       "       index                article_id annotator  node          ranges  \\\n",
       "15230  15230  5cdd971b896a7fea062d6e3d         A    23  [[4683, 4740]]   \n",
       "15248  15248  5cdd971b896a7fea062d6e3d         B    23  [[4683, 4740]]   \n",
       "15260  15260  5cdd971b896a7fea062d6e3d         C    12  [[4683, 4740]]   \n",
       "15220  15220  5cdd971b896a7fea062d6e3d         A     5  [[2467, 2521]]   \n",
       "15239  15239  5cdd971b896a7fea062d6e3d         B     9  [[2467, 2521]]   \n",
       "...      ...                       ...       ...   ...             ...   \n",
       "1957    1957  5d04c671896a7fea06a11275         D    12  [[1433, 1467]]   \n",
       "1937    1937  5d04c671896a7fea06a11275         B     2   [[942, 1097]]   \n",
       "1955    1955  5d04c671896a7fea06a11275         D     9   [[942, 1097]]   \n",
       "1943    1943  5d04c671896a7fea06a11275         C     0  [[1376, 1431]]   \n",
       "1956    1956  5d04c671896a7fea06a11275         D    11  [[1376, 1431]]   \n",
       "\n",
       "                                                  tokens     label  \n",
       "15230  Esta defesa do indefensável é particularmente ...  Value(-)  \n",
       "15248  Esta defesa do indefensável é particularmente ...  Value(-)  \n",
       "15260  Esta defesa do indefensável é particularmente ...  Value(-)  \n",
       "15220  Já de si isto seria problemático em termos ped...     Value  \n",
       "15239  Já de si isto seria problemático em termos ped...  Value(-)  \n",
       "...                                                  ...       ...  \n",
       "1957                  Uma coisa é o futebol outra é Deus      Fact  \n",
       "1937   abster-se de participar em órgãos sociais do s...     Value  \n",
       "1955   abster-se de participar em órgãos sociais do s...    Policy  \n",
       "1943   É completamente descabido misturar religião co...  Value(-)  \n",
       "1956   É completamente descabido misturar religião co...  Value(-)  \n",
       "\n",
       "[8401 rows x 7 columns]"
      ]
     },
     "execution_count": 6,
     "metadata": {},
     "output_type": "execute_result"
    }
   ],
   "source": [
    "duplicated_adus = adus.loc[adus.index.difference(unique_adus.index)].sort_values(by=[\"article_id\", \"tokens\"])\n",
    "\n",
    "duplicated_adus"
   ]
  },
  {
   "cell_type": "code",
   "execution_count": 7,
   "metadata": {},
   "outputs": [
    {
     "name": "stdout",
     "output_type": "stream",
     "text": [
      "Label Ratios\n",
      "Value       0.474227\n",
      "Fact        0.233158\n",
      "Value(-)    0.171422\n",
      "Value(+)    0.083793\n",
      "Policy      0.037401\n",
      "Name: label, dtype: float64\n"
     ]
    },
    {
     "data": {
      "image/png": "[encoded data removed]",
      "text/plain": [
       "<Figure size 432x288 with 1 Axes>"
      ]
     },
     "metadata": {
      "needs_background": "light"
     },
     "output_type": "display_data"
    },
    {
     "data": {
      "text/plain": [
       "<Figure size 432x288 with 0 Axes>"
      ]
     },
     "metadata": {},
     "output_type": "display_data"
    }
   ],
   "source": [
    "import matplotlib.pyplot as plt\n",
    "import seaborn as sns\n",
    "\n",
    "print(\"Label Ratios\")\n",
    "print(unique_adus[\"label\"].value_counts() / len(unique_adus[\"label\"]))\n",
    "\n",
    "fig, ax = plt.subplots()\n",
    "sns.countplot(data=unique_adus, x=\"label\", ax=ax, order=[\"Value\", \"Fact\", \"Value(-)\", \"Value(+)\", \"Policy\"])\n",
    "ax.set_title(\"Distribution of labels on unique ADUs\")\n",
    "ax.set_xlabel(\"Label\")\n",
    "ax.set_ylabel(\"Count\")\n",
    "fig.savefig(f\"{OUT_DIR}/unique_label_distribution.png\", dpi=150, bbox_inches='tight')\n",
    "plt.show()\n",
    "plt.clf()"
   ]
  },
  {
   "cell_type": "code",
   "execution_count": 8,
   "metadata": {},
   "outputs": [
    {
     "name": "stdout",
     "output_type": "stream",
     "text": [
      "Label Ratios\n",
      "Value       0.493513\n",
      "Fact        0.204499\n",
      "Value(-)    0.174979\n",
      "Value(+)    0.084752\n",
      "Policy      0.042257\n",
      "Name: label, dtype: float64\n"
     ]
    },
    {
     "data": {
      "image/png": "[encoded data removed]",
      "text/plain": [
       "<Figure size 432x288 with 1 Axes>"
      ]
     },
     "metadata": {
      "needs_background": "light"
     },
     "output_type": "display_data"
    },
    {
     "data": {
      "text/plain": [
       "<Figure size 432x288 with 0 Axes>"
      ]
     },
     "metadata": {},
     "output_type": "display_data"
    }
   ],
   "source": [
    "print(\"Label Ratios\")\n",
    "print(duplicated_adus[\"label\"].value_counts() / len(duplicated_adus[\"label\"]))\n",
    "\n",
    "fig, ax = plt.subplots()\n",
    "sns.countplot(data=duplicated_adus, x=\"label\", ax=ax, order=[\"Value\", \"Fact\", \"Value(-)\", \"Value(+)\", \"Policy\"])\n",
    "ax.set_title(\"Distribution of labels on duplicated ADUs\")\n",
    "ax.set_xlabel(\"Label\")\n",
    "ax.set_ylabel(\"Count\")\n",
    "fig.savefig(f\"{OUT_DIR}/duplicated_label_distribution.png\", dpi=150, bbox_inches='tight')\n",
    "plt.show()\n",
    "plt.clf()"
   ]
  },
  {
   "cell_type": "code",
   "execution_count": 9,
   "metadata": {},
   "outputs": [
    {
     "data": {
      "image/png": "[encoded data removed]",
      "text/plain": [
       "<Figure size 432x288 with 1 Axes>"
      ]
     },
     "metadata": {
      "needs_background": "light"
     },
     "output_type": "display_data"
    },
    {
     "data": {
      "text/plain": [
       "<Figure size 432x288 with 0 Axes>"
      ]
     },
     "metadata": {},
     "output_type": "display_data"
    }
   ],
   "source": [
    "fig, ax = plt.subplots()\n",
    "sns.countplot(data=duplicated_adus, x=\"annotator\", ax=ax, order=[\"A\", \"B\", \"C\", \"D\"])\n",
    "ax.set_title(\"Distribution of annotators on duplicated ADUs\")\n",
    "ax.set_xlabel(\"Annotator\")\n",
    "ax.set_ylabel(\"Count\")\n",
    "fig.savefig(f\"{OUT_DIR}/duplicated_annotators_distribution.png\", dpi=150, bbox_inches='tight')\n",
    "plt.show()\n",
    "plt.clf()"
   ]
  },
  {
   "cell_type": "code",
   "execution_count": 10,
   "metadata": {},
   "outputs": [
    {
     "data": {
      "image/png": "[encoded data removed]",
      "text/plain": [
       "<Figure size 432x288 with 1 Axes>"
      ]
     },
     "metadata": {
      "needs_background": "light"
     },
     "output_type": "display_data"
    },
    {
     "data": {
      "text/plain": [
       "<Figure size 432x288 with 0 Axes>"
      ]
     },
     "metadata": {},
     "output_type": "display_data"
    }
   ],
   "source": [
    "fig, ax = plt.subplots()\n",
    "sns.countplot(data=duplicated_adus, x=\"label\", hue=\"annotator\", ax=ax, order=[\"Value\", \"Fact\", \"Value(-)\", \"Value(+)\", \"Policy\"], hue_order=[\"A\", \"B\", \"C\", \"D\"])\n",
    "ax.set_title(\"Distribution of labels on duplicated ADUs per annotator\")\n",
    "ax.set_xlabel(\"Label\")\n",
    "ax.set_ylabel(\"Count\")\n",
    "fig.savefig(f\"{OUT_DIR}/duplicated_label_distribution_per_annotator.png\", dpi=150, bbox_inches='tight')\n",
    "plt.show()\n",
    "plt.clf()"
   ]
  },
  {
   "cell_type": "markdown",
   "metadata": {},
   "source": [
    "# Filter by majority (mode)"
   ]
  },
  {
   "cell_type": "code",
   "execution_count": 11,
   "metadata": {},
   "outputs": [
    {
     "data": {
      "text/html": [
       "<div>\n",
       "<style scoped>\n",
       "    .dataframe tbody tr th:only-of-type {\n",
       "        vertical-align: middle;\n",
       "    }\n",
       "\n",
       "    .dataframe tbody tr th {\n",
       "        vertical-align: top;\n",
       "    }\n",
       "\n",
       "    .dataframe thead th {\n",
       "        text-align: right;\n",
       "    }\n",
       "</style>\n",
       "<table border=\"1\" class=\"dataframe\">\n",
       "  <thead>\n",
       "    <tr style=\"text-align: right;\">\n",
       "      <th></th>\n",
       "      <th>article_id</th>\n",
       "      <th>tokens</th>\n",
       "      <th>label</th>\n",
       "    </tr>\n",
       "  </thead>\n",
       "  <tbody>\n",
       "    <tr>\n",
       "      <th>0</th>\n",
       "      <td>5cdd971b896a7fea062d6e3d</td>\n",
       "      <td>Esta defesa do indefensável é particularmente ...</td>\n",
       "      <td>Value(-)</td>\n",
       "    </tr>\n",
       "    <tr>\n",
       "      <th>1</th>\n",
       "      <td>5cdd971b896a7fea062d6e3d</td>\n",
       "      <td>Já de si isto seria problemático em termos ped...</td>\n",
       "      <td>Value</td>\n",
       "    </tr>\n",
       "    <tr>\n",
       "      <th>2</th>\n",
       "      <td>5cdd971b896a7fea062d6e3d</td>\n",
       "      <td>Já de si isto seria problemático em termos ped...</td>\n",
       "      <td>Value(-)</td>\n",
       "    </tr>\n",
       "    <tr>\n",
       "      <th>3</th>\n",
       "      <td>5cdd971b896a7fea062d6e3d</td>\n",
       "      <td>a PE parece presumir que em relação a esse per...</td>\n",
       "      <td>Value</td>\n",
       "    </tr>\n",
       "    <tr>\n",
       "      <th>4</th>\n",
       "      <td>5cdd971b896a7fea062d6e3d</td>\n",
       "      <td>a ocasião propicia um debate amplo na sociedad...</td>\n",
       "      <td>Value</td>\n",
       "    </tr>\n",
       "    <tr>\n",
       "      <th>...</th>\n",
       "      <td>...</td>\n",
       "      <td>...</td>\n",
       "      <td>...</td>\n",
       "    </tr>\n",
       "    <tr>\n",
       "      <th>4908</th>\n",
       "      <td>5d04c671896a7fea06a11275</td>\n",
       "      <td>Uma coisa é o futebol outra é Deus</td>\n",
       "      <td>Fact</td>\n",
       "    </tr>\n",
       "    <tr>\n",
       "      <th>4909</th>\n",
       "      <td>5d04c671896a7fea06a11275</td>\n",
       "      <td>Uma coisa é o futebol outra é Deus</td>\n",
       "      <td>Value</td>\n",
       "    </tr>\n",
       "    <tr>\n",
       "      <th>4910</th>\n",
       "      <td>5d04c671896a7fea06a11275</td>\n",
       "      <td>abster-se de participar em órgãos sociais do s...</td>\n",
       "      <td>Policy</td>\n",
       "    </tr>\n",
       "    <tr>\n",
       "      <th>4911</th>\n",
       "      <td>5d04c671896a7fea06a11275</td>\n",
       "      <td>abster-se de participar em órgãos sociais do s...</td>\n",
       "      <td>Value</td>\n",
       "    </tr>\n",
       "    <tr>\n",
       "      <th>4912</th>\n",
       "      <td>5d04c671896a7fea06a11275</td>\n",
       "      <td>É completamente descabido misturar religião co...</td>\n",
       "      <td>Value(-)</td>\n",
       "    </tr>\n",
       "  </tbody>\n",
       "</table>\n",
       "<p>4913 rows × 3 columns</p>\n",
       "</div>"
      ],
      "text/plain": [
       "                    article_id  \\\n",
       "0     5cdd971b896a7fea062d6e3d   \n",
       "1     5cdd971b896a7fea062d6e3d   \n",
       "2     5cdd971b896a7fea062d6e3d   \n",
       "3     5cdd971b896a7fea062d6e3d   \n",
       "4     5cdd971b896a7fea062d6e3d   \n",
       "...                        ...   \n",
       "4908  5d04c671896a7fea06a11275   \n",
       "4909  5d04c671896a7fea06a11275   \n",
       "4910  5d04c671896a7fea06a11275   \n",
       "4911  5d04c671896a7fea06a11275   \n",
       "4912  5d04c671896a7fea06a11275   \n",
       "\n",
       "                                                 tokens     label  \n",
       "0     Esta defesa do indefensável é particularmente ...  Value(-)  \n",
       "1     Já de si isto seria problemático em termos ped...     Value  \n",
       "2     Já de si isto seria problemático em termos ped...  Value(-)  \n",
       "3     a PE parece presumir que em relação a esse per...     Value  \n",
       "4     a ocasião propicia um debate amplo na sociedad...     Value  \n",
       "...                                                 ...       ...  \n",
       "4908                 Uma coisa é o futebol outra é Deus      Fact  \n",
       "4909                 Uma coisa é o futebol outra é Deus     Value  \n",
       "4910  abster-se de participar em órgãos sociais do s...    Policy  \n",
       "4911  abster-se de participar em órgãos sociais do s...     Value  \n",
       "4912  É completamente descabido misturar religião co...  Value(-)  \n",
       "\n",
       "[4913 rows x 3 columns]"
      ]
     },
     "execution_count": 11,
     "metadata": {},
     "output_type": "execute_result"
    }
   ],
   "source": [
    "modes = duplicated_adus.groupby(by=[\"article_id\", \"tokens\"])[\"label\"].apply(pd.Series.mode).reset_index(level=2, drop=True).reset_index()\n",
    "modes"
   ]
  },
  {
   "cell_type": "markdown",
   "metadata": {},
   "source": [
    "Check for ADUs with more than one mode"
   ]
  },
  {
   "cell_type": "code",
   "execution_count": 12,
   "metadata": {},
   "outputs": [
    {
     "data": {
      "text/html": [
       "<div>\n",
       "<style scoped>\n",
       "    .dataframe tbody tr th:only-of-type {\n",
       "        vertical-align: middle;\n",
       "    }\n",
       "\n",
       "    .dataframe tbody tr th {\n",
       "        vertical-align: top;\n",
       "    }\n",
       "\n",
       "    .dataframe thead th {\n",
       "        text-align: right;\n",
       "    }\n",
       "</style>\n",
       "<table border=\"1\" class=\"dataframe\">\n",
       "  <thead>\n",
       "    <tr style=\"text-align: right;\">\n",
       "      <th></th>\n",
       "      <th>article_id</th>\n",
       "      <th>tokens</th>\n",
       "      <th>label</th>\n",
       "    </tr>\n",
       "  </thead>\n",
       "  <tbody>\n",
       "    <tr>\n",
       "      <th>1</th>\n",
       "      <td>5cdd971b896a7fea062d6e3d</td>\n",
       "      <td>Já de si isto seria problemático em termos ped...</td>\n",
       "      <td>Value</td>\n",
       "    </tr>\n",
       "    <tr>\n",
       "      <th>2</th>\n",
       "      <td>5cdd971b896a7fea062d6e3d</td>\n",
       "      <td>Já de si isto seria problemático em termos ped...</td>\n",
       "      <td>Value(-)</td>\n",
       "    </tr>\n",
       "    <tr>\n",
       "      <th>4</th>\n",
       "      <td>5cdd971b896a7fea062d6e3d</td>\n",
       "      <td>a ocasião propicia um debate amplo na sociedad...</td>\n",
       "      <td>Value</td>\n",
       "    </tr>\n",
       "    <tr>\n",
       "      <th>5</th>\n",
       "      <td>5cdd971b896a7fea062d6e3d</td>\n",
       "      <td>a ocasião propicia um debate amplo na sociedad...</td>\n",
       "      <td>Value(+)</td>\n",
       "    </tr>\n",
       "    <tr>\n",
       "      <th>11</th>\n",
       "      <td>5cdd971b896a7fea062d6e3d</td>\n",
       "      <td>os autores do livro naturalizam a escravização...</td>\n",
       "      <td>Value</td>\n",
       "    </tr>\n",
       "    <tr>\n",
       "      <th>...</th>\n",
       "      <td>...</td>\n",
       "      <td>...</td>\n",
       "      <td>...</td>\n",
       "    </tr>\n",
       "    <tr>\n",
       "      <th>4895</th>\n",
       "      <td>5d04c590896a7fea06a0fc78</td>\n",
       "      <td>Carismático</td>\n",
       "      <td>Value(+)</td>\n",
       "    </tr>\n",
       "    <tr>\n",
       "      <th>4908</th>\n",
       "      <td>5d04c671896a7fea06a11275</td>\n",
       "      <td>Uma coisa é o futebol outra é Deus</td>\n",
       "      <td>Fact</td>\n",
       "    </tr>\n",
       "    <tr>\n",
       "      <th>4909</th>\n",
       "      <td>5d04c671896a7fea06a11275</td>\n",
       "      <td>Uma coisa é o futebol outra é Deus</td>\n",
       "      <td>Value</td>\n",
       "    </tr>\n",
       "    <tr>\n",
       "      <th>4910</th>\n",
       "      <td>5d04c671896a7fea06a11275</td>\n",
       "      <td>abster-se de participar em órgãos sociais do s...</td>\n",
       "      <td>Policy</td>\n",
       "    </tr>\n",
       "    <tr>\n",
       "      <th>4911</th>\n",
       "      <td>5d04c671896a7fea06a11275</td>\n",
       "      <td>abster-se de participar em órgãos sociais do s...</td>\n",
       "      <td>Value</td>\n",
       "    </tr>\n",
       "  </tbody>\n",
       "</table>\n",
       "<p>2417 rows × 3 columns</p>\n",
       "</div>"
      ],
      "text/plain": [
       "                    article_id  \\\n",
       "1     5cdd971b896a7fea062d6e3d   \n",
       "2     5cdd971b896a7fea062d6e3d   \n",
       "4     5cdd971b896a7fea062d6e3d   \n",
       "5     5cdd971b896a7fea062d6e3d   \n",
       "11    5cdd971b896a7fea062d6e3d   \n",
       "...                        ...   \n",
       "4895  5d04c590896a7fea06a0fc78   \n",
       "4908  5d04c671896a7fea06a11275   \n",
       "4909  5d04c671896a7fea06a11275   \n",
       "4910  5d04c671896a7fea06a11275   \n",
       "4911  5d04c671896a7fea06a11275   \n",
       "\n",
       "                                                 tokens     label  \n",
       "1     Já de si isto seria problemático em termos ped...     Value  \n",
       "2     Já de si isto seria problemático em termos ped...  Value(-)  \n",
       "4     a ocasião propicia um debate amplo na sociedad...     Value  \n",
       "5     a ocasião propicia um debate amplo na sociedad...  Value(+)  \n",
       "11    os autores do livro naturalizam a escravização...     Value  \n",
       "...                                                 ...       ...  \n",
       "4895                                        Carismático  Value(+)  \n",
       "4908                 Uma coisa é o futebol outra é Deus      Fact  \n",
       "4909                 Uma coisa é o futebol outra é Deus     Value  \n",
       "4910  abster-se de participar em órgãos sociais do s...    Policy  \n",
       "4911  abster-se de participar em órgãos sociais do s...     Value  \n",
       "\n",
       "[2417 rows x 3 columns]"
      ]
     },
     "execution_count": 12,
     "metadata": {},
     "output_type": "execute_result"
    }
   ],
   "source": [
    "modes[(modes.groupby(by=[\"article_id\", \"tokens\"]).transform(\"count\") > 1)[\"label\"]]"
   ]
  },
  {
   "cell_type": "markdown",
   "metadata": {},
   "source": [
    "ADUs with one mode only"
   ]
  },
  {
   "cell_type": "code",
   "execution_count": 13,
   "metadata": {},
   "outputs": [
    {
     "data": {
      "text/html": [
       "<div>\n",
       "<style scoped>\n",
       "    .dataframe tbody tr th:only-of-type {\n",
       "        vertical-align: middle;\n",
       "    }\n",
       "\n",
       "    .dataframe tbody tr th {\n",
       "        vertical-align: top;\n",
       "    }\n",
       "\n",
       "    .dataframe thead th {\n",
       "        text-align: right;\n",
       "    }\n",
       "</style>\n",
       "<table border=\"1\" class=\"dataframe\">\n",
       "  <thead>\n",
       "    <tr style=\"text-align: right;\">\n",
       "      <th></th>\n",
       "      <th>article_id</th>\n",
       "      <th>tokens</th>\n",
       "      <th>label</th>\n",
       "    </tr>\n",
       "  </thead>\n",
       "  <tbody>\n",
       "    <tr>\n",
       "      <th>0</th>\n",
       "      <td>5cdd971b896a7fea062d6e3d</td>\n",
       "      <td>Esta defesa do indefensável é particularmente ...</td>\n",
       "      <td>Value(-)</td>\n",
       "    </tr>\n",
       "    <tr>\n",
       "      <th>3</th>\n",
       "      <td>5cdd971b896a7fea062d6e3d</td>\n",
       "      <td>a PE parece presumir que em relação a esse per...</td>\n",
       "      <td>Value</td>\n",
       "    </tr>\n",
       "    <tr>\n",
       "      <th>6</th>\n",
       "      <td>5cdd971b896a7fea062d6e3d</td>\n",
       "      <td>basta consultarmos uma fonte incontornável par...</td>\n",
       "      <td>Value</td>\n",
       "    </tr>\n",
       "    <tr>\n",
       "      <th>7</th>\n",
       "      <td>5cdd971b896a7fea062d6e3d</td>\n",
       "      <td>ensinar a mentira histórica não é compatível c...</td>\n",
       "      <td>Value</td>\n",
       "    </tr>\n",
       "    <tr>\n",
       "      <th>8</th>\n",
       "      <td>5cdd971b896a7fea062d6e3d</td>\n",
       "      <td>esta questão ter [justificadamente] despertado...</td>\n",
       "      <td>Value</td>\n",
       "    </tr>\n",
       "    <tr>\n",
       "      <th>...</th>\n",
       "      <td>...</td>\n",
       "      <td>...</td>\n",
       "      <td>...</td>\n",
       "    </tr>\n",
       "    <tr>\n",
       "      <th>4904</th>\n",
       "      <td>5d04c590896a7fea06a0fc78</td>\n",
       "      <td>motivador nato</td>\n",
       "      <td>Value(+)</td>\n",
       "    </tr>\n",
       "    <tr>\n",
       "      <th>4905</th>\n",
       "      <td>5d04c590896a7fea06a0fc78</td>\n",
       "      <td>verdadeiro</td>\n",
       "      <td>Value(+)</td>\n",
       "    </tr>\n",
       "    <tr>\n",
       "      <th>4906</th>\n",
       "      <td>5d04c671896a7fea06a11275</td>\n",
       "      <td>Um presidente de câmara pode pertencer à admin...</td>\n",
       "      <td>Value</td>\n",
       "    </tr>\n",
       "    <tr>\n",
       "      <th>4907</th>\n",
       "      <td>5d04c671896a7fea06a11275</td>\n",
       "      <td>Um presidente de câmara pode ter a sua preferê...</td>\n",
       "      <td>Value</td>\n",
       "    </tr>\n",
       "    <tr>\n",
       "      <th>4912</th>\n",
       "      <td>5d04c671896a7fea06a11275</td>\n",
       "      <td>É completamente descabido misturar religião co...</td>\n",
       "      <td>Value(-)</td>\n",
       "    </tr>\n",
       "  </tbody>\n",
       "</table>\n",
       "<p>2496 rows × 3 columns</p>\n",
       "</div>"
      ],
      "text/plain": [
       "                    article_id  \\\n",
       "0     5cdd971b896a7fea062d6e3d   \n",
       "3     5cdd971b896a7fea062d6e3d   \n",
       "6     5cdd971b896a7fea062d6e3d   \n",
       "7     5cdd971b896a7fea062d6e3d   \n",
       "8     5cdd971b896a7fea062d6e3d   \n",
       "...                        ...   \n",
       "4904  5d04c590896a7fea06a0fc78   \n",
       "4905  5d04c590896a7fea06a0fc78   \n",
       "4906  5d04c671896a7fea06a11275   \n",
       "4907  5d04c671896a7fea06a11275   \n",
       "4912  5d04c671896a7fea06a11275   \n",
       "\n",
       "                                                 tokens     label  \n",
       "0     Esta defesa do indefensável é particularmente ...  Value(-)  \n",
       "3     a PE parece presumir que em relação a esse per...     Value  \n",
       "6     basta consultarmos uma fonte incontornável par...     Value  \n",
       "7     ensinar a mentira histórica não é compatível c...     Value  \n",
       "8     esta questão ter [justificadamente] despertado...     Value  \n",
       "...                                                 ...       ...  \n",
       "4904                                     motivador nato  Value(+)  \n",
       "4905                                         verdadeiro  Value(+)  \n",
       "4906  Um presidente de câmara pode pertencer à admin...     Value  \n",
       "4907  Um presidente de câmara pode ter a sua preferê...     Value  \n",
       "4912  É completamente descabido misturar religião co...  Value(-)  \n",
       "\n",
       "[2496 rows x 3 columns]"
      ]
     },
     "execution_count": 13,
     "metadata": {},
     "output_type": "execute_result"
    }
   ],
   "source": [
    "adus_majority = modes[(modes.groupby(by=[\"article_id\", \"tokens\"]).transform(\"count\") == 1)[\"label\"]]\n",
    "adus_majority"
   ]
  },
  {
   "cell_type": "code",
   "execution_count": 14,
   "metadata": {},
   "outputs": [
    {
     "name": "stdout",
     "output_type": "stream",
     "text": [
      "Label Ratios\n",
      "Value       0.534856\n",
      "Value(-)    0.177083\n",
      "Fact        0.166667\n",
      "Value(+)    0.075721\n",
      "Policy      0.045673\n",
      "Name: label, dtype: float64\n"
     ]
    },
    {
     "data": {
      "image/png": "[encoded data removed]",
      "text/plain": [
       "<Figure size 432x288 with 1 Axes>"
      ]
     },
     "metadata": {
      "needs_background": "light"
     },
     "output_type": "display_data"
    },
    {
     "data": {
      "text/plain": [
       "<Figure size 432x288 with 0 Axes>"
      ]
     },
     "metadata": {},
     "output_type": "display_data"
    }
   ],
   "source": [
    "print(\"Label Ratios\")\n",
    "print(adus_majority[\"label\"].value_counts() / len(adus_majority[\"label\"]))\n",
    "\n",
    "fig, ax = plt.subplots()\n",
    "sns.countplot(data=adus_majority, x=\"label\", ax=ax, order=[\"Value\", \"Fact\", \"Value(-)\", \"Value(+)\", \"Policy\"])\n",
    "ax.set_title(\"Distribution of labels on majority-won ADUs\")\n",
    "ax.set_xlabel(\"Label\")\n",
    "ax.set_ylabel(\"Count\")\n",
    "fig.savefig(f\"{OUT_DIR}/adus_majority_label_distribution.png\", dpi=150, bbox_inches='tight')\n",
    "plt.show()\n",
    "plt.clf()"
   ]
  },
  {
   "cell_type": "markdown",
   "metadata": {},
   "source": [
    "Merge into a single dataset containing only unique ADUs and the ADUs that won by majority"
   ]
  },
  {
   "cell_type": "code",
   "execution_count": 15,
   "metadata": {},
   "outputs": [],
   "source": [
    "def get_index(row):\n",
    "    articleId = row[\"article_id\"]\n",
    "    tokens = row[\"tokens\"]\n",
    "    label = row[\"label\"]\n",
    "    \n",
    "    index = adus[(adus[\"article_id\"] == articleId) & (adus[\"tokens\"] == tokens) & (adus[\"label\"] == label)].iloc[0][\"index\"]\n",
    "\n",
    "    return [index, articleId, tokens, label]\n",
    "    \n",
    "\n",
    "adus_majority = adus_majority.apply(get_index, axis=1, result_type=\"expand\").rename(columns={0:\"index\", 1:\"article_id\", 2:\"tokens\", 3:\"label\"})"
   ]
  },
  {
   "cell_type": "code",
   "execution_count": 16,
   "metadata": {},
   "outputs": [
    {
     "data": {
      "text/html": [
       "<div>\n",
       "<style scoped>\n",
       "    .dataframe tbody tr th:only-of-type {\n",
       "        vertical-align: middle;\n",
       "    }\n",
       "\n",
       "    .dataframe tbody tr th {\n",
       "        vertical-align: top;\n",
       "    }\n",
       "\n",
       "    .dataframe thead th {\n",
       "        text-align: right;\n",
       "    }\n",
       "</style>\n",
       "<table border=\"1\" class=\"dataframe\">\n",
       "  <thead>\n",
       "    <tr style=\"text-align: right;\">\n",
       "      <th></th>\n",
       "      <th>index</th>\n",
       "      <th>article_id</th>\n",
       "      <th>tokens</th>\n",
       "      <th>label</th>\n",
       "    </tr>\n",
       "  </thead>\n",
       "  <tbody>\n",
       "    <tr>\n",
       "      <th>4</th>\n",
       "      <td>4</td>\n",
       "      <td>5d04a31b896a7fea069ef06f</td>\n",
       "      <td>não nos fazem rir à custa dos poderosos</td>\n",
       "      <td>Value</td>\n",
       "    </tr>\n",
       "    <tr>\n",
       "      <th>5</th>\n",
       "      <td>5</td>\n",
       "      <td>5d04a31b896a7fea069ef06f</td>\n",
       "      <td>alguém os convenceu de que devem ter como crit...</td>\n",
       "      <td>Value</td>\n",
       "    </tr>\n",
       "    <tr>\n",
       "      <th>8</th>\n",
       "      <td>8</td>\n",
       "      <td>5d04a31b896a7fea069ef06f</td>\n",
       "      <td>toda a comunidade jornalística continua a trat...</td>\n",
       "      <td>Value</td>\n",
       "    </tr>\n",
       "    <tr>\n",
       "      <th>9</th>\n",
       "      <td>9</td>\n",
       "      <td>5d04a31b896a7fea069ef06f</td>\n",
       "      <td>“o Portugal que morre” morre anónimo e esqueci...</td>\n",
       "      <td>Value(-)</td>\n",
       "    </tr>\n",
       "    <tr>\n",
       "      <th>10</th>\n",
       "      <td>10</td>\n",
       "      <td>5d04a31b896a7fea069ef06f</td>\n",
       "      <td>Há no discurso político uma tal preocupação co...</td>\n",
       "      <td>Value(-)</td>\n",
       "    </tr>\n",
       "    <tr>\n",
       "      <th>...</th>\n",
       "      <td>...</td>\n",
       "      <td>...</td>\n",
       "      <td>...</td>\n",
       "      <td>...</td>\n",
       "    </tr>\n",
       "    <tr>\n",
       "      <th>4904</th>\n",
       "      <td>1915</td>\n",
       "      <td>5d04c590896a7fea06a0fc78</td>\n",
       "      <td>motivador nato</td>\n",
       "      <td>Value(+)</td>\n",
       "    </tr>\n",
       "    <tr>\n",
       "      <th>4905</th>\n",
       "      <td>1913</td>\n",
       "      <td>5d04c590896a7fea06a0fc78</td>\n",
       "      <td>verdadeiro</td>\n",
       "      <td>Value(+)</td>\n",
       "    </tr>\n",
       "    <tr>\n",
       "      <th>4906</th>\n",
       "      <td>1935</td>\n",
       "      <td>5d04c671896a7fea06a11275</td>\n",
       "      <td>Um presidente de câmara pode pertencer à admin...</td>\n",
       "      <td>Value</td>\n",
       "    </tr>\n",
       "    <tr>\n",
       "      <th>4907</th>\n",
       "      <td>1938</td>\n",
       "      <td>5d04c671896a7fea06a11275</td>\n",
       "      <td>Um presidente de câmara pode ter a sua preferê...</td>\n",
       "      <td>Value</td>\n",
       "    </tr>\n",
       "    <tr>\n",
       "      <th>4912</th>\n",
       "      <td>1943</td>\n",
       "      <td>5d04c671896a7fea06a11275</td>\n",
       "      <td>É completamente descabido misturar religião co...</td>\n",
       "      <td>Value(-)</td>\n",
       "    </tr>\n",
       "  </tbody>\n",
       "</table>\n",
       "<p>10838 rows × 4 columns</p>\n",
       "</div>"
      ],
      "text/plain": [
       "      index                article_id  \\\n",
       "4         4  5d04a31b896a7fea069ef06f   \n",
       "5         5  5d04a31b896a7fea069ef06f   \n",
       "8         8  5d04a31b896a7fea069ef06f   \n",
       "9         9  5d04a31b896a7fea069ef06f   \n",
       "10       10  5d04a31b896a7fea069ef06f   \n",
       "...     ...                       ...   \n",
       "4904   1915  5d04c590896a7fea06a0fc78   \n",
       "4905   1913  5d04c590896a7fea06a0fc78   \n",
       "4906   1935  5d04c671896a7fea06a11275   \n",
       "4907   1938  5d04c671896a7fea06a11275   \n",
       "4912   1943  5d04c671896a7fea06a11275   \n",
       "\n",
       "                                                 tokens     label  \n",
       "4               não nos fazem rir à custa dos poderosos     Value  \n",
       "5     alguém os convenceu de que devem ter como crit...     Value  \n",
       "8     toda a comunidade jornalística continua a trat...     Value  \n",
       "9     “o Portugal que morre” morre anónimo e esqueci...  Value(-)  \n",
       "10    Há no discurso político uma tal preocupação co...  Value(-)  \n",
       "...                                                 ...       ...  \n",
       "4904                                     motivador nato  Value(+)  \n",
       "4905                                         verdadeiro  Value(+)  \n",
       "4906  Um presidente de câmara pode pertencer à admin...     Value  \n",
       "4907  Um presidente de câmara pode ter a sua preferê...     Value  \n",
       "4912  É completamente descabido misturar religião co...  Value(-)  \n",
       "\n",
       "[10838 rows x 4 columns]"
      ]
     },
     "execution_count": 16,
     "metadata": {},
     "output_type": "execute_result"
    }
   ],
   "source": [
    "final_adus = pd.concat([unique_adus[[\"index\", \"article_id\", \"tokens\", \"label\"]], adus_majority])\n",
    "\n",
    "final_adus"
   ]
  },
  {
   "cell_type": "code",
   "execution_count": 17,
   "metadata": {},
   "outputs": [
    {
     "name": "stdout",
     "output_type": "stream",
     "text": [
      "Label Ratios\n",
      "Value       0.488190\n",
      "Fact        0.217845\n",
      "Value(-)    0.172726\n",
      "Value(+)    0.081934\n",
      "Policy      0.039306\n",
      "Name: label, dtype: float64\n"
     ]
    },
    {
     "data": {
      "image/png": "[encoded data removed]",
      "text/plain": [
       "<Figure size 432x288 with 1 Axes>"
      ]
     },
     "metadata": {
      "needs_background": "light"
     },
     "output_type": "display_data"
    },
    {
     "data": {
      "text/plain": [
       "<Figure size 432x288 with 0 Axes>"
      ]
     },
     "metadata": {},
     "output_type": "display_data"
    }
   ],
   "source": [
    "print(\"Label Ratios\")\n",
    "print(final_adus[\"label\"].value_counts() / len(final_adus[\"label\"]))\n",
    "\n",
    "fig, ax = plt.subplots()\n",
    "sns.countplot(data=final_adus, x=\"label\", ax=ax, order=[\"Value\", \"Fact\", \"Value(-)\", \"Value(+)\", \"Policy\"])\n",
    "ax.set_title(\"Distribution of labels on final ADUs\")\n",
    "ax.set_xlabel(\"Label\")\n",
    "ax.set_ylabel(\"Count\")\n",
    "fig.savefig(f\"{OUT_DIR}/final_label_distribution_full.png\", dpi=150, bbox_inches='tight')\n",
    "plt.show()\n",
    "plt.clf()"
   ]
  },
  {
   "cell_type": "markdown",
   "metadata": {},
   "source": [
    "Encode Labels"
   ]
  },
  {
   "cell_type": "code",
   "execution_count": 18,
   "metadata": {},
   "outputs": [
    {
     "data": {
      "text/html": [
       "<div>\n",
       "<style scoped>\n",
       "    .dataframe tbody tr th:only-of-type {\n",
       "        vertical-align: middle;\n",
       "    }\n",
       "\n",
       "    .dataframe tbody tr th {\n",
       "        vertical-align: top;\n",
       "    }\n",
       "\n",
       "    .dataframe thead th {\n",
       "        text-align: right;\n",
       "    }\n",
       "</style>\n",
       "<table border=\"1\" class=\"dataframe\">\n",
       "  <thead>\n",
       "    <tr style=\"text-align: right;\">\n",
       "      <th></th>\n",
       "      <th>index</th>\n",
       "      <th>article_id</th>\n",
       "      <th>tokens</th>\n",
       "      <th>label</th>\n",
       "    </tr>\n",
       "  </thead>\n",
       "  <tbody>\n",
       "    <tr>\n",
       "      <th>4</th>\n",
       "      <td>4</td>\n",
       "      <td>5d04a31b896a7fea069ef06f</td>\n",
       "      <td>não nos fazem rir à custa dos poderosos</td>\n",
       "      <td>2</td>\n",
       "    </tr>\n",
       "    <tr>\n",
       "      <th>5</th>\n",
       "      <td>5</td>\n",
       "      <td>5d04a31b896a7fea069ef06f</td>\n",
       "      <td>alguém os convenceu de que devem ter como crit...</td>\n",
       "      <td>2</td>\n",
       "    </tr>\n",
       "    <tr>\n",
       "      <th>8</th>\n",
       "      <td>8</td>\n",
       "      <td>5d04a31b896a7fea069ef06f</td>\n",
       "      <td>toda a comunidade jornalística continua a trat...</td>\n",
       "      <td>2</td>\n",
       "    </tr>\n",
       "    <tr>\n",
       "      <th>9</th>\n",
       "      <td>9</td>\n",
       "      <td>5d04a31b896a7fea069ef06f</td>\n",
       "      <td>“o Portugal que morre” morre anónimo e esqueci...</td>\n",
       "      <td>4</td>\n",
       "    </tr>\n",
       "    <tr>\n",
       "      <th>10</th>\n",
       "      <td>10</td>\n",
       "      <td>5d04a31b896a7fea069ef06f</td>\n",
       "      <td>Há no discurso político uma tal preocupação co...</td>\n",
       "      <td>4</td>\n",
       "    </tr>\n",
       "    <tr>\n",
       "      <th>...</th>\n",
       "      <td>...</td>\n",
       "      <td>...</td>\n",
       "      <td>...</td>\n",
       "      <td>...</td>\n",
       "    </tr>\n",
       "    <tr>\n",
       "      <th>4904</th>\n",
       "      <td>1915</td>\n",
       "      <td>5d04c590896a7fea06a0fc78</td>\n",
       "      <td>motivador nato</td>\n",
       "      <td>3</td>\n",
       "    </tr>\n",
       "    <tr>\n",
       "      <th>4905</th>\n",
       "      <td>1913</td>\n",
       "      <td>5d04c590896a7fea06a0fc78</td>\n",
       "      <td>verdadeiro</td>\n",
       "      <td>3</td>\n",
       "    </tr>\n",
       "    <tr>\n",
       "      <th>4906</th>\n",
       "      <td>1935</td>\n",
       "      <td>5d04c671896a7fea06a11275</td>\n",
       "      <td>Um presidente de câmara pode pertencer à admin...</td>\n",
       "      <td>2</td>\n",
       "    </tr>\n",
       "    <tr>\n",
       "      <th>4907</th>\n",
       "      <td>1938</td>\n",
       "      <td>5d04c671896a7fea06a11275</td>\n",
       "      <td>Um presidente de câmara pode ter a sua preferê...</td>\n",
       "      <td>2</td>\n",
       "    </tr>\n",
       "    <tr>\n",
       "      <th>4912</th>\n",
       "      <td>1943</td>\n",
       "      <td>5d04c671896a7fea06a11275</td>\n",
       "      <td>É completamente descabido misturar religião co...</td>\n",
       "      <td>4</td>\n",
       "    </tr>\n",
       "  </tbody>\n",
       "</table>\n",
       "<p>10838 rows × 4 columns</p>\n",
       "</div>"
      ],
      "text/plain": [
       "      index                article_id  \\\n",
       "4         4  5d04a31b896a7fea069ef06f   \n",
       "5         5  5d04a31b896a7fea069ef06f   \n",
       "8         8  5d04a31b896a7fea069ef06f   \n",
       "9         9  5d04a31b896a7fea069ef06f   \n",
       "10       10  5d04a31b896a7fea069ef06f   \n",
       "...     ...                       ...   \n",
       "4904   1915  5d04c590896a7fea06a0fc78   \n",
       "4905   1913  5d04c590896a7fea06a0fc78   \n",
       "4906   1935  5d04c671896a7fea06a11275   \n",
       "4907   1938  5d04c671896a7fea06a11275   \n",
       "4912   1943  5d04c671896a7fea06a11275   \n",
       "\n",
       "                                                 tokens  label  \n",
       "4               não nos fazem rir à custa dos poderosos      2  \n",
       "5     alguém os convenceu de que devem ter como crit...      2  \n",
       "8     toda a comunidade jornalística continua a trat...      2  \n",
       "9     “o Portugal que morre” morre anónimo e esqueci...      4  \n",
       "10    Há no discurso político uma tal preocupação co...      4  \n",
       "...                                                 ...    ...  \n",
       "4904                                     motivador nato      3  \n",
       "4905                                         verdadeiro      3  \n",
       "4906  Um presidente de câmara pode pertencer à admin...      2  \n",
       "4907  Um presidente de câmara pode ter a sua preferê...      2  \n",
       "4912  É completamente descabido misturar religião co...      4  \n",
       "\n",
       "[10838 rows x 4 columns]"
      ]
     },
     "execution_count": 18,
     "metadata": {},
     "output_type": "execute_result"
    }
   ],
   "source": [
    "classes = [\"Fact\", \"Policy\", \"Value\", \"Value(+)\", \"Value(-)\"]\n",
    "N_CLASSES = len(classes)\n",
    "from sklearn.preprocessing import LabelEncoder\n",
    "le = LabelEncoder()\n",
    "final_adus[\"label\"] = le.fit_transform(final_adus[\"label\"])\n",
    "\n",
    "final_adus"
   ]
  },
  {
   "cell_type": "markdown",
   "metadata": {},
   "source": [
    "# Create Train, Validation and Test splits"
   ]
  },
  {
   "cell_type": "code",
   "execution_count": 19,
   "metadata": {},
   "outputs": [
    {
     "name": "stdout",
     "output_type": "stream",
     "text": [
      "Train Label Ratios\n",
      "Value       0.488178\n",
      "Fact        0.217849\n",
      "Value(-)    0.172722\n",
      "Value(+)    0.081892\n",
      "Policy      0.039360\n",
      "dtype: float64\n",
      "Validation Label Ratios\n",
      "Value       0.492172\n",
      "Fact        0.216474\n",
      "Value(-)    0.173587\n",
      "Value(+)    0.080327\n",
      "Policy      0.037440\n",
      "dtype: float64\n",
      "Test Label Ratios\n",
      "Value       0.491886\n",
      "Fact        0.219922\n",
      "Value(-)    0.169558\n",
      "Value(+)    0.080022\n",
      "Policy      0.038612\n",
      "dtype: float64\n"
     ]
    },
    {
     "data": {
      "image/png": "[encoded data removed]",
      "text/plain": [
       "<Figure size 1152x288 with 3 Axes>"
      ]
     },
     "metadata": {
      "needs_background": "light"
     },
     "output_type": "display_data"
    },
    {
     "data": {
      "text/plain": [
       "<Figure size 432x288 with 0 Axes>"
      ]
     },
     "metadata": {},
     "output_type": "display_data"
    }
   ],
   "source": [
    "# Maintain the ratios of labels across splits\n",
    "train_val_adus = final_adus.groupby(\"label\").sample(frac=0.8, random_state=SEED)\n",
    "test_adus = final_adus.loc[final_adus.index.difference(train_val_adus.index)]\n",
    "\n",
    "train_adus = train_val_adus.groupby(\"label\").sample(frac=0.8, random_state=SEED)\n",
    "val_adus = train_val_adus.loc[train_val_adus.index.difference(train_adus.index)]\n",
    "\n",
    "fig, (train_ax, val_ax, test_ax) = plt.subplots(figsize=(16, 4), ncols=3)\n",
    "for split, df, ax in zip([\"Train\", \"Validation\", \"Test\"], [train_adus, val_adus, test_adus], [train_ax, val_ax, test_ax]):\n",
    "    df_labels = le.inverse_transform(df[\"label\"])\n",
    "    sns.countplot(x=df_labels, ax=ax, order=[\"Value\", \"Fact\", \"Value(-)\", \"Value(+)\", \"Policy\"])\n",
    "    ax.set_title(f\"Distribution of labels on {split} ADUs\")\n",
    "    ax.set_xlabel(\"Label\")\n",
    "    ax.set_ylabel(\"Count\")\n",
    "    \n",
    "    print(f\"{split} Label Ratios\")\n",
    "    print(pd.Series(df_labels).value_counts() / len(df_labels))\n",
    "fig.savefig(f\"{OUT_DIR}/label_distribution_splits.png\", dpi=150, bbox_inches='tight')\n",
    "plt.show()\n",
    "plt.clf()"
   ]
  },
  {
   "cell_type": "code",
   "execution_count": 20,
   "metadata": {},
   "outputs": [
    {
     "data": {
      "text/html": [
       "<div>\n",
       "<style scoped>\n",
       "    .dataframe tbody tr th:only-of-type {\n",
       "        vertical-align: middle;\n",
       "    }\n",
       "\n",
       "    .dataframe tbody tr th {\n",
       "        vertical-align: top;\n",
       "    }\n",
       "\n",
       "    .dataframe thead th {\n",
       "        text-align: right;\n",
       "    }\n",
       "</style>\n",
       "<table border=\"1\" class=\"dataframe\">\n",
       "  <thead>\n",
       "    <tr style=\"text-align: right;\">\n",
       "      <th></th>\n",
       "      <th>index</th>\n",
       "      <th>article_id</th>\n",
       "      <th>tokens</th>\n",
       "      <th>label</th>\n",
       "    </tr>\n",
       "  </thead>\n",
       "  <tbody>\n",
       "    <tr>\n",
       "      <th>5684</th>\n",
       "      <td>5684</td>\n",
       "      <td>5cf46b97896a7fea0600233c</td>\n",
       "      <td>A Lei, contudo, é cega e igual para todos</td>\n",
       "      <td>0</td>\n",
       "    </tr>\n",
       "    <tr>\n",
       "      <th>4566</th>\n",
       "      <td>791</td>\n",
       "      <td>5d04be5c896a7fea06a07cba</td>\n",
       "      <td>não se pode legislar por resoluções, sejam do ...</td>\n",
       "      <td>0</td>\n",
       "    </tr>\n",
       "    <tr>\n",
       "      <th>6708</th>\n",
       "      <td>6708</td>\n",
       "      <td>5cf4665e896a7fea06ffd932</td>\n",
       "      <td>em 2012, havia “despesa efectiva” e “despesa e...</td>\n",
       "      <td>0</td>\n",
       "    </tr>\n",
       "    <tr>\n",
       "      <th>827</th>\n",
       "      <td>14156</td>\n",
       "      <td>5cf45c2c896a7fea06ff3e2a</td>\n",
       "      <td>O índice de envelhecimento e de dependência de...</td>\n",
       "      <td>0</td>\n",
       "    </tr>\n",
       "    <tr>\n",
       "      <th>8436</th>\n",
       "      <td>8436</td>\n",
       "      <td>5cf463d6896a7fea06ffb4a8</td>\n",
       "      <td>na verdade não ser inteiramente de raiz</td>\n",
       "      <td>0</td>\n",
       "    </tr>\n",
       "    <tr>\n",
       "      <th>...</th>\n",
       "      <td>...</td>\n",
       "      <td>...</td>\n",
       "      <td>...</td>\n",
       "      <td>...</td>\n",
       "    </tr>\n",
       "    <tr>\n",
       "      <th>7533</th>\n",
       "      <td>7533</td>\n",
       "      <td>5cf4650f896a7fea06ffbe46</td>\n",
       "      <td>Dez anos depois da crise, o mercado de trabalh...</td>\n",
       "      <td>4</td>\n",
       "    </tr>\n",
       "    <tr>\n",
       "      <th>1436</th>\n",
       "      <td>11673</td>\n",
       "      <td>5cf45f5e896a7fea06ff68c2</td>\n",
       "      <td>ser uma leviandade reputarem-se estes gastos d...</td>\n",
       "      <td>4</td>\n",
       "    </tr>\n",
       "    <tr>\n",
       "      <th>813</th>\n",
       "      <td>813</td>\n",
       "      <td>5d04be5c896a7fea06a07cba</td>\n",
       "      <td>é, a meu ver, um aborto ortográfico</td>\n",
       "      <td>4</td>\n",
       "    </tr>\n",
       "    <tr>\n",
       "      <th>14472</th>\n",
       "      <td>14472</td>\n",
       "      <td>5cf45b77896a7fea06ff28ff</td>\n",
       "      <td>derrapando, aos empurrões, para um proteccioni...</td>\n",
       "      <td>4</td>\n",
       "    </tr>\n",
       "    <tr>\n",
       "      <th>672</th>\n",
       "      <td>13479</td>\n",
       "      <td>5cf45b99896a7fea06ff2a13</td>\n",
       "      <td>dominação de setores estratégicos nacionais po...</td>\n",
       "      <td>4</td>\n",
       "    </tr>\n",
       "  </tbody>\n",
       "</table>\n",
       "<p>6936 rows × 4 columns</p>\n",
       "</div>"
      ],
      "text/plain": [
       "       index                article_id  \\\n",
       "5684    5684  5cf46b97896a7fea0600233c   \n",
       "4566     791  5d04be5c896a7fea06a07cba   \n",
       "6708    6708  5cf4665e896a7fea06ffd932   \n",
       "827    14156  5cf45c2c896a7fea06ff3e2a   \n",
       "8436    8436  5cf463d6896a7fea06ffb4a8   \n",
       "...      ...                       ...   \n",
       "7533    7533  5cf4650f896a7fea06ffbe46   \n",
       "1436   11673  5cf45f5e896a7fea06ff68c2   \n",
       "813      813  5d04be5c896a7fea06a07cba   \n",
       "14472  14472  5cf45b77896a7fea06ff28ff   \n",
       "672    13479  5cf45b99896a7fea06ff2a13   \n",
       "\n",
       "                                                  tokens  label  \n",
       "5684           A Lei, contudo, é cega e igual para todos      0  \n",
       "4566   não se pode legislar por resoluções, sejam do ...      0  \n",
       "6708   em 2012, havia “despesa efectiva” e “despesa e...      0  \n",
       "827    O índice de envelhecimento e de dependência de...      0  \n",
       "8436             na verdade não ser inteiramente de raiz      0  \n",
       "...                                                  ...    ...  \n",
       "7533   Dez anos depois da crise, o mercado de trabalh...      4  \n",
       "1436   ser uma leviandade reputarem-se estes gastos d...      4  \n",
       "813                  é, a meu ver, um aborto ortográfico      4  \n",
       "14472  derrapando, aos empurrões, para um proteccioni...      4  \n",
       "672    dominação de setores estratégicos nacionais po...      4  \n",
       "\n",
       "[6936 rows x 4 columns]"
      ]
     },
     "execution_count": 20,
     "metadata": {},
     "output_type": "execute_result"
    }
   ],
   "source": [
    "train_adus"
   ]
  },
  {
   "cell_type": "markdown",
   "metadata": {},
   "source": [
    "# Convert Dataset to HF Dataset"
   ]
  },
  {
   "cell_type": "code",
   "execution_count": 21,
   "metadata": {},
   "outputs": [
    {
     "name": "stdout",
     "output_type": "stream",
     "text": [
      "DatasetDict({\n",
      "    train: Dataset({\n",
      "        features: ['index', 'tokens', 'label', 'article_id'],\n",
      "        num_rows: 6936\n",
      "    })\n",
      "    val: Dataset({\n",
      "        features: ['index', 'tokens', 'label', 'article_id'],\n",
      "        num_rows: 1469\n",
      "    })\n",
      "    test: Dataset({\n",
      "        features: ['index', 'tokens', 'label', 'article_id'],\n",
      "        num_rows: 1787\n",
      "    })\n",
      "})\n"
     ]
    }
   ],
   "source": [
    "from datasets.dataset_dict import DatasetDict\n",
    "from datasets import Dataset, DatasetInfo, Features, Value, ClassLabel\n",
    "info = DatasetInfo(\n",
    "    features=Features({\n",
    "        \"index\": Value(\"int64\"),\n",
    "        \"tokens\": Value(\"string\"),\n",
    "        \"label\": ClassLabel(num_classes=N_CLASSES, names=le.classes_.tolist()),\n",
    "        \"article_id\": Value(\"string\"),\n",
    "    })\n",
    ")\n",
    "\n",
    "adus_dataset = DatasetDict({\n",
    "    \"train\": Dataset.from_pandas(train_adus, preserve_index=False, info=info),\n",
    "    \"val\": Dataset.from_pandas(val_adus, preserve_index=False, info=info),\n",
    "    \"test\": Dataset.from_pandas(test_adus, preserve_index=False, info=info)\n",
    "})\n",
    "\n",
    "print(adus_dataset)"
   ]
  },
  {
   "cell_type": "code",
   "execution_count": 22,
   "metadata": {},
   "outputs": [
    {
     "data": {
      "text/plain": [
       "{'index': Value(dtype='int64', id=None),\n",
       " 'tokens': Value(dtype='string', id=None),\n",
       " 'label': ClassLabel(num_classes=5, names=['Fact', 'Policy', 'Value', 'Value(+)', 'Value(-)'], id=None),\n",
       " 'article_id': Value(dtype='string', id=None)}"
      ]
     },
     "execution_count": 22,
     "metadata": {},
     "output_type": "execute_result"
    }
   ],
   "source": [
    "adus_dataset[\"train\"].features"
   ]
  },
  {
   "cell_type": "markdown",
   "metadata": {},
   "source": [
    "Base Tokenizer"
   ]
  },
  {
   "cell_type": "code",
   "execution_count": 23,
   "metadata": {},
   "outputs": [],
   "source": [
    "from transformers import AutoTokenizer\n",
    "\n",
    "tokenizer = AutoTokenizer.from_pretrained('neuralmind/bert-large-portuguese-cased', do_lower_case=True)"
   ]
  },
  {
   "cell_type": "code",
   "execution_count": 24,
   "metadata": {},
   "outputs": [],
   "source": [
    "def tokenize(batch):\n",
    "    result = tokenizer(batch[\"tokens\"])\n",
    "    return result"
   ]
  },
  {
   "cell_type": "code",
   "execution_count": 25,
   "metadata": {},
   "outputs": [
    {
     "data": {
      "application/vnd.jupyter.widget-view+json": {
       "model_id": "6071c70dd00545248d9330116f187b69",
       "version_major": 2,
       "version_minor": 0
      },
      "text/plain": [
       "  0%|          | 0/7 [00:00<?, ?ba/s]"
      ]
     },
     "metadata": {},
     "output_type": "display_data"
    },
    {
     "data": {
      "application/vnd.jupyter.widget-view+json": {
       "model_id": "24310bc55dc64991bb6fa01e66aee92e",
       "version_major": 2,
       "version_minor": 0
      },
      "text/plain": [
       "  0%|          | 0/2 [00:00<?, ?ba/s]"
      ]
     },
     "metadata": {},
     "output_type": "display_data"
    },
    {
     "data": {
      "application/vnd.jupyter.widget-view+json": {
       "model_id": "49a9e765424545198ce154782b089c3b",
       "version_major": 2,
       "version_minor": 0
      },
      "text/plain": [
       "  0%|          | 0/2 [00:00<?, ?ba/s]"
      ]
     },
     "metadata": {},
     "output_type": "display_data"
    },
    {
     "name": "stdout",
     "output_type": "stream",
     "text": [
      "DatasetDict({\n",
      "    train: Dataset({\n",
      "        features: ['index', 'label', 'input_ids', 'token_type_ids', 'attention_mask'],\n",
      "        num_rows: 6936\n",
      "    })\n",
      "    val: Dataset({\n",
      "        features: ['index', 'label', 'input_ids', 'token_type_ids', 'attention_mask'],\n",
      "        num_rows: 1469\n",
      "    })\n",
      "    test: Dataset({\n",
      "        features: ['index', 'label', 'input_ids', 'token_type_ids', 'attention_mask'],\n",
      "        num_rows: 1787\n",
      "    })\n",
      "})\n"
     ]
    }
   ],
   "source": [
    "cls_dataset = adus_dataset.map(\n",
    "    tokenize, batched=True, remove_columns=[\"article_id\", \"tokens\"]\n",
    ")\n",
    "\n",
    "print(cls_dataset)"
   ]
  },
  {
   "cell_type": "markdown",
   "metadata": {},
   "source": [
    "# Define Dataloaders"
   ]
  },
  {
   "cell_type": "code",
   "execution_count": 26,
   "metadata": {},
   "outputs": [],
   "source": [
    "from transformers import DataCollatorWithPadding\n",
    "from torch.utils.data import DataLoader\n",
    "\n",
    "data_collator = DataCollatorWithPadding(tokenizer=tokenizer, return_tensors=\"pt\")\n",
    "\n",
    "BATCH_SIZE = 64 # Tested with NVIDIA Tesla T4 16GB\n",
    "train_dataloader = DataLoader(\n",
    "    dataset=cls_dataset[\"train\"],\n",
    "    shuffle=True,\n",
    "    batch_size=BATCH_SIZE,\n",
    "    collate_fn=data_collator\n",
    ")\n",
    "\n",
    "val_dataloader = DataLoader(\n",
    "    dataset=cls_dataset[\"val\"],\n",
    "    shuffle=False,\n",
    "    batch_size=BATCH_SIZE,\n",
    "    collate_fn=data_collator\n",
    ")\n",
    "\n",
    "test_dataloader = DataLoader(\n",
    "    dataset=cls_dataset[\"test\"],\n",
    "    shuffle=False,\n",
    "    batch_size=1,\n",
    "    collate_fn=data_collator\n",
    ")"
   ]
  },
  {
   "cell_type": "markdown",
   "metadata": {},
   "source": [
    "# Model Definition"
   ]
  },
  {
   "cell_type": "code",
   "execution_count": 27,
   "metadata": {},
   "outputs": [
    {
     "name": "stderr",
     "output_type": "stream",
     "text": [
      "Some weights of the model checkpoint at ./out/language_model/best were not used when initializing BertForSequenceClassification: ['cls.predictions.decoder.bias', 'cls.predictions.decoder.weight', 'cls.predictions.transform.LayerNorm.bias', 'cls.predictions.transform.dense.weight', 'cls.predictions.bias', 'cls.predictions.transform.LayerNorm.weight', 'cls.predictions.transform.dense.bias']\n",
      "- This IS expected if you are initializing BertForSequenceClassification from the checkpoint of a model trained on another task or with another architecture (e.g. initializing a BertForSequenceClassification model from a BertForPreTraining model).\n",
      "- This IS NOT expected if you are initializing BertForSequenceClassification from the checkpoint of a model that you expect to be exactly identical (initializing a BertForSequenceClassification model from a BertForSequenceClassification model).\n",
      "Some weights of BertForSequenceClassification were not initialized from the model checkpoint at ./out/language_model/best and are newly initialized: ['bert.pooler.dense.bias', 'classifier.bias', 'bert.pooler.dense.weight', 'classifier.weight']\n",
      "You should probably TRAIN this model on a down-stream task to be able to use it for predictions and inference.\n"
     ]
    },
    {
     "data": {
      "text/plain": [
       "================================================================================\n",
       "Layer (type:depth-idx)                                  Param #\n",
       "================================================================================\n",
       "BertForSequenceClassification                           --\n",
       "├─BertModel: 1-1                                        --\n",
       "│    └─BertEmbeddings: 2-1                              --\n",
       "│    │    └─Embedding: 3-1                              30,509,056\n",
       "│    │    └─Embedding: 3-2                              524,288\n",
       "│    │    └─Embedding: 3-3                              2,048\n",
       "│    │    └─LayerNorm: 3-4                              2,048\n",
       "│    │    └─Dropout: 3-5                                --\n",
       "│    └─BertEncoder: 2-2                                 --\n",
       "│    │    └─ModuleList: 3-6                             302,309,376\n",
       "│    └─BertPooler: 2-3                                  --\n",
       "│    │    └─Linear: 3-7                                 1,049,600\n",
       "│    │    └─Tanh: 3-8                                   --\n",
       "├─Dropout: 1-2                                          --\n",
       "├─Linear: 1-3                                           5,125\n",
       "================================================================================\n",
       "Total params: 334,401,541\n",
       "Trainable params: 334,401,541\n",
       "Non-trainable params: 0\n",
       "================================================================================"
      ]
     },
     "execution_count": 27,
     "metadata": {},
     "output_type": "execute_result"
    }
   ],
   "source": [
    "from transformers import AutoModelForSequenceClassification\n",
    "from torchinfo import summary\n",
    "\n",
    "model = AutoModelForSequenceClassification.from_pretrained(f\"{LM_DIR}/best\", num_labels=N_CLASSES)\n",
    "\n",
    "summary(model)"
   ]
  },
  {
   "cell_type": "markdown",
   "metadata": {},
   "source": [
    "# Define Optimizer"
   ]
  },
  {
   "cell_type": "code",
   "execution_count": 28,
   "metadata": {},
   "outputs": [],
   "source": [
    "from torch import optim\n",
    "\n",
    "optimizer = optim.Adam(\n",
    "    params=model.parameters(),\n",
    "    lr=5e-3,\n",
    "    betas=(0.9, 0.999),\n",
    "    weight_decay=1e-4,\n",
    "    amsgrad=True\n",
    ")"
   ]
  },
  {
   "cell_type": "markdown",
   "metadata": {},
   "source": [
    "# Prepare Classification Model"
   ]
  },
  {
   "cell_type": "code",
   "execution_count": 29,
   "metadata": {},
   "outputs": [
    {
     "name": "stderr",
     "output_type": "stream",
     "text": [
      "/usr/local/lib/python3.6/dist-packages/setuptools/distutils_patch.py:26: UserWarning: Distutils was imported before Setuptools. This usage is discouraged and may exhibit undesirable behaviors or errors. Please use Setuptools' objects directly or at least import Setuptools first.\n",
      "  \"Distutils was imported before Setuptools. This usage is discouraged \"\n"
     ]
    }
   ],
   "source": [
    "from accelerate import Accelerator\n",
    "\n",
    "accelerator = Accelerator()\n",
    "\n",
    "model, optimizer, train_dataloader, val_dataloader = accelerator.prepare(\n",
    "    model, optimizer, train_dataloader, val_dataloader\n",
    ")"
   ]
  },
  {
   "cell_type": "markdown",
   "metadata": {},
   "source": [
    "# Define Epoch Iteration"
   ]
  },
  {
   "cell_type": "code",
   "execution_count": 30,
   "metadata": {},
   "outputs": [],
   "source": [
    "import json\n",
    "synonyms = {}\n",
    "\n",
    "with open(DATA_DIR + \"/synonyms.json\", \"r\", encoding=\"utf-8\") as synonyms_json:\n",
    "    synonyms = json.load(synonyms_json)\n",
    "\n",
    "synonyms_tokenized = {}\n",
    "n = 0\n",
    "for k, v in synonyms.items():\n",
    "    tokens_k = tokenizer.encode(k, add_special_tokens=False)\n",
    "\n",
    "    # Don't allow multi token for simplicity\n",
    "    if len(tokens_k) > 1:\n",
    "        continue\n",
    "\n",
    "    token_v = [tokenizer.encode(s, add_special_tokens=False) for s in v]\n",
    "    token_v = [tv[0] for tv in token_v if len(tv) == 1]\n",
    "\n",
    "    if token_v:\n",
    "        synonyms_tokenized[tokens_k[0]] = token_v\n",
    "\n",
    "    \n",
    "def add_synonyms(input_ids, p = 0.05):\n",
    "    for i in range(len(input_ids)):\n",
    "        inputId = input_ids[i].item()\n",
    "        if (inputId in synonyms_tokenized) and np.random.binomial(1, p):\n",
    "            input_ids[i] = np.random.choice(synonyms_tokenized[inputId])"
   ]
  },
  {
   "cell_type": "code",
   "execution_count": 31,
   "metadata": {},
   "outputs": [],
   "source": [
    "import torch\n",
    "import torch.nn.functional as F\n",
    "from tqdm import tqdm\n",
    "import numpy as np\n",
    "\n",
    "def epoch_iter(dataloader, model, is_train = True, optimizer=None, lr_scheduler=None):\n",
    "    if is_train:\n",
    "        assert optimizer is not None, \"When training, please provide an optimizer.\"\n",
    "      \n",
    "    num_batches = len(dataloader)\n",
    "\n",
    "    if is_train:\n",
    "        model.train()\n",
    "    else:\n",
    "        model.eval()\n",
    "\n",
    "    total_loss = 0.0\n",
    "    probs = []\n",
    "    preds = []\n",
    "    expected_labels = []\n",
    "    aduIds = []\n",
    "    \n",
    "    scaler = torch.cuda.amp.GradScaler()\n",
    "\n",
    "    with torch.set_grad_enabled(is_train):\n",
    "        for batch in tqdm(dataloader):\n",
    "            index = batch.pop(\"index\")\n",
    "\n",
    "            if is_train:\n",
    "                for b_input_ids in batch[\"input_ids\"]:\n",
    "                    add_synonyms(b_input_ids, p=0.3)\n",
    "            \n",
    "            with torch.cuda.amp.autocast():\n",
    "                outputs = model(**batch)\n",
    "            loss = outputs.loss\n",
    "\n",
    "            if is_train:\n",
    "                optimizer.zero_grad()\n",
    "                accelerator.backward(scaler.scale(loss))\n",
    "                scaler.step(optimizer)\n",
    "                scaler.update()\n",
    "            \n",
    "            total_loss += loss.item()\n",
    "\n",
    "            prob = F.softmax(outputs.logits, dim=1)\n",
    "            final_pred = torch.argmax(prob, dim=1)\n",
    "\n",
    "            aduIds.extend(index.detach().cpu().numpy())\n",
    "            probs.extend(prob.detach().cpu().numpy())\n",
    "            preds.extend(final_pred.detach().cpu().numpy())\n",
    "            expected_labels.extend(batch[\"labels\"].detach().cpu().numpy())\n",
    "            \n",
    "        if is_train and lr_scheduler is not None:\n",
    "            lr_scheduler.step()\n",
    "        \n",
    "    return (expected_labels, preds, probs, aduIds), total_loss / num_batches\n"
   ]
  },
  {
   "cell_type": "markdown",
   "metadata": {},
   "source": [
    "# Train Classification Model"
   ]
  },
  {
   "cell_type": "code",
   "execution_count": 32,
   "metadata": {},
   "outputs": [
    {
     "name": "stdout",
     "output_type": "stream",
     "text": [
      "Adjusting learning rate of group 0 to 5.0000e-03.\n"
     ]
    }
   ],
   "source": [
    "from torch import optim\n",
    "import torchmetrics\n",
    "\n",
    "NUM_EPOCHS = 30\n",
    "\n",
    "lr_scheduler = optim.lr_scheduler.ExponentialLR(\n",
    "    optimizer=optimizer,\n",
    "    gamma=0.9,\n",
    "    verbose=True\n",
    ")\n",
    "\n",
    "metric_scorer = torchmetrics.Accuracy(\n",
    "    threshold=0.5,\n",
    "    num_classes=N_CLASSES,\n",
    "    average=\"micro\",\n",
    ")"
   ]
  },
  {
   "cell_type": "code",
   "execution_count": 33,
   "metadata": {},
   "outputs": [
    {
     "name": "stdout",
     "output_type": "stream",
     "text": [
      "Starting classification language model training...\n",
      "Epoch[1/30]\n"
     ]
    },
    {
     "name": "stderr",
     "output_type": "stream",
     "text": [
      "100%|██████████| 109/109 [00:34<00:00,  3.12it/s]\n"
     ]
    },
    {
     "name": "stdout",
     "output_type": "stream",
     "text": [
      "Adjusting learning rate of group 0 to 4.5000e-03.\n",
      "Training loss: 1.241\t Training micro accuracy: 0.504\n"
     ]
    },
    {
     "name": "stderr",
     "output_type": "stream",
     "text": [
      "100%|██████████| 23/23 [00:05<00:00,  3.89it/s]\n"
     ]
    },
    {
     "name": "stdout",
     "output_type": "stream",
     "text": [
      "Validation loss: 1.136\t Validation micro accuracy: 0.530\n",
      "----------------------------------------------------------------\n",
      "Epoch[2/30]\n"
     ]
    },
    {
     "name": "stderr",
     "output_type": "stream",
     "text": [
      "100%|██████████| 109/109 [00:35<00:00,  3.11it/s]\n"
     ]
    },
    {
     "name": "stdout",
     "output_type": "stream",
     "text": [
      "Adjusting learning rate of group 0 to 4.0500e-03.\n",
      "Training loss: 1.126\t Training micro accuracy: 0.543\n"
     ]
    },
    {
     "name": "stderr",
     "output_type": "stream",
     "text": [
      "100%|██████████| 23/23 [00:05<00:00,  3.85it/s]\n"
     ]
    },
    {
     "name": "stdout",
     "output_type": "stream",
     "text": [
      "Validation loss: 1.097\t Validation micro accuracy: 0.534\n",
      "----------------------------------------------------------------\n",
      "Epoch[3/30]\n"
     ]
    },
    {
     "name": "stderr",
     "output_type": "stream",
     "text": [
      "100%|██████████| 109/109 [00:35<00:00,  3.05it/s]\n"
     ]
    },
    {
     "name": "stdout",
     "output_type": "stream",
     "text": [
      "Adjusting learning rate of group 0 to 3.6450e-03.\n",
      "Training loss: 1.110\t Training micro accuracy: 0.553\n"
     ]
    },
    {
     "name": "stderr",
     "output_type": "stream",
     "text": [
      "100%|██████████| 23/23 [00:06<00:00,  3.80it/s]\n"
     ]
    },
    {
     "name": "stdout",
     "output_type": "stream",
     "text": [
      "Validation loss: 1.078\t Validation micro accuracy: 0.549\n",
      "----------------------------------------------------------------\n",
      "Epoch[4/30]\n"
     ]
    },
    {
     "name": "stderr",
     "output_type": "stream",
     "text": [
      "100%|██████████| 109/109 [00:35<00:00,  3.05it/s]\n"
     ]
    },
    {
     "name": "stdout",
     "output_type": "stream",
     "text": [
      "Adjusting learning rate of group 0 to 3.2805e-03.\n",
      "Training loss: 1.094\t Training micro accuracy: 0.560\n"
     ]
    },
    {
     "name": "stderr",
     "output_type": "stream",
     "text": [
      "100%|██████████| 23/23 [00:06<00:00,  3.78it/s]\n"
     ]
    },
    {
     "name": "stdout",
     "output_type": "stream",
     "text": [
      "Validation loss: 1.067\t Validation micro accuracy: 0.555\n",
      "----------------------------------------------------------------\n",
      "Epoch[5/30]\n"
     ]
    },
    {
     "name": "stderr",
     "output_type": "stream",
     "text": [
      "100%|██████████| 109/109 [00:35<00:00,  3.09it/s]\n"
     ]
    },
    {
     "name": "stdout",
     "output_type": "stream",
     "text": [
      "Adjusting learning rate of group 0 to 2.9525e-03.\n",
      "Training loss: 1.083\t Training micro accuracy: 0.566\n"
     ]
    },
    {
     "name": "stderr",
     "output_type": "stream",
     "text": [
      "100%|██████████| 23/23 [00:05<00:00,  3.84it/s]\n"
     ]
    },
    {
     "name": "stdout",
     "output_type": "stream",
     "text": [
      "Validation loss: 1.049\t Validation micro accuracy: 0.560\n",
      "----------------------------------------------------------------\n",
      "Epoch[6/30]\n"
     ]
    },
    {
     "name": "stderr",
     "output_type": "stream",
     "text": [
      "100%|██████████| 109/109 [00:35<00:00,  3.06it/s]\n"
     ]
    },
    {
     "name": "stdout",
     "output_type": "stream",
     "text": [
      "Adjusting learning rate of group 0 to 2.6572e-03.\n",
      "Training loss: 1.086\t Training micro accuracy: 0.558\n"
     ]
    },
    {
     "name": "stderr",
     "output_type": "stream",
     "text": [
      "100%|██████████| 23/23 [00:05<00:00,  3.85it/s]\n"
     ]
    },
    {
     "name": "stdout",
     "output_type": "stream",
     "text": [
      "Validation loss: 1.062\t Validation micro accuracy: 0.555\n",
      "----------------------------------------------------------------\n",
      "Epoch[7/30]\n"
     ]
    },
    {
     "name": "stderr",
     "output_type": "stream",
     "text": [
      "100%|██████████| 109/109 [00:34<00:00,  3.12it/s]\n"
     ]
    },
    {
     "name": "stdout",
     "output_type": "stream",
     "text": [
      "Adjusting learning rate of group 0 to 2.3915e-03.\n",
      "Training loss: 1.072\t Training micro accuracy: 0.565\n"
     ]
    },
    {
     "name": "stderr",
     "output_type": "stream",
     "text": [
      "100%|██████████| 23/23 [00:06<00:00,  3.82it/s]\n"
     ]
    },
    {
     "name": "stdout",
     "output_type": "stream",
     "text": [
      "Validation loss: 1.045\t Validation micro accuracy: 0.559\n",
      "----------------------------------------------------------------\n",
      "Epoch[8/30]\n"
     ]
    },
    {
     "name": "stderr",
     "output_type": "stream",
     "text": [
      "100%|██████████| 109/109 [00:35<00:00,  3.03it/s]\n"
     ]
    },
    {
     "name": "stdout",
     "output_type": "stream",
     "text": [
      "Adjusting learning rate of group 0 to 2.1523e-03.\n",
      "Training loss: 1.060\t Training micro accuracy: 0.574\n"
     ]
    },
    {
     "name": "stderr",
     "output_type": "stream",
     "text": [
      "100%|██████████| 23/23 [00:06<00:00,  3.78it/s]\n"
     ]
    },
    {
     "name": "stdout",
     "output_type": "stream",
     "text": [
      "Validation loss: 1.058\t Validation micro accuracy: 0.569\n",
      "----------------------------------------------------------------\n",
      "Epoch[9/30]\n"
     ]
    },
    {
     "name": "stderr",
     "output_type": "stream",
     "text": [
      "100%|██████████| 109/109 [00:35<00:00,  3.06it/s]\n"
     ]
    },
    {
     "name": "stdout",
     "output_type": "stream",
     "text": [
      "Adjusting learning rate of group 0 to 1.9371e-03.\n",
      "Training loss: 1.053\t Training micro accuracy: 0.572\n"
     ]
    },
    {
     "name": "stderr",
     "output_type": "stream",
     "text": [
      "100%|██████████| 23/23 [00:06<00:00,  3.75it/s]\n"
     ]
    },
    {
     "name": "stdout",
     "output_type": "stream",
     "text": [
      "Validation loss: 1.028\t Validation micro accuracy: 0.571\n",
      "----------------------------------------------------------------\n",
      "Epoch[10/30]\n"
     ]
    },
    {
     "name": "stderr",
     "output_type": "stream",
     "text": [
      "100%|██████████| 109/109 [00:36<00:00,  3.00it/s]\n"
     ]
    },
    {
     "name": "stdout",
     "output_type": "stream",
     "text": [
      "Adjusting learning rate of group 0 to 1.7434e-03.\n",
      "Training loss: 1.047\t Training micro accuracy: 0.577\n"
     ]
    },
    {
     "name": "stderr",
     "output_type": "stream",
     "text": [
      "100%|██████████| 23/23 [00:06<00:00,  3.62it/s]\n"
     ]
    },
    {
     "name": "stdout",
     "output_type": "stream",
     "text": [
      "Validation loss: 1.029\t Validation micro accuracy: 0.570\n",
      "----------------------------------------------------------------\n",
      "Epoch[11/30]\n"
     ]
    },
    {
     "name": "stderr",
     "output_type": "stream",
     "text": [
      "100%|██████████| 109/109 [00:37<00:00,  2.94it/s]\n"
     ]
    },
    {
     "name": "stdout",
     "output_type": "stream",
     "text": [
      "Adjusting learning rate of group 0 to 1.5691e-03.\n",
      "Training loss: 1.047\t Training micro accuracy: 0.574\n"
     ]
    },
    {
     "name": "stderr",
     "output_type": "stream",
     "text": [
      "100%|██████████| 23/23 [00:06<00:00,  3.54it/s]\n"
     ]
    },
    {
     "name": "stdout",
     "output_type": "stream",
     "text": [
      "Validation loss: 1.028\t Validation micro accuracy: 0.564\n",
      "----------------------------------------------------------------\n",
      "Epoch[12/30]\n"
     ]
    },
    {
     "name": "stderr",
     "output_type": "stream",
     "text": [
      "100%|██████████| 109/109 [00:37<00:00,  2.92it/s]\n"
     ]
    },
    {
     "name": "stdout",
     "output_type": "stream",
     "text": [
      "Adjusting learning rate of group 0 to 1.4121e-03.\n",
      "Training loss: 1.039\t Training micro accuracy: 0.584\n"
     ]
    },
    {
     "name": "stderr",
     "output_type": "stream",
     "text": [
      "100%|██████████| 23/23 [00:06<00:00,  3.52it/s]\n"
     ]
    },
    {
     "name": "stdout",
     "output_type": "stream",
     "text": [
      "Validation loss: 1.029\t Validation micro accuracy: 0.566\n",
      "----------------------------------------------------------------\n",
      "Epoch[13/30]\n"
     ]
    },
    {
     "name": "stderr",
     "output_type": "stream",
     "text": [
      "100%|██████████| 109/109 [00:37<00:00,  2.87it/s]\n"
     ]
    },
    {
     "name": "stdout",
     "output_type": "stream",
     "text": [
      "Adjusting learning rate of group 0 to 1.2709e-03.\n",
      "Training loss: 1.043\t Training micro accuracy: 0.571\n"
     ]
    },
    {
     "name": "stderr",
     "output_type": "stream",
     "text": [
      "100%|██████████| 23/23 [00:06<00:00,  3.45it/s]\n"
     ]
    },
    {
     "name": "stdout",
     "output_type": "stream",
     "text": [
      "Validation loss: 1.031\t Validation micro accuracy: 0.562\n",
      "----------------------------------------------------------------\n",
      "Epoch[14/30]\n"
     ]
    },
    {
     "name": "stderr",
     "output_type": "stream",
     "text": [
      "100%|██████████| 109/109 [00:37<00:00,  2.91it/s]\n"
     ]
    },
    {
     "name": "stdout",
     "output_type": "stream",
     "text": [
      "Adjusting learning rate of group 0 to 1.1438e-03.\n",
      "Training loss: 1.045\t Training micro accuracy: 0.573\n"
     ]
    },
    {
     "name": "stderr",
     "output_type": "stream",
     "text": [
      "100%|██████████| 23/23 [00:06<00:00,  3.63it/s]\n"
     ]
    },
    {
     "name": "stdout",
     "output_type": "stream",
     "text": [
      "Validation loss: 1.018\t Validation micro accuracy: 0.568\n",
      "----------------------------------------------------------------\n",
      "Epoch[15/30]\n"
     ]
    },
    {
     "name": "stderr",
     "output_type": "stream",
     "text": [
      "100%|██████████| 109/109 [00:35<00:00,  3.04it/s]\n"
     ]
    },
    {
     "name": "stdout",
     "output_type": "stream",
     "text": [
      "Adjusting learning rate of group 0 to 1.0295e-03.\n",
      "Training loss: 1.031\t Training micro accuracy: 0.579\n"
     ]
    },
    {
     "name": "stderr",
     "output_type": "stream",
     "text": [
      "100%|██████████| 23/23 [00:06<00:00,  3.82it/s]\n"
     ]
    },
    {
     "name": "stdout",
     "output_type": "stream",
     "text": [
      "Validation loss: 1.028\t Validation micro accuracy: 0.557\n",
      "----------------------------------------------------------------\n",
      "Epoch[16/30]\n"
     ]
    },
    {
     "name": "stderr",
     "output_type": "stream",
     "text": [
      "100%|██████████| 109/109 [00:35<00:00,  3.05it/s]\n"
     ]
    },
    {
     "name": "stdout",
     "output_type": "stream",
     "text": [
      "Adjusting learning rate of group 0 to 9.2651e-04.\n",
      "Training loss: 1.032\t Training micro accuracy: 0.581\n"
     ]
    },
    {
     "name": "stderr",
     "output_type": "stream",
     "text": [
      "100%|██████████| 23/23 [00:06<00:00,  3.83it/s]\n"
     ]
    },
    {
     "name": "stdout",
     "output_type": "stream",
     "text": [
      "Validation loss: 1.021\t Validation micro accuracy: 0.568\n",
      "----------------------------------------------------------------\n",
      "Epoch[17/30]\n"
     ]
    },
    {
     "name": "stderr",
     "output_type": "stream",
     "text": [
      "100%|██████████| 109/109 [00:35<00:00,  3.05it/s]\n"
     ]
    },
    {
     "name": "stdout",
     "output_type": "stream",
     "text": [
      "Adjusting learning rate of group 0 to 8.3386e-04.\n",
      "Training loss: 1.024\t Training micro accuracy: 0.579\n"
     ]
    },
    {
     "name": "stderr",
     "output_type": "stream",
     "text": [
      "100%|██████████| 23/23 [00:06<00:00,  3.81it/s]\n"
     ]
    },
    {
     "name": "stdout",
     "output_type": "stream",
     "text": [
      "Validation loss: 1.016\t Validation micro accuracy: 0.570\n",
      "----------------------------------------------------------------\n",
      "Epoch[18/30]\n"
     ]
    },
    {
     "name": "stderr",
     "output_type": "stream",
     "text": [
      "100%|██████████| 109/109 [00:35<00:00,  3.08it/s]\n"
     ]
    },
    {
     "name": "stdout",
     "output_type": "stream",
     "text": [
      "Adjusting learning rate of group 0 to 7.5047e-04.\n",
      "Training loss: 1.014\t Training micro accuracy: 0.584\n"
     ]
    },
    {
     "name": "stderr",
     "output_type": "stream",
     "text": [
      "100%|██████████| 23/23 [00:06<00:00,  3.77it/s]\n"
     ]
    },
    {
     "name": "stdout",
     "output_type": "stream",
     "text": [
      "Validation loss: 1.016\t Validation micro accuracy: 0.568\n",
      "----------------------------------------------------------------\n",
      "Epoch[19/30]\n"
     ]
    },
    {
     "name": "stderr",
     "output_type": "stream",
     "text": [
      "100%|██████████| 109/109 [00:36<00:00,  3.03it/s]\n"
     ]
    },
    {
     "name": "stdout",
     "output_type": "stream",
     "text": [
      "Adjusting learning rate of group 0 to 6.7543e-04.\n",
      "Training loss: 1.019\t Training micro accuracy: 0.587\n"
     ]
    },
    {
     "name": "stderr",
     "output_type": "stream",
     "text": [
      "100%|██████████| 23/23 [00:06<00:00,  3.74it/s]\n"
     ]
    },
    {
     "name": "stdout",
     "output_type": "stream",
     "text": [
      "Validation loss: 1.019\t Validation micro accuracy: 0.566\n",
      "----------------------------------------------------------------\n",
      "Epoch[20/30]\n"
     ]
    },
    {
     "name": "stderr",
     "output_type": "stream",
     "text": [
      "100%|██████████| 109/109 [00:35<00:00,  3.05it/s]\n"
     ]
    },
    {
     "name": "stdout",
     "output_type": "stream",
     "text": [
      "Adjusting learning rate of group 0 to 6.0788e-04.\n",
      "Training loss: 1.016\t Training micro accuracy: 0.592\n"
     ]
    },
    {
     "name": "stderr",
     "output_type": "stream",
     "text": [
      "100%|██████████| 23/23 [00:06<00:00,  3.62it/s]\n"
     ]
    },
    {
     "name": "stdout",
     "output_type": "stream",
     "text": [
      "Validation loss: 1.013\t Validation micro accuracy: 0.568\n",
      "----------------------------------------------------------------\n",
      "Epoch[21/30]\n"
     ]
    },
    {
     "name": "stderr",
     "output_type": "stream",
     "text": [
      "100%|██████████| 109/109 [00:37<00:00,  2.93it/s]\n"
     ]
    },
    {
     "name": "stdout",
     "output_type": "stream",
     "text": [
      "Adjusting learning rate of group 0 to 5.4709e-04.\n",
      "Training loss: 1.023\t Training micro accuracy: 0.591\n"
     ]
    },
    {
     "name": "stderr",
     "output_type": "stream",
     "text": [
      "100%|██████████| 23/23 [00:06<00:00,  3.53it/s]\n"
     ]
    },
    {
     "name": "stdout",
     "output_type": "stream",
     "text": [
      "Validation loss: 1.027\t Validation micro accuracy: 0.568\n",
      "----------------------------------------------------------------\n",
      "Epoch[22/30]\n"
     ]
    },
    {
     "name": "stderr",
     "output_type": "stream",
     "text": [
      "100%|██████████| 109/109 [00:37<00:00,  2.89it/s]\n"
     ]
    },
    {
     "name": "stdout",
     "output_type": "stream",
     "text": [
      "Adjusting learning rate of group 0 to 4.9239e-04.\n",
      "Training loss: 1.019\t Training micro accuracy: 0.591\n"
     ]
    },
    {
     "name": "stderr",
     "output_type": "stream",
     "text": [
      "100%|██████████| 23/23 [00:06<00:00,  3.52it/s]\n"
     ]
    },
    {
     "name": "stdout",
     "output_type": "stream",
     "text": [
      "Validation loss: 1.018\t Validation micro accuracy: 0.572\n",
      "----------------------------------------------------------------\n",
      "Epoch[23/30]\n"
     ]
    },
    {
     "name": "stderr",
     "output_type": "stream",
     "text": [
      "100%|██████████| 109/109 [00:38<00:00,  2.87it/s]\n"
     ]
    },
    {
     "name": "stdout",
     "output_type": "stream",
     "text": [
      "Adjusting learning rate of group 0 to 4.4315e-04.\n",
      "Training loss: 1.016\t Training micro accuracy: 0.587\n"
     ]
    },
    {
     "name": "stderr",
     "output_type": "stream",
     "text": [
      "100%|██████████| 23/23 [00:06<00:00,  3.47it/s]\n"
     ]
    },
    {
     "name": "stdout",
     "output_type": "stream",
     "text": [
      "Validation loss: 1.014\t Validation micro accuracy: 0.571\n",
      "----------------------------------------------------------------\n",
      "Epoch[24/30]\n"
     ]
    },
    {
     "name": "stderr",
     "output_type": "stream",
     "text": [
      "100%|██████████| 109/109 [00:37<00:00,  2.89it/s]\n"
     ]
    },
    {
     "name": "stdout",
     "output_type": "stream",
     "text": [
      "Adjusting learning rate of group 0 to 3.9883e-04.\n",
      "Training loss: 1.018\t Training micro accuracy: 0.583\n"
     ]
    },
    {
     "name": "stderr",
     "output_type": "stream",
     "text": [
      "100%|██████████| 23/23 [00:06<00:00,  3.42it/s]\n"
     ]
    },
    {
     "name": "stdout",
     "output_type": "stream",
     "text": [
      "Validation loss: 1.015\t Validation micro accuracy: 0.574\n",
      "----------------------------------------------------------------\n",
      "Epoch[25/30]\n"
     ]
    },
    {
     "name": "stderr",
     "output_type": "stream",
     "text": [
      "100%|██████████| 109/109 [00:37<00:00,  2.89it/s]\n"
     ]
    },
    {
     "name": "stdout",
     "output_type": "stream",
     "text": [
      "Adjusting learning rate of group 0 to 3.5895e-04.\n",
      "Training loss: 1.021\t Training micro accuracy: 0.581\n"
     ]
    },
    {
     "name": "stderr",
     "output_type": "stream",
     "text": [
      "100%|██████████| 23/23 [00:06<00:00,  3.43it/s]\n"
     ]
    },
    {
     "name": "stdout",
     "output_type": "stream",
     "text": [
      "Validation loss: 1.011\t Validation micro accuracy: 0.577\n",
      "----------------------------------------------------------------\n",
      "Epoch[26/30]\n"
     ]
    },
    {
     "name": "stderr",
     "output_type": "stream",
     "text": [
      "100%|██████████| 109/109 [00:37<00:00,  2.91it/s]\n"
     ]
    },
    {
     "name": "stdout",
     "output_type": "stream",
     "text": [
      "Adjusting learning rate of group 0 to 3.2305e-04.\n",
      "Training loss: 1.001\t Training micro accuracy: 0.595\n"
     ]
    },
    {
     "name": "stderr",
     "output_type": "stream",
     "text": [
      "100%|██████████| 23/23 [00:06<00:00,  3.45it/s]\n"
     ]
    },
    {
     "name": "stdout",
     "output_type": "stream",
     "text": [
      "Validation loss: 1.014\t Validation micro accuracy: 0.570\n",
      "----------------------------------------------------------------\n",
      "Epoch[27/30]\n"
     ]
    },
    {
     "name": "stderr",
     "output_type": "stream",
     "text": [
      "100%|██████████| 109/109 [00:37<00:00,  2.93it/s]\n"
     ]
    },
    {
     "name": "stdout",
     "output_type": "stream",
     "text": [
      "Adjusting learning rate of group 0 to 2.9075e-04.\n",
      "Training loss: 1.013\t Training micro accuracy: 0.591\n"
     ]
    },
    {
     "name": "stderr",
     "output_type": "stream",
     "text": [
      "100%|██████████| 23/23 [00:06<00:00,  3.44it/s]\n"
     ]
    },
    {
     "name": "stdout",
     "output_type": "stream",
     "text": [
      "Validation loss: 1.020\t Validation micro accuracy: 0.567\n",
      "----------------------------------------------------------------\n",
      "Epoch[28/30]\n"
     ]
    },
    {
     "name": "stderr",
     "output_type": "stream",
     "text": [
      "100%|██████████| 109/109 [00:38<00:00,  2.85it/s]\n"
     ]
    },
    {
     "name": "stdout",
     "output_type": "stream",
     "text": [
      "Adjusting learning rate of group 0 to 2.6167e-04.\n",
      "Training loss: 1.015\t Training micro accuracy: 0.590\n"
     ]
    },
    {
     "name": "stderr",
     "output_type": "stream",
     "text": [
      "100%|██████████| 23/23 [00:06<00:00,  3.43it/s]\n"
     ]
    },
    {
     "name": "stdout",
     "output_type": "stream",
     "text": [
      "Validation loss: 1.011\t Validation micro accuracy: 0.568\n",
      "----------------------------------------------------------------\n",
      "Epoch[29/30]\n"
     ]
    },
    {
     "name": "stderr",
     "output_type": "stream",
     "text": [
      "100%|██████████| 109/109 [00:37<00:00,  2.88it/s]\n"
     ]
    },
    {
     "name": "stdout",
     "output_type": "stream",
     "text": [
      "Adjusting learning rate of group 0 to 2.3551e-04.\n",
      "Training loss: 1.025\t Training micro accuracy: 0.581\n"
     ]
    },
    {
     "name": "stderr",
     "output_type": "stream",
     "text": [
      "100%|██████████| 23/23 [00:06<00:00,  3.43it/s]\n"
     ]
    },
    {
     "name": "stdout",
     "output_type": "stream",
     "text": [
      "Validation loss: 1.014\t Validation micro accuracy: 0.566\n",
      "----------------------------------------------------------------\n",
      "Epoch[30/30]\n"
     ]
    },
    {
     "name": "stderr",
     "output_type": "stream",
     "text": [
      "100%|██████████| 109/109 [00:37<00:00,  2.91it/s]\n"
     ]
    },
    {
     "name": "stdout",
     "output_type": "stream",
     "text": [
      "Adjusting learning rate of group 0 to 2.1196e-04.\n",
      "Training loss: 1.018\t Training micro accuracy: 0.591\n"
     ]
    },
    {
     "name": "stderr",
     "output_type": "stream",
     "text": [
      "100%|██████████| 23/23 [00:06<00:00,  3.43it/s]\n"
     ]
    },
    {
     "name": "stdout",
     "output_type": "stream",
     "text": [
      "Validation loss: 1.012\t Validation micro accuracy: 0.575\n",
      "----------------------------------------------------------------\n",
      "\n",
      "Finished training...\n",
      "Best epoch: 25\t Validation loss on best epoch: 1.010990655940512\t Accuracy on best epoch: 0.5772634148597717\n"
     ]
    }
   ],
   "source": [
    "train_history = {\n",
    "    \"loss\": [],\n",
    "    \"accuracy\": []\n",
    "}\n",
    "\n",
    "val_history = {\n",
    "    \"loss\": [],\n",
    "    \"accuracy\": []\n",
    "}\n",
    "\n",
    "model.bert.requires_grad_(False) # Freeze language model layer\n",
    "\n",
    "best_loss = np.inf\n",
    "best_accuracy = 0\n",
    "best_epoch = -1\n",
    "\n",
    "print(f\"Starting classification language model training...\")\n",
    "\n",
    "for epoch in range(1, NUM_EPOCHS + 1):\n",
    "    print(f\"Epoch[{epoch}/{NUM_EPOCHS}]\")\n",
    "    \n",
    "    (train_target, train_preds, train_probs, _), train_loss = epoch_iter(\n",
    "        dataloader=train_dataloader,\n",
    "        model=model,\n",
    "        is_train=True,\n",
    "        optimizer=optimizer,\n",
    "        lr_scheduler=lr_scheduler\n",
    "    )\n",
    "    \n",
    "    train_accuracy = metric_scorer(torch.tensor(np.array(train_probs)), torch.tensor(np.array(train_target))).item()\n",
    "    print(f\"Training loss: {train_loss:.3f}\\t Training micro accuracy: {train_accuracy:.3f}\")\n",
    "\n",
    "    (val_target, val_preds, val_probs, _), val_loss = epoch_iter(\n",
    "        dataloader=val_dataloader,\n",
    "        model=model,\n",
    "        is_train=False,\n",
    "    )\n",
    "\n",
    "    val_accuracy = metric_scorer(torch.tensor(np.array(val_probs)), torch.tensor(np.array(val_target))).item()\n",
    "    print(f\"Validation loss: {val_loss:.3f}\\t Validation micro accuracy: {val_accuracy:.3f}\")\n",
    "    \n",
    "    # Save best model\n",
    "    if val_loss < best_loss:\n",
    "        best_loss = val_loss\n",
    "        best_accuracy = val_accuracy\n",
    "        best_epoch = epoch\n",
    "        \n",
    "        accelerator.wait_for_everyone()\n",
    "        unwrapped_model = accelerator.unwrap_model(model)\n",
    "        unwrapped_model.save_pretrained(f\"{OUT_DIR}/best\", save_function=accelerator.save)\n",
    "\n",
    "    accelerator.wait_for_everyone()\n",
    "    unwrapped_model = accelerator.unwrap_model(model)\n",
    "    unwrapped_model.save_pretrained(f\"{OUT_DIR}/latest\", save_function=accelerator.save)\n",
    "\n",
    "    train_history[\"loss\"].append(train_loss)\n",
    "    train_history[\"accuracy\"].append(train_accuracy)\n",
    "\n",
    "    val_history[\"loss\"].append(val_loss)\n",
    "    val_history[\"accuracy\"].append(val_accuracy)\n",
    "\n",
    "    print(\"----------------------------------------------------------------\")\n",
    "    \n",
    "print(\n",
    "    f\"\\nFinished training...\"\n",
    "    f\"\\nBest epoch: {best_epoch}\\t Validation loss on best epoch: {best_loss}\\t Accuracy on best epoch: {best_accuracy}\"\n",
    ")"
   ]
  },
  {
   "cell_type": "code",
   "execution_count": 34,
   "metadata": {},
   "outputs": [
    {
     "data": {
      "image/png": "[encoded data removed]",
      "text/plain": [
       "<Figure size 864x576 with 2 Axes>"
      ]
     },
     "metadata": {
      "needs_background": "light"
     },
     "output_type": "display_data"
    }
   ],
   "source": [
    "fig = plot_training_history(train_history=train_history, val_history=val_history, model_name=\"BERT-ADU-CLS\", phase_name=\"FREEZE\", out_dir=OUT_DIR)\n",
    "fig.show()"
   ]
  },
  {
   "cell_type": "markdown",
   "metadata": {},
   "source": [
    "Clear GPU memory for guarantees"
   ]
  },
  {
   "cell_type": "code",
   "execution_count": 35,
   "metadata": {},
   "outputs": [
    {
     "data": {
      "text/plain": [
       "(13303742464, 15843721216)"
      ]
     },
     "execution_count": 35,
     "metadata": {},
     "output_type": "execute_result"
    }
   ],
   "source": [
    "import gc\n",
    "model = None\n",
    "train_dataloader = None\n",
    "val_dataloader = None\n",
    "lr_scheduler = None\n",
    "optimizer = None\n",
    "\n",
    "gc.collect()\n",
    "torch.cuda.empty_cache()\n",
    "torch.cuda.mem_get_info(\"cuda:0\")"
   ]
  },
  {
   "cell_type": "code",
   "execution_count": 36,
   "metadata": {},
   "outputs": [
    {
     "name": "stdout",
     "output_type": "stream",
     "text": [
      "Wed Jun  8 05:42:56 2022       \n",
      "+-----------------------------------------------------------------------------+\n",
      "| NVIDIA-SMI 440.33.01    Driver Version: 440.33.01    CUDA Version: 11.0     |\n",
      "|-------------------------------+----------------------+----------------------+\n",
      "| GPU  Name        Persistence-M| Bus-Id        Disp.A | Volatile Uncorr. ECC |\n",
      "| Fan  Temp  Perf  Pwr:Usage/Cap|         Memory-Usage | GPU-Util  Compute M. |\n",
      "|===============================+======================+======================|\n",
      "|   0  Tesla T4            On   | 00000000:00:1E.0 Off |                    0 |\n",
      "| N/A   43C    P0    26W /  70W |   2422MiB / 15109MiB |      0%      Default |\n",
      "+-------------------------------+----------------------+----------------------+\n",
      "                                                                               \n",
      "+-----------------------------------------------------------------------------+\n",
      "| Processes:                                                       GPU Memory |\n",
      "|  GPU       PID   Type   Process name                             Usage      |\n",
      "|=============================================================================|\n",
      "+-----------------------------------------------------------------------------+\n"
     ]
    }
   ],
   "source": [
    "!nvidia-smi"
   ]
  },
  {
   "cell_type": "markdown",
   "metadata": {},
   "source": [
    "# Fine-tune model\n",
    "Load best model from first training session"
   ]
  },
  {
   "cell_type": "code",
   "execution_count": 37,
   "metadata": {},
   "outputs": [],
   "source": [
    "from transformers import DataCollatorWithPadding\n",
    "from torch.utils.data import DataLoader\n",
    "\n",
    "BATCH_SIZE = 16 # Tested with NVIDIA Tesla T4 16GB\n",
    "\n",
    "train_dataloader = DataLoader(\n",
    "    dataset=cls_dataset[\"train\"],\n",
    "    shuffle=True,\n",
    "    batch_size=BATCH_SIZE,\n",
    "    collate_fn=data_collator\n",
    ")\n",
    "\n",
    "val_dataloader = DataLoader(\n",
    "    dataset=cls_dataset[\"val\"],\n",
    "    shuffle=False,\n",
    "    batch_size=BATCH_SIZE,\n",
    "    collate_fn=data_collator\n",
    ")"
   ]
  },
  {
   "cell_type": "code",
   "execution_count": 38,
   "metadata": {},
   "outputs": [
    {
     "name": "stdout",
     "output_type": "stream",
     "text": [
      "Loaded best model...\n"
     ]
    },
    {
     "data": {
      "text/plain": [
       "================================================================================\n",
       "Layer (type:depth-idx)                                  Param #\n",
       "================================================================================\n",
       "BertForSequenceClassification                           --\n",
       "├─BertModel: 1-1                                        --\n",
       "│    └─BertEmbeddings: 2-1                              --\n",
       "│    │    └─Embedding: 3-1                              30,509,056\n",
       "│    │    └─Embedding: 3-2                              524,288\n",
       "│    │    └─Embedding: 3-3                              2,048\n",
       "│    │    └─LayerNorm: 3-4                              2,048\n",
       "│    │    └─Dropout: 3-5                                --\n",
       "│    └─BertEncoder: 2-2                                 --\n",
       "│    │    └─ModuleList: 3-6                             302,309,376\n",
       "│    └─BertPooler: 2-3                                  --\n",
       "│    │    └─Linear: 3-7                                 1,049,600\n",
       "│    │    └─Tanh: 3-8                                   --\n",
       "├─Dropout: 1-2                                          --\n",
       "├─Linear: 1-3                                           5,125\n",
       "================================================================================\n",
       "Total params: 334,401,541\n",
       "Trainable params: 334,401,541\n",
       "Non-trainable params: 0\n",
       "================================================================================"
      ]
     },
     "execution_count": 38,
     "metadata": {},
     "output_type": "execute_result"
    }
   ],
   "source": [
    "model = AutoModelForSequenceClassification.from_pretrained(f\"{OUT_DIR}/best\", num_labels=N_CLASSES)\n",
    "\n",
    "print(\"Loaded best model...\")\n",
    "\n",
    "summary(model)"
   ]
  },
  {
   "cell_type": "code",
   "execution_count": 39,
   "metadata": {},
   "outputs": [
    {
     "name": "stdout",
     "output_type": "stream",
     "text": [
      "Adjusting learning rate of group 0 to 1.0000e-05.\n"
     ]
    }
   ],
   "source": [
    "ft_optimizer = optim.Adam(\n",
    "    params=model.parameters(),\n",
    "    lr=1e-5,\n",
    "    betas=(0.9, 0.999),\n",
    "    weight_decay=5e-4,\n",
    "    amsgrad=True\n",
    ")\n",
    "\n",
    "accelerator = Accelerator()\n",
    "\n",
    "model, ft_optimizer, train_dataloader, val_dataloader = accelerator.prepare(\n",
    "    model, ft_optimizer, train_dataloader, val_dataloader\n",
    ")\n",
    "\n",
    "ft_lr_scheduler = optim.lr_scheduler.ExponentialLR(\n",
    "    optimizer=ft_optimizer,\n",
    "    gamma=0.9,\n",
    "    verbose=True\n",
    ")"
   ]
  },
  {
   "cell_type": "code",
   "execution_count": 40,
   "metadata": {},
   "outputs": [
    {
     "name": "stdout",
     "output_type": "stream",
     "text": [
      "Starting classification language model fine-tuning...\n",
      "Epoch[1/15]\n"
     ]
    },
    {
     "name": "stderr",
     "output_type": "stream",
     "text": [
      "100%|██████████| 434/434 [02:27<00:00,  2.95it/s]\n"
     ]
    },
    {
     "name": "stdout",
     "output_type": "stream",
     "text": [
      "Adjusting learning rate of group 0 to 9.0000e-06.\n",
      "Training loss: 0.949\t Training micro accuracy: 0.609\n"
     ]
    },
    {
     "name": "stderr",
     "output_type": "stream",
     "text": [
      "100%|██████████| 92/92 [00:05<00:00, 16.16it/s]\n"
     ]
    },
    {
     "name": "stdout",
     "output_type": "stream",
     "text": [
      "Validation loss: 0.869\t Validation micro accuracy: 0.638\n",
      "----------------------------------------------------------------\n",
      "Epoch[2/15]\n"
     ]
    },
    {
     "name": "stderr",
     "output_type": "stream",
     "text": [
      "100%|██████████| 434/434 [02:29<00:00,  2.90it/s]\n"
     ]
    },
    {
     "name": "stdout",
     "output_type": "stream",
     "text": [
      "Adjusting learning rate of group 0 to 8.1000e-06.\n",
      "Training loss: 0.761\t Training micro accuracy: 0.695\n"
     ]
    },
    {
     "name": "stderr",
     "output_type": "stream",
     "text": [
      "100%|██████████| 92/92 [00:05<00:00, 15.87it/s]\n"
     ]
    },
    {
     "name": "stdout",
     "output_type": "stream",
     "text": [
      "Validation loss: 0.947\t Validation micro accuracy: 0.592\n",
      "----------------------------------------------------------------\n",
      "Epoch[3/15]\n"
     ]
    },
    {
     "name": "stderr",
     "output_type": "stream",
     "text": [
      "100%|██████████| 434/434 [02:30<00:00,  2.88it/s]\n"
     ]
    },
    {
     "name": "stdout",
     "output_type": "stream",
     "text": [
      "Adjusting learning rate of group 0 to 7.2900e-06.\n",
      "Training loss: 0.586\t Training micro accuracy: 0.778\n"
     ]
    },
    {
     "name": "stderr",
     "output_type": "stream",
     "text": [
      "100%|██████████| 92/92 [00:05<00:00, 15.95it/s]\n"
     ]
    },
    {
     "name": "stdout",
     "output_type": "stream",
     "text": [
      "Validation loss: 0.970\t Validation micro accuracy: 0.617\n",
      "----------------------------------------------------------------\n",
      "Epoch[4/15]\n"
     ]
    },
    {
     "name": "stderr",
     "output_type": "stream",
     "text": [
      "100%|██████████| 434/434 [02:30<00:00,  2.88it/s]\n"
     ]
    },
    {
     "name": "stdout",
     "output_type": "stream",
     "text": [
      "Adjusting learning rate of group 0 to 6.5610e-06.\n",
      "Training loss: 0.428\t Training micro accuracy: 0.846\n"
     ]
    },
    {
     "name": "stderr",
     "output_type": "stream",
     "text": [
      "100%|██████████| 92/92 [00:05<00:00, 15.92it/s]\n"
     ]
    },
    {
     "name": "stdout",
     "output_type": "stream",
     "text": [
      "Validation loss: 1.064\t Validation micro accuracy: 0.629\n",
      "----------------------------------------------------------------\n",
      "Epoch[5/15]\n"
     ]
    },
    {
     "name": "stderr",
     "output_type": "stream",
     "text": [
      "100%|██████████| 434/434 [02:30<00:00,  2.88it/s]\n"
     ]
    },
    {
     "name": "stdout",
     "output_type": "stream",
     "text": [
      "Adjusting learning rate of group 0 to 5.9049e-06.\n",
      "Training loss: 0.287\t Training micro accuracy: 0.899\n"
     ]
    },
    {
     "name": "stderr",
     "output_type": "stream",
     "text": [
      "100%|██████████| 92/92 [00:05<00:00, 16.00it/s]\n"
     ]
    },
    {
     "name": "stdout",
     "output_type": "stream",
     "text": [
      "Validation loss: 1.243\t Validation micro accuracy: 0.604\n",
      "----------------------------------------------------------------\n",
      "Epoch[6/15]\n"
     ]
    },
    {
     "name": "stderr",
     "output_type": "stream",
     "text": [
      "100%|██████████| 434/434 [02:28<00:00,  2.92it/s]\n"
     ]
    },
    {
     "name": "stdout",
     "output_type": "stream",
     "text": [
      "Adjusting learning rate of group 0 to 5.3144e-06.\n",
      "Training loss: 0.204\t Training micro accuracy: 0.930\n"
     ]
    },
    {
     "name": "stderr",
     "output_type": "stream",
     "text": [
      "100%|██████████| 92/92 [00:05<00:00, 17.10it/s]\n"
     ]
    },
    {
     "name": "stdout",
     "output_type": "stream",
     "text": [
      "Validation loss: 1.442\t Validation micro accuracy: 0.612\n",
      "----------------------------------------------------------------\n",
      "Epoch[7/15]\n"
     ]
    },
    {
     "name": "stderr",
     "output_type": "stream",
     "text": [
      "100%|██████████| 434/434 [02:26<00:00,  2.96it/s]\n"
     ]
    },
    {
     "name": "stdout",
     "output_type": "stream",
     "text": [
      "Adjusting learning rate of group 0 to 4.7830e-06.\n",
      "Training loss: 0.144\t Training micro accuracy: 0.950\n"
     ]
    },
    {
     "name": "stderr",
     "output_type": "stream",
     "text": [
      "100%|██████████| 92/92 [00:05<00:00, 16.53it/s]\n"
     ]
    },
    {
     "name": "stdout",
     "output_type": "stream",
     "text": [
      "Validation loss: 1.535\t Validation micro accuracy: 0.616\n",
      "----------------------------------------------------------------\n",
      "Epoch[8/15]\n"
     ]
    },
    {
     "name": "stderr",
     "output_type": "stream",
     "text": [
      "100%|██████████| 434/434 [02:26<00:00,  2.96it/s]\n"
     ]
    },
    {
     "name": "stdout",
     "output_type": "stream",
     "text": [
      "Adjusting learning rate of group 0 to 4.3047e-06.\n",
      "Training loss: 0.103\t Training micro accuracy: 0.965\n"
     ]
    },
    {
     "name": "stderr",
     "output_type": "stream",
     "text": [
      "100%|██████████| 92/92 [00:05<00:00, 17.10it/s]\n"
     ]
    },
    {
     "name": "stdout",
     "output_type": "stream",
     "text": [
      "Validation loss: 1.658\t Validation micro accuracy: 0.615\n",
      "----------------------------------------------------------------\n",
      "Epoch[9/15]\n"
     ]
    },
    {
     "name": "stderr",
     "output_type": "stream",
     "text": [
      "100%|██████████| 434/434 [02:27<00:00,  2.95it/s]\n"
     ]
    },
    {
     "name": "stdout",
     "output_type": "stream",
     "text": [
      "Adjusting learning rate of group 0 to 3.8742e-06.\n",
      "Training loss: 0.091\t Training micro accuracy: 0.972\n"
     ]
    },
    {
     "name": "stderr",
     "output_type": "stream",
     "text": [
      "100%|██████████| 92/92 [00:05<00:00, 16.44it/s]\n"
     ]
    },
    {
     "name": "stdout",
     "output_type": "stream",
     "text": [
      "Validation loss: 1.720\t Validation micro accuracy: 0.605\n",
      "----------------------------------------------------------------\n",
      "Epoch[10/15]\n"
     ]
    },
    {
     "name": "stderr",
     "output_type": "stream",
     "text": [
      "100%|██████████| 434/434 [02:29<00:00,  2.90it/s]\n"
     ]
    },
    {
     "name": "stdout",
     "output_type": "stream",
     "text": [
      "Adjusting learning rate of group 0 to 3.4868e-06.\n",
      "Training loss: 0.069\t Training micro accuracy: 0.981\n"
     ]
    },
    {
     "name": "stderr",
     "output_type": "stream",
     "text": [
      "100%|██████████| 92/92 [00:05<00:00, 15.93it/s]\n"
     ]
    },
    {
     "name": "stdout",
     "output_type": "stream",
     "text": [
      "Validation loss: 1.811\t Validation micro accuracy: 0.607\n",
      "----------------------------------------------------------------\n",
      "Epoch[11/15]\n"
     ]
    },
    {
     "name": "stderr",
     "output_type": "stream",
     "text": [
      "100%|██████████| 434/434 [02:30<00:00,  2.89it/s]\n"
     ]
    },
    {
     "name": "stdout",
     "output_type": "stream",
     "text": [
      "Adjusting learning rate of group 0 to 3.1381e-06.\n",
      "Training loss: 0.065\t Training micro accuracy: 0.981\n"
     ]
    },
    {
     "name": "stderr",
     "output_type": "stream",
     "text": [
      "100%|██████████| 92/92 [00:05<00:00, 15.99it/s]\n"
     ]
    },
    {
     "name": "stdout",
     "output_type": "stream",
     "text": [
      "Validation loss: 1.860\t Validation micro accuracy: 0.601\n",
      "----------------------------------------------------------------\n",
      "Epoch[12/15]\n"
     ]
    },
    {
     "name": "stderr",
     "output_type": "stream",
     "text": [
      "100%|██████████| 434/434 [02:30<00:00,  2.88it/s]\n"
     ]
    },
    {
     "name": "stdout",
     "output_type": "stream",
     "text": [
      "Adjusting learning rate of group 0 to 2.8243e-06.\n",
      "Training loss: 0.046\t Training micro accuracy: 0.988\n"
     ]
    },
    {
     "name": "stderr",
     "output_type": "stream",
     "text": [
      "100%|██████████| 92/92 [00:05<00:00, 15.87it/s]\n"
     ]
    },
    {
     "name": "stdout",
     "output_type": "stream",
     "text": [
      "Validation loss: 1.943\t Validation micro accuracy: 0.607\n",
      "----------------------------------------------------------------\n",
      "Epoch[13/15]\n"
     ]
    },
    {
     "name": "stderr",
     "output_type": "stream",
     "text": [
      "100%|██████████| 434/434 [02:30<00:00,  2.88it/s]\n"
     ]
    },
    {
     "name": "stdout",
     "output_type": "stream",
     "text": [
      "Adjusting learning rate of group 0 to 2.5419e-06.\n",
      "Training loss: 0.046\t Training micro accuracy: 0.988\n"
     ]
    },
    {
     "name": "stderr",
     "output_type": "stream",
     "text": [
      "100%|██████████| 92/92 [00:05<00:00, 15.91it/s]\n"
     ]
    },
    {
     "name": "stdout",
     "output_type": "stream",
     "text": [
      "Validation loss: 1.961\t Validation micro accuracy: 0.605\n",
      "----------------------------------------------------------------\n",
      "Epoch[14/15]\n"
     ]
    },
    {
     "name": "stderr",
     "output_type": "stream",
     "text": [
      "100%|██████████| 434/434 [02:30<00:00,  2.89it/s]\n"
     ]
    },
    {
     "name": "stdout",
     "output_type": "stream",
     "text": [
      "Adjusting learning rate of group 0 to 2.2877e-06.\n",
      "Training loss: 0.036\t Training micro accuracy: 0.991\n"
     ]
    },
    {
     "name": "stderr",
     "output_type": "stream",
     "text": [
      "100%|██████████| 92/92 [00:05<00:00, 15.94it/s]\n"
     ]
    },
    {
     "name": "stdout",
     "output_type": "stream",
     "text": [
      "Validation loss: 1.990\t Validation micro accuracy: 0.614\n",
      "----------------------------------------------------------------\n",
      "Epoch[15/15]\n"
     ]
    },
    {
     "name": "stderr",
     "output_type": "stream",
     "text": [
      "100%|██████████| 434/434 [02:28<00:00,  2.92it/s]\n"
     ]
    },
    {
     "name": "stdout",
     "output_type": "stream",
     "text": [
      "Adjusting learning rate of group 0 to 2.0589e-06.\n",
      "Training loss: 0.033\t Training micro accuracy: 0.991\n"
     ]
    },
    {
     "name": "stderr",
     "output_type": "stream",
     "text": [
      "100%|██████████| 92/92 [00:05<00:00, 17.09it/s]\n"
     ]
    },
    {
     "name": "stdout",
     "output_type": "stream",
     "text": [
      "Validation loss: 2.020\t Validation micro accuracy: 0.607\n",
      "----------------------------------------------------------------\n",
      "\n",
      "Finished fine-tuning...\n",
      "Best epoch: 1\t Validation loss on best epoch: 0.8690157869587773\t Accuracy on best epoch: 0.6378488540649414\n"
     ]
    }
   ],
   "source": [
    "ft_train_history = {\n",
    "    \"loss\": [],\n",
    "    \"accuracy\": []\n",
    "}\n",
    "\n",
    "ft_val_history = {\n",
    "    \"loss\": [],\n",
    "    \"accuracy\": []\n",
    "}\n",
    "\n",
    "FT_NUM_EPOCHS = 15\n",
    "model.bert.requires_grad_(True) # Unfreeze language model layer\n",
    "\n",
    "ft_best_loss = best_loss \n",
    "ft_best_accuracy = best_accuracy\n",
    "ft_best_epoch = -1\n",
    "\n",
    "print(f\"Starting classification language model fine-tuning...\")\n",
    "\n",
    "for epoch in range(1, FT_NUM_EPOCHS + 1):\n",
    "    print(f\"Epoch[{epoch}/{FT_NUM_EPOCHS}]\")\n",
    "    \n",
    "    (train_target, train_preds, train_probs, _), train_loss = epoch_iter(\n",
    "        dataloader=train_dataloader,\n",
    "        model=model,\n",
    "        is_train=True,\n",
    "        optimizer=ft_optimizer,\n",
    "        lr_scheduler=ft_lr_scheduler\n",
    "    )\n",
    "    \n",
    "    train_accuracy = metric_scorer(torch.tensor(np.array(train_probs)), torch.tensor(np.array(train_target))).item()\n",
    "    print(f\"Training loss: {train_loss:.3f}\\t Training micro accuracy: {train_accuracy:.3f}\")\n",
    "\n",
    "    (val_target, val_preds, val_probs, _), val_loss = epoch_iter(\n",
    "        dataloader=val_dataloader,\n",
    "        model=model,\n",
    "        is_train=False,\n",
    "    )\n",
    "\n",
    "    val_accuracy = metric_scorer(torch.tensor(np.array(val_probs)), torch.tensor(np.array(val_target))).item()\n",
    "    print(f\"Validation loss: {val_loss:.3f}\\t Validation micro accuracy: {val_accuracy:.3f}\")\n",
    "    \n",
    "    # Save best model\n",
    "    if val_loss < ft_best_loss:\n",
    "        ft_best_loss = val_loss\n",
    "        ft_best_accuracy = val_accuracy\n",
    "        ft_best_epoch = epoch\n",
    "        \n",
    "        accelerator.wait_for_everyone()\n",
    "        unwrapped_model = accelerator.unwrap_model(model)\n",
    "        unwrapped_model.save_pretrained(f\"{OUT_DIR}/fine_tuned/best\", save_function=accelerator.save)\n",
    "\n",
    "    accelerator.wait_for_everyone()\n",
    "    unwrapped_model = accelerator.unwrap_model(model)\n",
    "    unwrapped_model.save_pretrained(f\"{OUT_DIR}/fine_tuned/latest\", save_function=accelerator.save)\n",
    "\n",
    "    ft_train_history[\"loss\"].append(train_loss)\n",
    "    ft_train_history[\"accuracy\"].append(train_accuracy)\n",
    "\n",
    "    ft_val_history[\"loss\"].append(val_loss)\n",
    "    ft_val_history[\"accuracy\"].append(val_accuracy)\n",
    "\n",
    "    print(\"----------------------------------------------------------------\")\n",
    "    \n",
    "print(\n",
    "    f\"\\nFinished fine-tuning...\"\n",
    "    f\"\\nBest epoch: {ft_best_epoch}\\t Validation loss on best epoch: {ft_best_loss}\\t Accuracy on best epoch: {ft_best_accuracy}\"\n",
    ")"
   ]
  },
  {
   "cell_type": "code",
   "execution_count": 41,
   "metadata": {},
   "outputs": [
    {
     "data": {
      "image/png": "[encoded data removed]",
      "text/plain": [
       "<Figure size 864x576 with 2 Axes>"
      ]
     },
     "metadata": {
      "needs_background": "light"
     },
     "output_type": "display_data"
    }
   ],
   "source": [
    "fig = plot_training_history(train_history=ft_train_history, val_history=ft_val_history, model_name=\"BERT-ADU-CLS\", phase_name=\"FINE-TUNE\", out_dir=OUT_DIR)\n",
    "fig.show()"
   ]
  },
  {
   "cell_type": "code",
   "execution_count": 42,
   "metadata": {},
   "outputs": [
    {
     "data": {
      "text/plain": [
       "(6420889600, 15843721216)"
      ]
     },
     "execution_count": 42,
     "metadata": {},
     "output_type": "execute_result"
    }
   ],
   "source": [
    "import gc\n",
    "model = None\n",
    "\n",
    "gc.collect()\n",
    "torch.cuda.empty_cache()\n",
    "torch.cuda.mem_get_info(\"cuda:0\")"
   ]
  },
  {
   "cell_type": "code",
   "execution_count": 43,
   "metadata": {},
   "outputs": [
    {
     "name": "stdout",
     "output_type": "stream",
     "text": [
      "Wed Jun  8 06:25:17 2022       \n",
      "+-----------------------------------------------------------------------------+\n",
      "| NVIDIA-SMI 440.33.01    Driver Version: 440.33.01    CUDA Version: 11.0     |\n",
      "|-------------------------------+----------------------+----------------------+\n",
      "| GPU  Name        Persistence-M| Bus-Id        Disp.A | Volatile Uncorr. ECC |\n",
      "| Fan  Temp  Perf  Pwr:Usage/Cap|         Memory-Usage | GPU-Util  Compute M. |\n",
      "|===============================+======================+======================|\n",
      "|   0  Tesla T4            On   | 00000000:00:1E.0 Off |                    0 |\n",
      "| N/A   39C    P0    28W /  70W |   8986MiB / 15109MiB |      0%      Default |\n",
      "+-------------------------------+----------------------+----------------------+\n",
      "                                                                               \n",
      "+-----------------------------------------------------------------------------+\n",
      "| Processes:                                                       GPU Memory |\n",
      "|  GPU       PID   Type   Process name                             Usage      |\n",
      "|=============================================================================|\n",
      "+-----------------------------------------------------------------------------+\n"
     ]
    }
   ],
   "source": [
    "!nvidia-smi"
   ]
  },
  {
   "cell_type": "markdown",
   "metadata": {},
   "source": [
    "# Test the model"
   ]
  },
  {
   "cell_type": "code",
   "execution_count": 44,
   "metadata": {},
   "outputs": [
    {
     "name": "stdout",
     "output_type": "stream",
     "text": [
      "Loaded best fine-tuned model...\n"
     ]
    },
    {
     "data": {
      "text/plain": [
       "================================================================================\n",
       "Layer (type:depth-idx)                                  Param #\n",
       "================================================================================\n",
       "BertForSequenceClassification                           --\n",
       "├─BertModel: 1-1                                        --\n",
       "│    └─BertEmbeddings: 2-1                              --\n",
       "│    │    └─Embedding: 3-1                              30,509,056\n",
       "│    │    └─Embedding: 3-2                              524,288\n",
       "│    │    └─Embedding: 3-3                              2,048\n",
       "│    │    └─LayerNorm: 3-4                              2,048\n",
       "│    │    └─Dropout: 3-5                                --\n",
       "│    └─BertEncoder: 2-2                                 --\n",
       "│    │    └─ModuleList: 3-6                             302,309,376\n",
       "│    └─BertPooler: 2-3                                  --\n",
       "│    │    └─Linear: 3-7                                 1,049,600\n",
       "│    │    └─Tanh: 3-8                                   --\n",
       "├─Dropout: 1-2                                          --\n",
       "├─Linear: 1-3                                           5,125\n",
       "================================================================================\n",
       "Total params: 334,401,541\n",
       "Trainable params: 334,401,541\n",
       "Non-trainable params: 0\n",
       "================================================================================"
      ]
     },
     "execution_count": 44,
     "metadata": {},
     "output_type": "execute_result"
    }
   ],
   "source": [
    "model = AutoModelForSequenceClassification.from_pretrained(f\"{OUT_DIR}/fine_tuned/best\", num_labels=N_CLASSES)\n",
    "\n",
    "print(\"Loaded best fine-tuned model...\")\n",
    "\n",
    "summary(model)"
   ]
  },
  {
   "cell_type": "code",
   "execution_count": 45,
   "metadata": {},
   "outputs": [],
   "source": [
    "accelerator = Accelerator()\n",
    "\n",
    "model, test_dataloader = accelerator.prepare(model, test_dataloader)"
   ]
  },
  {
   "cell_type": "code",
   "execution_count": 46,
   "metadata": {},
   "outputs": [
    {
     "name": "stderr",
     "output_type": "stream",
     "text": [
      "100%|██████████| 1787/1787 [00:42<00:00, 42.06it/s]\n"
     ]
    }
   ],
   "source": [
    "(test_target, test_preds, test_probs, test_ids), test_loss = epoch_iter(\n",
    "    dataloader=test_dataloader,\n",
    "    model=model,\n",
    "    is_train=False,\n",
    ")"
   ]
  },
  {
   "cell_type": "code",
   "execution_count": 47,
   "metadata": {},
   "outputs": [
    {
     "name": "stdout",
     "output_type": "stream",
     "text": [
      "              precision    recall  f1-score   support\n",
      "\n",
      "        Fact       0.64      0.47      0.54       393\n",
      "      Policy       0.59      0.58      0.58        69\n",
      "       Value       0.67      0.74      0.70       879\n",
      "    Value(+)       0.59      0.41      0.49       143\n",
      "    Value(-)       0.59      0.69      0.63       303\n",
      "\n",
      "    accuracy                           0.64      1787\n",
      "   macro avg       0.61      0.58      0.59      1787\n",
      "weighted avg       0.64      0.64      0.63      1787\n",
      "\n"
     ]
    }
   ],
   "source": [
    "from sklearn.metrics import classification_report\n",
    "print(classification_report(y_true=test_target, y_pred=test_preds, target_names=le.classes_.tolist()))"
   ]
  },
  {
   "cell_type": "code",
   "execution_count": 58,
   "metadata": {},
   "outputs": [
    {
     "data": {
      "image/png": "[encoded data removed]",
      "text/plain": [
       "<Figure size 432x288 with 2 Axes>"
      ]
     },
     "metadata": {
      "needs_background": "light"
     },
     "output_type": "display_data"
    }
   ],
   "source": [
    "from sklearn.metrics import confusion_matrix, ConfusionMatrixDisplay\n",
    "\n",
    "fig, ax = plt.subplots()\n",
    "\n",
    "test_confusion = confusion_matrix(y_true=test_target, y_pred=test_preds)\n",
    "cm_display = ConfusionMatrixDisplay(confusion_matrix=test_confusion, display_labels=le.classes_.tolist())\n",
    "\n",
    "cm_display.plot(ax=ax)\n",
    "ax.grid(False)\n",
    "ax.set_title(\"Multioutput - Confusion Matrix\")\n",
    "fig.savefig(f\"{OUT_DIR}/confusion_matrix.png\", dpi=150, bbox_inches='tight')\n",
    "fig.show()"
   ]
  },
  {
   "cell_type": "code",
   "execution_count": 56,
   "metadata": {},
   "outputs": [
    {
     "data": {
      "text/html": [
       "<div>\n",
       "<style scoped>\n",
       "    .dataframe tbody tr th:only-of-type {\n",
       "        vertical-align: middle;\n",
       "    }\n",
       "\n",
       "    .dataframe tbody tr th {\n",
       "        vertical-align: top;\n",
       "    }\n",
       "\n",
       "    .dataframe thead th {\n",
       "        text-align: right;\n",
       "    }\n",
       "</style>\n",
       "<table border=\"1\" class=\"dataframe\">\n",
       "  <thead>\n",
       "    <tr style=\"text-align: right;\">\n",
       "      <th></th>\n",
       "      <th>id</th>\n",
       "      <th>adu</th>\n",
       "      <th>target</th>\n",
       "      <th>predicted</th>\n",
       "    </tr>\n",
       "  </thead>\n",
       "  <tbody>\n",
       "    <tr>\n",
       "      <th>0</th>\n",
       "      <td>15224</td>\n",
       "      <td>ensinar a mentira histórica não é compatível c...</td>\n",
       "      <td>Value</td>\n",
       "      <td>Value(-)</td>\n",
       "    </tr>\n",
       "    <tr>\n",
       "      <th>1</th>\n",
       "      <td>45</td>\n",
       "      <td>O problema é que são infinitamente minoritários</td>\n",
       "      <td>Fact</td>\n",
       "      <td>Value</td>\n",
       "    </tr>\n",
       "    <tr>\n",
       "      <th>2</th>\n",
       "      <td>15374</td>\n",
       "      <td>O ano de 2018 foi de crescimento, poder-se-á a...</td>\n",
       "      <td>Value(+)</td>\n",
       "      <td>Fact</td>\n",
       "    </tr>\n",
       "    <tr>\n",
       "      <th>3</th>\n",
       "      <td>53</td>\n",
       "      <td>Segundo Galeno (célebre médico grego, tido com...</td>\n",
       "      <td>Fact</td>\n",
       "      <td>Value</td>\n",
       "    </tr>\n",
       "    <tr>\n",
       "      <th>4</th>\n",
       "      <td>98</td>\n",
       "      <td>é ao nível económico – concorrência e competit...</td>\n",
       "      <td>Fact</td>\n",
       "      <td>Value</td>\n",
       "    </tr>\n",
       "    <tr>\n",
       "      <th>...</th>\n",
       "      <td>...</td>\n",
       "      <td>...</td>\n",
       "      <td>...</td>\n",
       "      <td>...</td>\n",
       "    </tr>\n",
       "    <tr>\n",
       "      <th>643</th>\n",
       "      <td>16589</td>\n",
       "      <td>escreve H.M., “o idioma tem um valor decisivo ...</td>\n",
       "      <td>Fact</td>\n",
       "      <td>Value</td>\n",
       "    </tr>\n",
       "    <tr>\n",
       "      <th>644</th>\n",
       "      <td>16662</td>\n",
       "      <td>a escolha da escola e da sua localização tem u...</td>\n",
       "      <td>Fact</td>\n",
       "      <td>Value</td>\n",
       "    </tr>\n",
       "    <tr>\n",
       "      <th>645</th>\n",
       "      <td>16689</td>\n",
       "      <td>As restrições orçamentais</td>\n",
       "      <td>Value</td>\n",
       "      <td>Fact</td>\n",
       "    </tr>\n",
       "    <tr>\n",
       "      <th>646</th>\n",
       "      <td>16690</td>\n",
       "      <td>o investimento num curso superior compensa, qu...</td>\n",
       "      <td>Value(+)</td>\n",
       "      <td>Value</td>\n",
       "    </tr>\n",
       "    <tr>\n",
       "      <th>647</th>\n",
       "      <td>16728</td>\n",
       "      <td>A verdade é que existe falta de informação per...</td>\n",
       "      <td>Value</td>\n",
       "      <td>Value(-)</td>\n",
       "    </tr>\n",
       "  </tbody>\n",
       "</table>\n",
       "<p>648 rows × 4 columns</p>\n",
       "</div>"
      ],
      "text/plain": [
       "        id                                                adu    target  \\\n",
       "0    15224  ensinar a mentira histórica não é compatível c...     Value   \n",
       "1       45    O problema é que são infinitamente minoritários      Fact   \n",
       "2    15374  O ano de 2018 foi de crescimento, poder-se-á a...  Value(+)   \n",
       "3       53  Segundo Galeno (célebre médico grego, tido com...      Fact   \n",
       "4       98  é ao nível económico – concorrência e competit...      Fact   \n",
       "..     ...                                                ...       ...   \n",
       "643  16589  escreve H.M., “o idioma tem um valor decisivo ...      Fact   \n",
       "644  16662  a escolha da escola e da sua localização tem u...      Fact   \n",
       "645  16689                          As restrições orçamentais     Value   \n",
       "646  16690  o investimento num curso superior compensa, qu...  Value(+)   \n",
       "647  16728  A verdade é que existe falta de informação per...     Value   \n",
       "\n",
       "    predicted  \n",
       "0    Value(-)  \n",
       "1       Value  \n",
       "2        Fact  \n",
       "3       Value  \n",
       "4       Value  \n",
       "..        ...  \n",
       "643     Value  \n",
       "644     Value  \n",
       "645      Fact  \n",
       "646     Value  \n",
       "647  Value(-)  \n",
       "\n",
       "[648 rows x 4 columns]"
      ]
     },
     "execution_count": 56,
     "metadata": {},
     "output_type": "execute_result"
    }
   ],
   "source": [
    "def getErrors(adu_dataframe, adu_ids, y_true, y_pred):\n",
    "    df = pd.DataFrame(columns=[\"id\", \"adu\", \"target\", \"predicted\"])\n",
    "    for (aduId, correct, predicted) in zip(adu_ids, y_true, y_pred):\n",
    "        if correct == predicted:\n",
    "            continue\n",
    "        row = {\n",
    "            \"id\": aduId,\n",
    "            \"adu\": adu_dataframe.iloc[aduId][\"tokens\"],\n",
    "            \"target\": correct,\n",
    "            \"predicted\": predicted\n",
    "        }\n",
    "        \n",
    "        df = df.append(row, ignore_index=True)\n",
    "    return df\n",
    "\n",
    "errors_df = getErrors(adus, test_ids, le.inverse_transform(test_target), le.inverse_transform(test_preds))\n",
    "errors_df"
   ]
  },
  {
   "cell_type": "code",
   "execution_count": 57,
   "metadata": {},
   "outputs": [],
   "source": [
    "errors_df.to_csv(f\"{OUT_DIR}/test_errors.csv\", index=False)"
   ]
  },
  {
   "cell_type": "markdown",
   "metadata": {},
   "source": [
    "# Compare to other model\n",
    "Let's also use the other model, that was trained on data which contained conflicted annotations, too see how does it perform here."
   ]
  },
  {
   "cell_type": "code",
   "execution_count": 65,
   "metadata": {},
   "outputs": [
    {
     "data": {
      "text/plain": [
       "(3753312256, 15843721216)"
      ]
     },
     "execution_count": 65,
     "metadata": {},
     "output_type": "execute_result"
    }
   ],
   "source": [
    "import gc\n",
    "model = None\n",
    "\n",
    "gc.collect()\n",
    "torch.cuda.empty_cache()\n",
    "torch.cuda.mem_get_info(\"cuda:0\")"
   ]
  },
  {
   "cell_type": "code",
   "execution_count": 66,
   "metadata": {},
   "outputs": [
    {
     "name": "stdout",
     "output_type": "stream",
     "text": [
      "Wed Jun  8 06:47:53 2022       \n",
      "+-----------------------------------------------------------------------------+\n",
      "| NVIDIA-SMI 440.33.01    Driver Version: 440.33.01    CUDA Version: 11.0     |\n",
      "|-------------------------------+----------------------+----------------------+\n",
      "| GPU  Name        Persistence-M| Bus-Id        Disp.A | Volatile Uncorr. ECC |\n",
      "| Fan  Temp  Perf  Pwr:Usage/Cap|         Memory-Usage | GPU-Util  Compute M. |\n",
      "|===============================+======================+======================|\n",
      "|   0  Tesla T4            On   | 00000000:00:1E.0 Off |                    0 |\n",
      "| N/A   36C    P0    25W /  70W |  11530MiB / 15109MiB |      0%      Default |\n",
      "+-------------------------------+----------------------+----------------------+\n",
      "                                                                               \n",
      "+-----------------------------------------------------------------------------+\n",
      "| Processes:                                                       GPU Memory |\n",
      "|  GPU       PID   Type   Process name                             Usage      |\n",
      "|=============================================================================|\n",
      "+-----------------------------------------------------------------------------+\n"
     ]
    }
   ],
   "source": [
    "!nvidia-smi"
   ]
  },
  {
   "cell_type": "code",
   "execution_count": 67,
   "metadata": {},
   "outputs": [
    {
     "name": "stdout",
     "output_type": "stream",
     "text": [
      "Loaded best model...\n"
     ]
    },
    {
     "data": {
      "text/plain": [
       "================================================================================\n",
       "Layer (type:depth-idx)                                  Param #\n",
       "================================================================================\n",
       "BertForSequenceClassification                           --\n",
       "├─BertModel: 1-1                                        --\n",
       "│    └─BertEmbeddings: 2-1                              --\n",
       "│    │    └─Embedding: 3-1                              30,509,056\n",
       "│    │    └─Embedding: 3-2                              524,288\n",
       "│    │    └─Embedding: 3-3                              2,048\n",
       "│    │    └─LayerNorm: 3-4                              2,048\n",
       "│    │    └─Dropout: 3-5                                --\n",
       "│    └─BertEncoder: 2-2                                 --\n",
       "│    │    └─ModuleList: 3-6                             302,309,376\n",
       "│    └─BertPooler: 2-3                                  --\n",
       "│    │    └─Linear: 3-7                                 1,049,600\n",
       "│    │    └─Tanh: 3-8                                   --\n",
       "├─Dropout: 1-2                                          --\n",
       "├─Linear: 1-3                                           5,125\n",
       "================================================================================\n",
       "Total params: 334,401,541\n",
       "Trainable params: 334,401,541\n",
       "Non-trainable params: 0\n",
       "================================================================================"
      ]
     },
     "execution_count": 67,
     "metadata": {},
     "output_type": "execute_result"
    }
   ],
   "source": [
    "model = AutoModelForSequenceClassification.from_pretrained(f\"./out/classification_model/fine_tuned/best\", num_labels=N_CLASSES)\n",
    "\n",
    "print(\"Loaded best model...\")\n",
    "\n",
    "summary(model)"
   ]
  },
  {
   "cell_type": "code",
   "execution_count": 68,
   "metadata": {},
   "outputs": [],
   "source": [
    "accelerator = Accelerator()\n",
    "\n",
    "model, test_dataloader = accelerator.prepare(model, test_dataloader)"
   ]
  },
  {
   "cell_type": "code",
   "execution_count": 69,
   "metadata": {},
   "outputs": [
    {
     "name": "stderr",
     "output_type": "stream",
     "text": [
      "100%|██████████| 1787/1787 [00:41<00:00, 42.59it/s]\n"
     ]
    }
   ],
   "source": [
    "(test_target, test_preds, test_probs, test_ids), test_loss = epoch_iter(\n",
    "    dataloader=test_dataloader,\n",
    "    model=model,\n",
    "    is_train=False,\n",
    ")"
   ]
  },
  {
   "cell_type": "code",
   "execution_count": 70,
   "metadata": {},
   "outputs": [
    {
     "name": "stdout",
     "output_type": "stream",
     "text": [
      "              precision    recall  f1-score   support\n",
      "\n",
      "        Fact       0.71      0.48      0.57       393\n",
      "      Policy       0.68      0.75      0.72        69\n",
      "       Value       0.69      0.82      0.75       879\n",
      "    Value(+)       0.77      0.42      0.54       143\n",
      "    Value(-)       0.69      0.74      0.71       303\n",
      "\n",
      "    accuracy                           0.70      1787\n",
      "   macro avg       0.71      0.64      0.66      1787\n",
      "weighted avg       0.70      0.70      0.69      1787\n",
      "\n"
     ]
    }
   ],
   "source": [
    "print(classification_report(y_true=test_target, y_pred=test_preds, target_names=le.classes_.tolist()))"
   ]
  },
  {
   "cell_type": "code",
   "execution_count": 71,
   "metadata": {},
   "outputs": [
    {
     "data": {
      "image/png": "[encoded data removed]",
      "text/plain": [
       "<Figure size 432x288 with 2 Axes>"
      ]
     },
     "metadata": {
      "needs_background": "light"
     },
     "output_type": "display_data"
    }
   ],
   "source": [
    "fig, ax = plt.subplots()\n",
    "\n",
    "test_confusion = confusion_matrix(y_true=test_target, y_pred=test_preds)\n",
    "cm_display = ConfusionMatrixDisplay(confusion_matrix=test_confusion, display_labels=le.classes_.tolist())\n",
    "\n",
    "cm_display.plot(ax=ax)\n",
    "ax.grid(False)\n",
    "ax.set_title(\"Multioutput - Confusion Matrix\")\n",
    "fig.savefig(f\"{OUT_DIR}/cls_conflict_confusion_matrix.png\", dpi=150, bbox_inches='tight')\n",
    "fig.show()"
   ]
  },
  {
   "cell_type": "code",
   "execution_count": 72,
   "metadata": {},
   "outputs": [
    {
     "data": {
      "text/html": [
       "<div>\n",
       "<style scoped>\n",
       "    .dataframe tbody tr th:only-of-type {\n",
       "        vertical-align: middle;\n",
       "    }\n",
       "\n",
       "    .dataframe tbody tr th {\n",
       "        vertical-align: top;\n",
       "    }\n",
       "\n",
       "    .dataframe thead th {\n",
       "        text-align: right;\n",
       "    }\n",
       "</style>\n",
       "<table border=\"1\" class=\"dataframe\">\n",
       "  <thead>\n",
       "    <tr style=\"text-align: right;\">\n",
       "      <th></th>\n",
       "      <th>id</th>\n",
       "      <th>adu</th>\n",
       "      <th>target</th>\n",
       "      <th>predicted</th>\n",
       "    </tr>\n",
       "  </thead>\n",
       "  <tbody>\n",
       "    <tr>\n",
       "      <th>0</th>\n",
       "      <td>15350</td>\n",
       "      <td>Esses três pilares são fundamentais para o ava...</td>\n",
       "      <td>Value(+)</td>\n",
       "      <td>Value</td>\n",
       "    </tr>\n",
       "    <tr>\n",
       "      <th>1</th>\n",
       "      <td>45</td>\n",
       "      <td>O problema é que são infinitamente minoritários</td>\n",
       "      <td>Fact</td>\n",
       "      <td>Value</td>\n",
       "    </tr>\n",
       "    <tr>\n",
       "      <th>2</th>\n",
       "      <td>53</td>\n",
       "      <td>Segundo Galeno (célebre médico grego, tido com...</td>\n",
       "      <td>Fact</td>\n",
       "      <td>Value</td>\n",
       "    </tr>\n",
       "    <tr>\n",
       "      <th>3</th>\n",
       "      <td>98</td>\n",
       "      <td>é ao nível económico – concorrência e competit...</td>\n",
       "      <td>Fact</td>\n",
       "      <td>Value</td>\n",
       "    </tr>\n",
       "    <tr>\n",
       "      <th>4</th>\n",
       "      <td>15704</td>\n",
       "      <td>no caso da Guiné-Bissau, podemos afirmar categ...</td>\n",
       "      <td>Value(-)</td>\n",
       "      <td>Value</td>\n",
       "    </tr>\n",
       "    <tr>\n",
       "      <th>...</th>\n",
       "      <td>...</td>\n",
       "      <td>...</td>\n",
       "      <td>...</td>\n",
       "      <td>...</td>\n",
       "    </tr>\n",
       "    <tr>\n",
       "      <th>537</th>\n",
       "      <td>16589</td>\n",
       "      <td>escreve H.M., “o idioma tem um valor decisivo ...</td>\n",
       "      <td>Fact</td>\n",
       "      <td>Value</td>\n",
       "    </tr>\n",
       "    <tr>\n",
       "      <th>538</th>\n",
       "      <td>16662</td>\n",
       "      <td>a escolha da escola e da sua localização tem u...</td>\n",
       "      <td>Fact</td>\n",
       "      <td>Value</td>\n",
       "    </tr>\n",
       "    <tr>\n",
       "      <th>539</th>\n",
       "      <td>16689</td>\n",
       "      <td>As restrições orçamentais</td>\n",
       "      <td>Value</td>\n",
       "      <td>Fact</td>\n",
       "    </tr>\n",
       "    <tr>\n",
       "      <th>540</th>\n",
       "      <td>16690</td>\n",
       "      <td>o investimento num curso superior compensa, qu...</td>\n",
       "      <td>Value(+)</td>\n",
       "      <td>Value</td>\n",
       "    </tr>\n",
       "    <tr>\n",
       "      <th>541</th>\n",
       "      <td>16728</td>\n",
       "      <td>A verdade é que existe falta de informação per...</td>\n",
       "      <td>Value</td>\n",
       "      <td>Value(-)</td>\n",
       "    </tr>\n",
       "  </tbody>\n",
       "</table>\n",
       "<p>542 rows × 4 columns</p>\n",
       "</div>"
      ],
      "text/plain": [
       "        id                                                adu    target  \\\n",
       "0    15350  Esses três pilares são fundamentais para o ava...  Value(+)   \n",
       "1       45    O problema é que são infinitamente minoritários      Fact   \n",
       "2       53  Segundo Galeno (célebre médico grego, tido com...      Fact   \n",
       "3       98  é ao nível económico – concorrência e competit...      Fact   \n",
       "4    15704  no caso da Guiné-Bissau, podemos afirmar categ...  Value(-)   \n",
       "..     ...                                                ...       ...   \n",
       "537  16589  escreve H.M., “o idioma tem um valor decisivo ...      Fact   \n",
       "538  16662  a escolha da escola e da sua localização tem u...      Fact   \n",
       "539  16689                          As restrições orçamentais     Value   \n",
       "540  16690  o investimento num curso superior compensa, qu...  Value(+)   \n",
       "541  16728  A verdade é que existe falta de informação per...     Value   \n",
       "\n",
       "    predicted  \n",
       "0       Value  \n",
       "1       Value  \n",
       "2       Value  \n",
       "3       Value  \n",
       "4       Value  \n",
       "..        ...  \n",
       "537     Value  \n",
       "538     Value  \n",
       "539      Fact  \n",
       "540     Value  \n",
       "541  Value(-)  \n",
       "\n",
       "[542 rows x 4 columns]"
      ]
     },
     "execution_count": 72,
     "metadata": {},
     "output_type": "execute_result"
    }
   ],
   "source": [
    "def getErrors(adu_dataframe, adu_ids, y_true, y_pred):\n",
    "    df = pd.DataFrame(columns=[\"id\", \"adu\", \"target\", \"predicted\"])\n",
    "    for (aduId, correct, predicted) in zip(adu_ids, y_true, y_pred):\n",
    "        if correct == predicted:\n",
    "            continue\n",
    "        row = {\n",
    "            \"id\": aduId,\n",
    "            \"adu\": adu_dataframe.iloc[aduId][\"tokens\"],\n",
    "            \"target\": correct,\n",
    "            \"predicted\": predicted\n",
    "        }\n",
    "        \n",
    "        df = df.append(row, ignore_index=True)\n",
    "    return df\n",
    "\n",
    "errors_df = getErrors(adus, test_ids, le.inverse_transform(test_target), le.inverse_transform(test_preds))\n",
    "errors_df"
   ]
  },
  {
   "cell_type": "code",
   "execution_count": 73,
   "metadata": {},
   "outputs": [],
   "source": [
    "errors_df.to_csv(f\"{OUT_DIR}/cls_conflict_test_errors.csv\", index=False)"
   ]
  },
  {
   "cell_type": "markdown",
   "metadata": {},
   "source": [
    "# Fine-tune other model using non-conflicted dataset"
   ]
  },
  {
   "cell_type": "code",
   "execution_count": 33,
   "metadata": {},
   "outputs": [
    {
     "data": {
      "text/plain": [
       "(13322616832, 15843721216)"
      ]
     },
     "execution_count": 33,
     "metadata": {},
     "output_type": "execute_result"
    }
   ],
   "source": [
    "import gc\n",
    "model = None\n",
    "\n",
    "gc.collect()\n",
    "torch.cuda.empty_cache()\n",
    "torch.cuda.mem_get_info(\"cuda:0\")"
   ]
  },
  {
   "cell_type": "code",
   "execution_count": 34,
   "metadata": {},
   "outputs": [
    {
     "name": "stdout",
     "output_type": "stream",
     "text": [
      "Wed Jun  8 09:57:38 2022       \n",
      "+-----------------------------------------------------------------------------+\n",
      "| NVIDIA-SMI 440.33.01    Driver Version: 440.33.01    CUDA Version: 11.0     |\n",
      "|-------------------------------+----------------------+----------------------+\n",
      "| GPU  Name        Persistence-M| Bus-Id        Disp.A | Volatile Uncorr. ECC |\n",
      "| Fan  Temp  Perf  Pwr:Usage/Cap|         Memory-Usage | GPU-Util  Compute M. |\n",
      "|===============================+======================+======================|\n",
      "|   0  Tesla T4            On   | 00000000:00:1E.0 Off |                    0 |\n",
      "| N/A   52C    P0    28W /  70W |   2404MiB / 15109MiB |      0%      Default |\n",
      "+-------------------------------+----------------------+----------------------+\n",
      "                                                                               \n",
      "+-----------------------------------------------------------------------------+\n",
      "| Processes:                                                       GPU Memory |\n",
      "|  GPU       PID   Type   Process name                             Usage      |\n",
      "|=============================================================================|\n",
      "+-----------------------------------------------------------------------------+\n"
     ]
    }
   ],
   "source": [
    "!nvidia-smi"
   ]
  },
  {
   "cell_type": "code",
   "execution_count": 35,
   "metadata": {},
   "outputs": [],
   "source": [
    "from transformers import DataCollatorWithPadding\n",
    "from torch.utils.data import DataLoader\n",
    "\n",
    "BATCH_SIZE = 64 # Tested with NVIDIA Tesla T4 16GB\n",
    "\n",
    "train_dataloader = DataLoader(\n",
    "    dataset=cls_dataset[\"train\"],\n",
    "    shuffle=True,\n",
    "    batch_size=BATCH_SIZE,\n",
    "    collate_fn=data_collator\n",
    ")\n",
    "\n",
    "val_dataloader = DataLoader(\n",
    "    dataset=cls_dataset[\"val\"],\n",
    "    shuffle=False,\n",
    "    batch_size=BATCH_SIZE,\n",
    "    collate_fn=data_collator\n",
    ")"
   ]
  },
  {
   "cell_type": "code",
   "execution_count": 36,
   "metadata": {},
   "outputs": [
    {
     "name": "stdout",
     "output_type": "stream",
     "text": [
      "Loaded best model...\n"
     ]
    },
    {
     "data": {
      "text/plain": [
       "================================================================================\n",
       "Layer (type:depth-idx)                                  Param #\n",
       "================================================================================\n",
       "BertForSequenceClassification                           --\n",
       "├─BertModel: 1-1                                        --\n",
       "│    └─BertEmbeddings: 2-1                              --\n",
       "│    │    └─Embedding: 3-1                              30,509,056\n",
       "│    │    └─Embedding: 3-2                              524,288\n",
       "│    │    └─Embedding: 3-3                              2,048\n",
       "│    │    └─LayerNorm: 3-4                              2,048\n",
       "│    │    └─Dropout: 3-5                                --\n",
       "│    └─BertEncoder: 2-2                                 --\n",
       "│    │    └─ModuleList: 3-6                             302,309,376\n",
       "│    └─BertPooler: 2-3                                  --\n",
       "│    │    └─Linear: 3-7                                 1,049,600\n",
       "│    │    └─Tanh: 3-8                                   --\n",
       "├─Dropout: 1-2                                          --\n",
       "├─Linear: 1-3                                           5,125\n",
       "================================================================================\n",
       "Total params: 334,401,541\n",
       "Trainable params: 334,401,541\n",
       "Non-trainable params: 0\n",
       "================================================================================"
      ]
     },
     "execution_count": 36,
     "metadata": {},
     "output_type": "execute_result"
    }
   ],
   "source": [
    "model = AutoModelForSequenceClassification.from_pretrained(f\"./out/classification_model/fine_tuned/best\", num_labels=N_CLASSES)\n",
    "\n",
    "print(\"Loaded best model...\")\n",
    "\n",
    "summary(model)"
   ]
  },
  {
   "cell_type": "code",
   "execution_count": 37,
   "metadata": {},
   "outputs": [],
   "source": [
    "ft_optimizer = optim.Adam(\n",
    "    params=model.parameters(),\n",
    "    lr=1e-4,\n",
    "    betas=(0.9, 0.999),\n",
    "    weight_decay=5e-4,\n",
    "    amsgrad=True\n",
    ")\n",
    "\n",
    "accelerator = Accelerator()\n",
    "\n",
    "model, ft_optimizer, train_dataloader, val_dataloader = accelerator.prepare(\n",
    "    model, ft_optimizer, train_dataloader, val_dataloader\n",
    ")"
   ]
  },
  {
   "cell_type": "code",
   "execution_count": 38,
   "metadata": {},
   "outputs": [
    {
     "name": "stdout",
     "output_type": "stream",
     "text": [
      "Starting classification language model fine-tuning...\n",
      "Epoch[1/10]\n"
     ]
    },
    {
     "name": "stderr",
     "output_type": "stream",
     "text": [
      "100%|██████████| 109/109 [00:37<00:00,  2.89it/s]\n"
     ]
    },
    {
     "name": "stdout",
     "output_type": "stream",
     "text": [
      "Training loss: 0.799\t Training micro accuracy: 0.682\n"
     ]
    },
    {
     "name": "stderr",
     "output_type": "stream",
     "text": [
      "100%|██████████| 23/23 [00:06<00:00,  3.46it/s]\n"
     ]
    },
    {
     "name": "stdout",
     "output_type": "stream",
     "text": [
      "Validation loss: 0.725\t Validation micro accuracy: 0.705\n",
      "----------------------------------------------------------------\n",
      "Epoch[2/10]\n"
     ]
    },
    {
     "name": "stderr",
     "output_type": "stream",
     "text": [
      "100%|██████████| 109/109 [00:38<00:00,  2.85it/s]\n"
     ]
    },
    {
     "name": "stdout",
     "output_type": "stream",
     "text": [
      "Training loss: 0.795\t Training micro accuracy: 0.681\n"
     ]
    },
    {
     "name": "stderr",
     "output_type": "stream",
     "text": [
      "100%|██████████| 23/23 [00:06<00:00,  3.35it/s]\n"
     ]
    },
    {
     "name": "stdout",
     "output_type": "stream",
     "text": [
      "Validation loss: 0.725\t Validation micro accuracy: 0.711\n",
      "----------------------------------------------------------------\n",
      "Epoch[3/10]\n"
     ]
    },
    {
     "name": "stderr",
     "output_type": "stream",
     "text": [
      "100%|██████████| 109/109 [00:37<00:00,  2.88it/s]\n"
     ]
    },
    {
     "name": "stdout",
     "output_type": "stream",
     "text": [
      "Training loss: 0.790\t Training micro accuracy: 0.683\n"
     ]
    },
    {
     "name": "stderr",
     "output_type": "stream",
     "text": [
      "100%|██████████| 23/23 [00:07<00:00,  3.28it/s]\n"
     ]
    },
    {
     "name": "stdout",
     "output_type": "stream",
     "text": [
      "Validation loss: 0.720\t Validation micro accuracy: 0.703\n",
      "----------------------------------------------------------------\n",
      "Epoch[4/10]\n"
     ]
    },
    {
     "name": "stderr",
     "output_type": "stream",
     "text": [
      "100%|██████████| 109/109 [00:39<00:00,  2.77it/s]\n"
     ]
    },
    {
     "name": "stdout",
     "output_type": "stream",
     "text": [
      "Training loss: 0.793\t Training micro accuracy: 0.684\n"
     ]
    },
    {
     "name": "stderr",
     "output_type": "stream",
     "text": [
      "100%|██████████| 23/23 [00:07<00:00,  3.25it/s]\n"
     ]
    },
    {
     "name": "stdout",
     "output_type": "stream",
     "text": [
      "Validation loss: 0.719\t Validation micro accuracy: 0.701\n",
      "----------------------------------------------------------------\n",
      "Epoch[5/10]\n"
     ]
    },
    {
     "name": "stderr",
     "output_type": "stream",
     "text": [
      "100%|██████████| 109/109 [00:39<00:00,  2.77it/s]\n"
     ]
    },
    {
     "name": "stdout",
     "output_type": "stream",
     "text": [
      "Training loss: 0.782\t Training micro accuracy: 0.690\n"
     ]
    },
    {
     "name": "stderr",
     "output_type": "stream",
     "text": [
      "100%|██████████| 23/23 [00:07<00:00,  3.24it/s]\n"
     ]
    },
    {
     "name": "stdout",
     "output_type": "stream",
     "text": [
      "Validation loss: 0.719\t Validation micro accuracy: 0.705\n",
      "----------------------------------------------------------------\n",
      "Epoch[6/10]\n"
     ]
    },
    {
     "name": "stderr",
     "output_type": "stream",
     "text": [
      "100%|██████████| 109/109 [00:39<00:00,  2.75it/s]\n"
     ]
    },
    {
     "name": "stdout",
     "output_type": "stream",
     "text": [
      "Training loss: 0.790\t Training micro accuracy: 0.682\n"
     ]
    },
    {
     "name": "stderr",
     "output_type": "stream",
     "text": [
      "100%|██████████| 23/23 [00:07<00:00,  3.23it/s]\n"
     ]
    },
    {
     "name": "stdout",
     "output_type": "stream",
     "text": [
      "Validation loss: 0.718\t Validation micro accuracy: 0.702\n",
      "----------------------------------------------------------------\n",
      "Epoch[7/10]\n"
     ]
    },
    {
     "name": "stderr",
     "output_type": "stream",
     "text": [
      "100%|██████████| 109/109 [00:40<00:00,  2.72it/s]\n"
     ]
    },
    {
     "name": "stdout",
     "output_type": "stream",
     "text": [
      "Training loss: 0.789\t Training micro accuracy: 0.689\n"
     ]
    },
    {
     "name": "stderr",
     "output_type": "stream",
     "text": [
      "100%|██████████| 23/23 [00:07<00:00,  3.23it/s]\n"
     ]
    },
    {
     "name": "stdout",
     "output_type": "stream",
     "text": [
      "Validation loss: 0.717\t Validation micro accuracy: 0.707\n",
      "----------------------------------------------------------------\n",
      "Epoch[8/10]\n"
     ]
    },
    {
     "name": "stderr",
     "output_type": "stream",
     "text": [
      "100%|██████████| 109/109 [00:38<00:00,  2.80it/s]\n"
     ]
    },
    {
     "name": "stdout",
     "output_type": "stream",
     "text": [
      "Training loss: 0.782\t Training micro accuracy: 0.686\n"
     ]
    },
    {
     "name": "stderr",
     "output_type": "stream",
     "text": [
      "100%|██████████| 23/23 [00:07<00:00,  3.24it/s]\n"
     ]
    },
    {
     "name": "stdout",
     "output_type": "stream",
     "text": [
      "Validation loss: 0.716\t Validation micro accuracy: 0.703\n",
      "----------------------------------------------------------------\n",
      "Epoch[9/10]\n"
     ]
    },
    {
     "name": "stderr",
     "output_type": "stream",
     "text": [
      "100%|██████████| 109/109 [00:39<00:00,  2.78it/s]\n"
     ]
    },
    {
     "name": "stdout",
     "output_type": "stream",
     "text": [
      "Training loss: 0.786\t Training micro accuracy: 0.679\n"
     ]
    },
    {
     "name": "stderr",
     "output_type": "stream",
     "text": [
      "100%|██████████| 23/23 [00:07<00:00,  3.25it/s]\n"
     ]
    },
    {
     "name": "stdout",
     "output_type": "stream",
     "text": [
      "Validation loss: 0.718\t Validation micro accuracy: 0.705\n",
      "----------------------------------------------------------------\n",
      "Epoch[10/10]\n"
     ]
    },
    {
     "name": "stderr",
     "output_type": "stream",
     "text": [
      "100%|██████████| 109/109 [00:39<00:00,  2.74it/s]\n"
     ]
    },
    {
     "name": "stdout",
     "output_type": "stream",
     "text": [
      "Training loss: 0.780\t Training micro accuracy: 0.685\n"
     ]
    },
    {
     "name": "stderr",
     "output_type": "stream",
     "text": [
      "100%|██████████| 23/23 [00:07<00:00,  3.23it/s]\n"
     ]
    },
    {
     "name": "stdout",
     "output_type": "stream",
     "text": [
      "Validation loss: 0.715\t Validation micro accuracy: 0.705\n",
      "----------------------------------------------------------------\n",
      "\n",
      "Finished fine-tuning...\n",
      "Best epoch: 10\t Validation loss on best epoch: 0.7152820592341216\t Accuracy on best epoch: 0.7045609354972839\n"
     ]
    }
   ],
   "source": [
    "ft_train_history = {\n",
    "    \"loss\": [],\n",
    "    \"accuracy\": []\n",
    "}\n",
    "\n",
    "ft_val_history = {\n",
    "    \"loss\": [],\n",
    "    \"accuracy\": []\n",
    "}\n",
    "\n",
    "FT_NUM_EPOCHS = 10\n",
    "model.bert.requires_grad_(False) # Freeze language model layer, not worth leaving it unfrozen\n",
    "\n",
    "ft_best_loss = np.inf\n",
    "ft_best_accuracy = 0\n",
    "ft_best_epoch = -1\n",
    "\n",
    "print(f\"Starting classification language model fine-tuning...\")\n",
    "\n",
    "for epoch in range(1, FT_NUM_EPOCHS + 1):\n",
    "    print(f\"Epoch[{epoch}/{FT_NUM_EPOCHS}]\")\n",
    "    \n",
    "    (train_target, train_preds, train_probs, _), train_loss = epoch_iter(\n",
    "        dataloader=train_dataloader,\n",
    "        model=model,\n",
    "        is_train=True,\n",
    "        optimizer=ft_optimizer,\n",
    "        lr_scheduler=None\n",
    "    )\n",
    "    \n",
    "    train_accuracy = metric_scorer(torch.tensor(np.array(train_probs)), torch.tensor(np.array(train_target))).item()\n",
    "    print(f\"Training loss: {train_loss:.3f}\\t Training micro accuracy: {train_accuracy:.3f}\")\n",
    "\n",
    "    (val_target, val_preds, val_probs, _), val_loss = epoch_iter(\n",
    "        dataloader=val_dataloader,\n",
    "        model=model,\n",
    "        is_train=False,\n",
    "    )\n",
    "\n",
    "    val_accuracy = metric_scorer(torch.tensor(np.array(val_probs)), torch.tensor(np.array(val_target))).item()\n",
    "    print(f\"Validation loss: {val_loss:.3f}\\t Validation micro accuracy: {val_accuracy:.3f}\")\n",
    "    \n",
    "    # Save best model\n",
    "    if val_loss < ft_best_loss:\n",
    "        ft_best_loss = val_loss\n",
    "        ft_best_accuracy = val_accuracy\n",
    "        ft_best_epoch = epoch\n",
    "        \n",
    "        accelerator.wait_for_everyone()\n",
    "        unwrapped_model = accelerator.unwrap_model(model)\n",
    "        unwrapped_model.save_pretrained(f\"{OUT_DIR}/fine_tuned2/best\", save_function=accelerator.save)\n",
    "\n",
    "    accelerator.wait_for_everyone()\n",
    "    unwrapped_model = accelerator.unwrap_model(model)\n",
    "    unwrapped_model.save_pretrained(f\"{OUT_DIR}/fine_tuned2/latest\", save_function=accelerator.save)\n",
    "\n",
    "    ft_train_history[\"loss\"].append(train_loss)\n",
    "    ft_train_history[\"accuracy\"].append(train_accuracy)\n",
    "\n",
    "    ft_val_history[\"loss\"].append(val_loss)\n",
    "    ft_val_history[\"accuracy\"].append(val_accuracy)\n",
    "\n",
    "    print(\"----------------------------------------------------------------\")\n",
    "    \n",
    "print(\n",
    "    f\"\\nFinished fine-tuning...\"\n",
    "    f\"\\nBest epoch: {ft_best_epoch}\\t Validation loss on best epoch: {ft_best_loss}\\t Accuracy on best epoch: {ft_best_accuracy}\"\n",
    ")"
   ]
  },
  {
   "cell_type": "code",
   "execution_count": 49,
   "metadata": {},
   "outputs": [
    {
     "data": {
      "image/png": "[encoded data removed]",
      "text/plain": [
       "<Figure size 864x576 with 2 Axes>"
      ]
     },
     "metadata": {
      "needs_background": "light"
     },
     "output_type": "display_data"
    }
   ],
   "source": [
    "fig = plot_training_history(train_history=ft_train_history, val_history=ft_val_history, model_name=\"BERT-ADU-CLS_C\", phase_name=\"FINE-TUNE\", out_dir=OUT_DIR)\n",
    "fig.show()"
   ]
  },
  {
   "cell_type": "markdown",
   "metadata": {},
   "source": [
    "# Test the fine-tuned model"
   ]
  },
  {
   "cell_type": "code",
   "execution_count": 39,
   "metadata": {},
   "outputs": [
    {
     "data": {
      "text/plain": [
       "(11969953792, 15843721216)"
      ]
     },
     "execution_count": 39,
     "metadata": {},
     "output_type": "execute_result"
    }
   ],
   "source": [
    "import gc\n",
    "model = None\n",
    "\n",
    "gc.collect()\n",
    "torch.cuda.empty_cache()\n",
    "torch.cuda.mem_get_info(\"cuda:0\")"
   ]
  },
  {
   "cell_type": "code",
   "execution_count": 40,
   "metadata": {},
   "outputs": [
    {
     "name": "stdout",
     "output_type": "stream",
     "text": [
      "Wed Jun  8 10:06:47 2022       \n",
      "+-----------------------------------------------------------------------------+\n",
      "| NVIDIA-SMI 440.33.01    Driver Version: 440.33.01    CUDA Version: 11.0     |\n",
      "|-------------------------------+----------------------+----------------------+\n",
      "| GPU  Name        Persistence-M| Bus-Id        Disp.A | Volatile Uncorr. ECC |\n",
      "| Fan  Temp  Perf  Pwr:Usage/Cap|         Memory-Usage | GPU-Util  Compute M. |\n",
      "|===============================+======================+======================|\n",
      "|   0  Tesla T4            On   | 00000000:00:1E.0 Off |                    0 |\n",
      "| N/A   57C    P0    29W /  70W |   3694MiB / 15109MiB |      0%      Default |\n",
      "+-------------------------------+----------------------+----------------------+\n",
      "                                                                               \n",
      "+-----------------------------------------------------------------------------+\n",
      "| Processes:                                                       GPU Memory |\n",
      "|  GPU       PID   Type   Process name                             Usage      |\n",
      "|=============================================================================|\n",
      "+-----------------------------------------------------------------------------+\n"
     ]
    }
   ],
   "source": [
    "!nvidia-smi"
   ]
  },
  {
   "cell_type": "code",
   "execution_count": 41,
   "metadata": {},
   "outputs": [
    {
     "name": "stdout",
     "output_type": "stream",
     "text": [
      "Loaded best model...\n"
     ]
    },
    {
     "data": {
      "text/plain": [
       "================================================================================\n",
       "Layer (type:depth-idx)                                  Param #\n",
       "================================================================================\n",
       "BertForSequenceClassification                           --\n",
       "├─BertModel: 1-1                                        --\n",
       "│    └─BertEmbeddings: 2-1                              --\n",
       "│    │    └─Embedding: 3-1                              30,509,056\n",
       "│    │    └─Embedding: 3-2                              524,288\n",
       "│    │    └─Embedding: 3-3                              2,048\n",
       "│    │    └─LayerNorm: 3-4                              2,048\n",
       "│    │    └─Dropout: 3-5                                --\n",
       "│    └─BertEncoder: 2-2                                 --\n",
       "│    │    └─ModuleList: 3-6                             302,309,376\n",
       "│    └─BertPooler: 2-3                                  --\n",
       "│    │    └─Linear: 3-7                                 1,049,600\n",
       "│    │    └─Tanh: 3-8                                   --\n",
       "├─Dropout: 1-2                                          --\n",
       "├─Linear: 1-3                                           5,125\n",
       "================================================================================\n",
       "Total params: 334,401,541\n",
       "Trainable params: 334,401,541\n",
       "Non-trainable params: 0\n",
       "================================================================================"
      ]
     },
     "execution_count": 41,
     "metadata": {},
     "output_type": "execute_result"
    }
   ],
   "source": [
    "model = AutoModelForSequenceClassification.from_pretrained(f\"{OUT_DIR}/fine_tuned2/best\", num_labels=N_CLASSES)\n",
    "\n",
    "print(\"Loaded best model...\")\n",
    "\n",
    "summary(model)"
   ]
  },
  {
   "cell_type": "code",
   "execution_count": 42,
   "metadata": {},
   "outputs": [],
   "source": [
    "accelerator = Accelerator()\n",
    "\n",
    "model, test_dataloader = accelerator.prepare(model, test_dataloader)"
   ]
  },
  {
   "cell_type": "code",
   "execution_count": 43,
   "metadata": {},
   "outputs": [
    {
     "name": "stderr",
     "output_type": "stream",
     "text": [
      "100%|██████████| 1787/1787 [00:38<00:00, 46.63it/s]\n"
     ]
    }
   ],
   "source": [
    "(test_target, test_preds, test_probs, test_ids), test_loss = epoch_iter(\n",
    "    dataloader=test_dataloader,\n",
    "    model=model,\n",
    "    is_train=False,\n",
    ")"
   ]
  },
  {
   "cell_type": "code",
   "execution_count": 45,
   "metadata": {},
   "outputs": [
    {
     "name": "stdout",
     "output_type": "stream",
     "text": [
      "              precision    recall  f1-score   support\n",
      "\n",
      "        Fact       0.70      0.52      0.60       393\n",
      "      Policy       0.65      0.78      0.71        69\n",
      "       Value       0.71      0.82      0.76       879\n",
      "    Value(+)       0.74      0.51      0.61       143\n",
      "    Value(-)       0.71      0.71      0.71       303\n",
      "\n",
      "    accuracy                           0.71      1787\n",
      "   macro avg       0.70      0.67      0.68      1787\n",
      "weighted avg       0.71      0.71      0.70      1787\n",
      "\n"
     ]
    }
   ],
   "source": [
    "from sklearn.metrics import classification_report\n",
    "print(classification_report(y_true=test_target, y_pred=test_preds, target_names=le.classes_.tolist()))"
   ]
  },
  {
   "cell_type": "code",
   "execution_count": 46,
   "metadata": {},
   "outputs": [
    {
     "data": {
      "image/png": "[encoded data removed]",
      "text/plain": [
       "<Figure size 432x288 with 2 Axes>"
      ]
     },
     "metadata": {
      "needs_background": "light"
     },
     "output_type": "display_data"
    }
   ],
   "source": [
    "from sklearn.metrics import confusion_matrix, ConfusionMatrixDisplay\n",
    "fig, ax = plt.subplots()\n",
    "\n",
    "test_confusion = confusion_matrix(y_true=test_target, y_pred=test_preds)\n",
    "cm_display = ConfusionMatrixDisplay(confusion_matrix=test_confusion, display_labels=le.classes_.tolist())\n",
    "\n",
    "cm_display.plot(ax=ax)\n",
    "ax.grid(False)\n",
    "ax.set_title(\"Multioutput - Confusion Matrix\")\n",
    "fig.savefig(f\"{OUT_DIR}/cls_conflict_fine_tuned_confusion_matrix.png\", dpi=150, bbox_inches='tight')\n",
    "fig.show()"
   ]
  },
  {
   "cell_type": "code",
   "execution_count": 47,
   "metadata": {},
   "outputs": [
    {
     "data": {
      "text/html": [
       "<div>\n",
       "<style scoped>\n",
       "    .dataframe tbody tr th:only-of-type {\n",
       "        vertical-align: middle;\n",
       "    }\n",
       "\n",
       "    .dataframe tbody tr th {\n",
       "        vertical-align: top;\n",
       "    }\n",
       "\n",
       "    .dataframe thead th {\n",
       "        text-align: right;\n",
       "    }\n",
       "</style>\n",
       "<table border=\"1\" class=\"dataframe\">\n",
       "  <thead>\n",
       "    <tr style=\"text-align: right;\">\n",
       "      <th></th>\n",
       "      <th>id</th>\n",
       "      <th>adu</th>\n",
       "      <th>target</th>\n",
       "      <th>predicted</th>\n",
       "    </tr>\n",
       "  </thead>\n",
       "  <tbody>\n",
       "    <tr>\n",
       "      <th>0</th>\n",
       "      <td>45</td>\n",
       "      <td>O problema é que são infinitamente minoritários</td>\n",
       "      <td>Fact</td>\n",
       "      <td>Value</td>\n",
       "    </tr>\n",
       "    <tr>\n",
       "      <th>1</th>\n",
       "      <td>53</td>\n",
       "      <td>Segundo Galeno (célebre médico grego, tido com...</td>\n",
       "      <td>Fact</td>\n",
       "      <td>Value</td>\n",
       "    </tr>\n",
       "    <tr>\n",
       "      <th>2</th>\n",
       "      <td>98</td>\n",
       "      <td>é ao nível económico – concorrência e competit...</td>\n",
       "      <td>Fact</td>\n",
       "      <td>Value</td>\n",
       "    </tr>\n",
       "    <tr>\n",
       "      <th>3</th>\n",
       "      <td>15704</td>\n",
       "      <td>no caso da Guiné-Bissau, podemos afirmar categ...</td>\n",
       "      <td>Value(-)</td>\n",
       "      <td>Value</td>\n",
       "    </tr>\n",
       "    <tr>\n",
       "      <th>4</th>\n",
       "      <td>179</td>\n",
       "      <td>informar as pessoas do que podemos oferecer</td>\n",
       "      <td>Fact</td>\n",
       "      <td>Value</td>\n",
       "    </tr>\n",
       "    <tr>\n",
       "      <th>...</th>\n",
       "      <td>...</td>\n",
       "      <td>...</td>\n",
       "      <td>...</td>\n",
       "      <td>...</td>\n",
       "    </tr>\n",
       "    <tr>\n",
       "      <th>517</th>\n",
       "      <td>16589</td>\n",
       "      <td>escreve H.M., “o idioma tem um valor decisivo ...</td>\n",
       "      <td>Fact</td>\n",
       "      <td>Value</td>\n",
       "    </tr>\n",
       "    <tr>\n",
       "      <th>518</th>\n",
       "      <td>16662</td>\n",
       "      <td>a escolha da escola e da sua localização tem u...</td>\n",
       "      <td>Fact</td>\n",
       "      <td>Value</td>\n",
       "    </tr>\n",
       "    <tr>\n",
       "      <th>519</th>\n",
       "      <td>16689</td>\n",
       "      <td>As restrições orçamentais</td>\n",
       "      <td>Value</td>\n",
       "      <td>Fact</td>\n",
       "    </tr>\n",
       "    <tr>\n",
       "      <th>520</th>\n",
       "      <td>16690</td>\n",
       "      <td>o investimento num curso superior compensa, qu...</td>\n",
       "      <td>Value(+)</td>\n",
       "      <td>Value</td>\n",
       "    </tr>\n",
       "    <tr>\n",
       "      <th>521</th>\n",
       "      <td>16728</td>\n",
       "      <td>A verdade é que existe falta de informação per...</td>\n",
       "      <td>Value</td>\n",
       "      <td>Value(-)</td>\n",
       "    </tr>\n",
       "  </tbody>\n",
       "</table>\n",
       "<p>522 rows × 4 columns</p>\n",
       "</div>"
      ],
      "text/plain": [
       "        id                                                adu    target  \\\n",
       "0       45    O problema é que são infinitamente minoritários      Fact   \n",
       "1       53  Segundo Galeno (célebre médico grego, tido com...      Fact   \n",
       "2       98  é ao nível económico – concorrência e competit...      Fact   \n",
       "3    15704  no caso da Guiné-Bissau, podemos afirmar categ...  Value(-)   \n",
       "4      179        informar as pessoas do que podemos oferecer      Fact   \n",
       "..     ...                                                ...       ...   \n",
       "517  16589  escreve H.M., “o idioma tem um valor decisivo ...      Fact   \n",
       "518  16662  a escolha da escola e da sua localização tem u...      Fact   \n",
       "519  16689                          As restrições orçamentais     Value   \n",
       "520  16690  o investimento num curso superior compensa, qu...  Value(+)   \n",
       "521  16728  A verdade é que existe falta de informação per...     Value   \n",
       "\n",
       "    predicted  \n",
       "0       Value  \n",
       "1       Value  \n",
       "2       Value  \n",
       "3       Value  \n",
       "4       Value  \n",
       "..        ...  \n",
       "517     Value  \n",
       "518     Value  \n",
       "519      Fact  \n",
       "520     Value  \n",
       "521  Value(-)  \n",
       "\n",
       "[522 rows x 4 columns]"
      ]
     },
     "execution_count": 47,
     "metadata": {},
     "output_type": "execute_result"
    }
   ],
   "source": [
    "def getErrors(adu_dataframe, adu_ids, y_true, y_pred):\n",
    "    df = pd.DataFrame(columns=[\"id\", \"adu\", \"target\", \"predicted\"])\n",
    "    for (aduId, correct, predicted) in zip(adu_ids, y_true, y_pred):\n",
    "        if correct == predicted:\n",
    "            continue\n",
    "        row = {\n",
    "            \"id\": aduId,\n",
    "            \"adu\": adu_dataframe.iloc[aduId][\"tokens\"],\n",
    "            \"target\": correct,\n",
    "            \"predicted\": predicted\n",
    "        }\n",
    "        \n",
    "        df = df.append(row, ignore_index=True)\n",
    "    return df\n",
    "\n",
    "errors_df = getErrors(adus, test_ids, le.inverse_transform(test_target), le.inverse_transform(test_preds))\n",
    "errors_df"
   ]
  },
  {
   "cell_type": "code",
   "execution_count": 48,
   "metadata": {},
   "outputs": [],
   "source": [
    "errors_df.to_csv(f\"{OUT_DIR}/cls_conflict_fine_tuned_test_errors.csv\", index=False)"
   ]
  },
  {
   "cell_type": "code",
   "execution_count": null,
   "metadata": {},
   "outputs": [],
   "source": []
  }
 ],
 "metadata": {
  "interpreter": {
   "hash": "706ee1819b983a943bbea807e6681581497887a5e921ebf85b777ef931d5d8ae"
  },
  "kernelspec": {
   "display_name": "Python 3",
   "language": "python",
   "name": "python3"
  },
  "language_info": {
   "codemirror_mode": {
    "name": "ipython",
    "version": 3
   },
   "file_extension": ".py",
   "mimetype": "text/x-python",
   "name": "python",
   "nbconvert_exporter": "python",
   "pygments_lexer": "ipython3",
   "version": "3.6.9"
  }
 },
 "nbformat": 4,
 "nbformat_minor": 4
}
