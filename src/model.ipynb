{
 "cells": [
  {
   "cell_type": "code",
   "execution_count": 20,
   "metadata": {},
   "outputs": [
    {
     "name": "stderr",
     "output_type": "stream",
     "text": [
      "Some weights of BertForPreTraining were not initialized from the model checkpoint at neuralmind/bert-large-portuguese-cased and are newly initialized: ['cls.predictions.decoder.bias']\n",
      "You should probably TRAIN this model on a down-stream task to be able to use it for predictions and inference.\n"
     ]
    }
   ],
   "source": [
    "from transformers import AutoTokenizer, AutoModelForPreTraining, AutoModel\n",
    "\n",
    "model = AutoModelForPreTraining.from_pretrained('neuralmind/bert-large-portuguese-cased')\n",
    "tokenizer = AutoTokenizer.from_pretrained('neuralmind/bert-large-portuguese-cased', do_lower_case=True)"
   ]
  },
  {
   "cell_type": "code",
   "execution_count": 47,
   "metadata": {},
   "outputs": [],
   "source": [
    "from utils.io import read_excel\n",
    "articles = read_excel(\"OpArticles.xlsx\", \"../data/\")\n",
    "adus = read_excel(\"OpArticles_ADUs.xlsx\", \"../data/\")"
   ]
  },
  {
   "cell_type": "code",
   "execution_count": 51,
   "metadata": {},
   "outputs": [],
   "source": [
    "adus_ids = list(range(len(adus)))\n",
    "articles_ids = list(range(len(articles)))"
   ]
  },
  {
   "cell_type": "code",
   "execution_count": 52,
   "metadata": {},
   "outputs": [],
   "source": [
    "import numpy as np\n",
    "np.random.shuffle(adus_ids)\n",
    "np.random.shuffle(articles_ids)\n",
    "\n",
    "split_adu = int(np.floor(0.2 * len(adus_ids)))\n",
    "split_article = int(np.floor(0.2 * len(articles_ids)))\n",
    "\n",
    "train_adu, test_adu = adus_ids[split_adu:], adus_ids[:split_adu]\n",
    "train_article, test_article = articles_ids[split_article:], articles_ids[:split_article]"
   ]
  },
  {
   "cell_type": "code",
   "execution_count": 57,
   "metadata": {},
   "outputs": [],
   "source": [
    "with open(\"articles_test.txt\", \"w\") as f:\n",
    "    for id in test_article:\n",
    "        f.writelines(f\"{id}\\n\")\n",
    "\n",
    "with open(\"articles_train.txt\", \"w\") as f:\n",
    "    for id in test_article:\n",
    "        f.writelines(f\"{id}\\n\")\n",
    "\n",
    "with open(\"adu_test.txt\", \"w\") as f:\n",
    "    for id in test_article:\n",
    "        f.writelines(f\"{id}\\n\")\n",
    "\n",
    "with open(\"adu_test.txt\", \"w\") as f:\n",
    "    for id in test_article:\n",
    "        f.writelines(f\"{id}\\n\")"
   ]
  }
 ],
 "metadata": {
  "interpreter": {
   "hash": "706ee1819b983a943bbea807e6681581497887a5e921ebf85b777ef931d5d8ae"
  },
  "kernelspec": {
   "display_name": "Python 3.8.9 64-bit",
   "language": "python",
   "name": "python3"
  },
  "language_info": {
   "codemirror_mode": {
    "name": "ipython",
    "version": 3
   },
   "file_extension": ".py",
   "mimetype": "text/x-python",
   "name": "python",
   "nbconvert_exporter": "python",
   "pygments_lexer": "ipython3",
   "version": "3.8.9"
  },
  "orig_nbformat": 4
 },
 "nbformat": 4,
 "nbformat_minor": 2
}
