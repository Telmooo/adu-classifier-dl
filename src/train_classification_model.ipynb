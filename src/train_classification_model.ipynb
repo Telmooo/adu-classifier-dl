{
 "cells": [
  {
   "cell_type": "code",
   "execution_count": 1,
   "metadata": {},
   "outputs": [],
   "source": [
    "# Requirements\n",
    "# Comment if already satisfied\n",
    "#!pip install -U jupyter\n",
    "#!pip install datasets transformers accelerate torch torchinfo xlrd seaborn sklearn\n",
    "#!pip install --upgrade --quiet jupyter_client ipywidgets\n",
    "#!jupyter nbextension enable --py widgetsnbextension"
   ]
  },
  {
   "cell_type": "code",
   "execution_count": 2,
   "metadata": {},
   "outputs": [],
   "source": [
    "import os\n",
    "import pandas as pd\n",
    "\n",
    "DATA_DIR = \"../data/\"\n",
    "LM_DIR = \"./out/language_model\"\n",
    "OUT_DIR = \"./out/classification_model\"\n",
    "\n",
    "os.makedirs(OUT_DIR, exist_ok=True)\n",
    "\n",
    "SEED = 42"
   ]
  },
  {
   "cell_type": "markdown",
   "metadata": {},
   "source": [
    "# Load Dataset"
   ]
  },
  {
   "cell_type": "code",
   "execution_count": 3,
   "metadata": {},
   "outputs": [
    {
     "data": {
      "text/html": [
       "<div>\n",
       "<style scoped>\n",
       "    .dataframe tbody tr th:only-of-type {\n",
       "        vertical-align: middle;\n",
       "    }\n",
       "\n",
       "    .dataframe tbody tr th {\n",
       "        vertical-align: top;\n",
       "    }\n",
       "\n",
       "    .dataframe thead th {\n",
       "        text-align: right;\n",
       "    }\n",
       "</style>\n",
       "<table border=\"1\" class=\"dataframe\">\n",
       "  <thead>\n",
       "    <tr style=\"text-align: right;\">\n",
       "      <th></th>\n",
       "      <th>article_id</th>\n",
       "      <th>annotator</th>\n",
       "      <th>node</th>\n",
       "      <th>ranges</th>\n",
       "      <th>tokens</th>\n",
       "      <th>label</th>\n",
       "    </tr>\n",
       "  </thead>\n",
       "  <tbody>\n",
       "    <tr>\n",
       "      <th>0</th>\n",
       "      <td>5d04a31b896a7fea069ef06f</td>\n",
       "      <td>A</td>\n",
       "      <td>0</td>\n",
       "      <td>[[2516, 2556]]</td>\n",
       "      <td>O facto não é apenas fruto da ignorância</td>\n",
       "      <td>Value</td>\n",
       "    </tr>\n",
       "    <tr>\n",
       "      <th>1</th>\n",
       "      <td>5d04a31b896a7fea069ef06f</td>\n",
       "      <td>A</td>\n",
       "      <td>1</td>\n",
       "      <td>[[2568, 2806]]</td>\n",
       "      <td>havia no seu humor mais jornalismo (mais inves...</td>\n",
       "      <td>Value</td>\n",
       "    </tr>\n",
       "    <tr>\n",
       "      <th>2</th>\n",
       "      <td>5d04a31b896a7fea069ef06f</td>\n",
       "      <td>A</td>\n",
       "      <td>3</td>\n",
       "      <td>[[3169, 3190]]</td>\n",
       "      <td>É tudo cómico na FIFA</td>\n",
       "      <td>Value</td>\n",
       "    </tr>\n",
       "    <tr>\n",
       "      <th>3</th>\n",
       "      <td>5d04a31b896a7fea069ef06f</td>\n",
       "      <td>A</td>\n",
       "      <td>4</td>\n",
       "      <td>[[3198, 3285]]</td>\n",
       "      <td>o que todos nós permitimos que esta organizaçã...</td>\n",
       "      <td>Value</td>\n",
       "    </tr>\n",
       "    <tr>\n",
       "      <th>4</th>\n",
       "      <td>5d04a31b896a7fea069ef06f</td>\n",
       "      <td>A</td>\n",
       "      <td>6</td>\n",
       "      <td>[[4257, 4296]]</td>\n",
       "      <td>não nos fazem rir à custa dos poderosos</td>\n",
       "      <td>Value</td>\n",
       "    </tr>\n",
       "  </tbody>\n",
       "</table>\n",
       "</div>"
      ],
      "text/plain": [
       "                 article_id annotator  node          ranges  \\\n",
       "0  5d04a31b896a7fea069ef06f         A     0  [[2516, 2556]]   \n",
       "1  5d04a31b896a7fea069ef06f         A     1  [[2568, 2806]]   \n",
       "2  5d04a31b896a7fea069ef06f         A     3  [[3169, 3190]]   \n",
       "3  5d04a31b896a7fea069ef06f         A     4  [[3198, 3285]]   \n",
       "4  5d04a31b896a7fea069ef06f         A     6  [[4257, 4296]]   \n",
       "\n",
       "                                              tokens  label  \n",
       "0           O facto não é apenas fruto da ignorância  Value  \n",
       "1  havia no seu humor mais jornalismo (mais inves...  Value  \n",
       "2                              É tudo cómico na FIFA  Value  \n",
       "3  o que todos nós permitimos que esta organizaçã...  Value  \n",
       "4            não nos fazem rir à custa dos poderosos  Value  "
      ]
     },
     "execution_count": 3,
     "metadata": {},
     "output_type": "execute_result"
    }
   ],
   "source": [
    "#articles = pd.read_excel(os.path.join(DATA_DIR, \"OpArticles_ADUs.xlsx\"))\n",
    "adus = pd.read_csv(os.path.join(DATA_DIR, \"OpArticles_ADUs.csv\")) # If pandas version doesn't support .xlsx, use this instaed\n",
    "\n",
    "adus.head()"
   ]
  },
  {
   "cell_type": "code",
   "execution_count": 4,
   "metadata": {},
   "outputs": [
    {
     "name": "stdout",
     "output_type": "stream",
     "text": [
      "Label Ratios\n",
      "Value       0.483904\n",
      "Fact        0.218778\n",
      "Value(-)    0.173207\n",
      "Value(+)    0.084274\n",
      "Policy      0.039838\n",
      "Name: label, dtype: float64\n"
     ]
    },
    {
     "data": {
      "image/png": "[encoded data removed]",
      "text/plain": [
       "<Figure size 432x288 with 1 Axes>"
      ]
     },
     "metadata": {
      "needs_background": "light"
     },
     "output_type": "display_data"
    },
    {
     "data": {
      "text/plain": [
       "<Figure size 432x288 with 0 Axes>"
      ]
     },
     "metadata": {},
     "output_type": "display_data"
    }
   ],
   "source": [
    "import matplotlib.pyplot as plt\n",
    "import seaborn as sns\n",
    "\n",
    "print(\"Label Ratios\")\n",
    "print(adus[\"label\"].value_counts() / len(adus[\"label\"]))\n",
    "\n",
    "fig, ax = plt.subplots()\n",
    "sns.countplot(data=adus, x=\"label\", ax=ax)\n",
    "ax.set_title(\"Distribution of labels on ADUs\")\n",
    "ax.set_xlabel(\"Label\")\n",
    "ax.set_ylabel(\"Count\")\n",
    "fig.savefig(f\"{OUT_DIR}/label_distribution_full.png\", dpi=150, bbox_inches='tight')\n",
    "plt.show()\n",
    "plt.clf()"
   ]
  },
  {
   "cell_type": "markdown",
   "metadata": {},
   "source": [
    "Encode Labels"
   ]
  },
  {
   "cell_type": "code",
   "execution_count": 5,
   "metadata": {},
   "outputs": [
    {
     "data": {
      "text/html": [
       "<div>\n",
       "<style scoped>\n",
       "    .dataframe tbody tr th:only-of-type {\n",
       "        vertical-align: middle;\n",
       "    }\n",
       "\n",
       "    .dataframe tbody tr th {\n",
       "        vertical-align: top;\n",
       "    }\n",
       "\n",
       "    .dataframe thead th {\n",
       "        text-align: right;\n",
       "    }\n",
       "</style>\n",
       "<table border=\"1\" class=\"dataframe\">\n",
       "  <thead>\n",
       "    <tr style=\"text-align: right;\">\n",
       "      <th></th>\n",
       "      <th>article_id</th>\n",
       "      <th>annotator</th>\n",
       "      <th>node</th>\n",
       "      <th>ranges</th>\n",
       "      <th>tokens</th>\n",
       "      <th>label</th>\n",
       "    </tr>\n",
       "  </thead>\n",
       "  <tbody>\n",
       "    <tr>\n",
       "      <th>0</th>\n",
       "      <td>5d04a31b896a7fea069ef06f</td>\n",
       "      <td>A</td>\n",
       "      <td>0</td>\n",
       "      <td>[[2516, 2556]]</td>\n",
       "      <td>O facto não é apenas fruto da ignorância</td>\n",
       "      <td>2</td>\n",
       "    </tr>\n",
       "    <tr>\n",
       "      <th>1</th>\n",
       "      <td>5d04a31b896a7fea069ef06f</td>\n",
       "      <td>A</td>\n",
       "      <td>1</td>\n",
       "      <td>[[2568, 2806]]</td>\n",
       "      <td>havia no seu humor mais jornalismo (mais inves...</td>\n",
       "      <td>2</td>\n",
       "    </tr>\n",
       "    <tr>\n",
       "      <th>2</th>\n",
       "      <td>5d04a31b896a7fea069ef06f</td>\n",
       "      <td>A</td>\n",
       "      <td>3</td>\n",
       "      <td>[[3169, 3190]]</td>\n",
       "      <td>É tudo cómico na FIFA</td>\n",
       "      <td>2</td>\n",
       "    </tr>\n",
       "    <tr>\n",
       "      <th>3</th>\n",
       "      <td>5d04a31b896a7fea069ef06f</td>\n",
       "      <td>A</td>\n",
       "      <td>4</td>\n",
       "      <td>[[3198, 3285]]</td>\n",
       "      <td>o que todos nós permitimos que esta organizaçã...</td>\n",
       "      <td>2</td>\n",
       "    </tr>\n",
       "    <tr>\n",
       "      <th>4</th>\n",
       "      <td>5d04a31b896a7fea069ef06f</td>\n",
       "      <td>A</td>\n",
       "      <td>6</td>\n",
       "      <td>[[4257, 4296]]</td>\n",
       "      <td>não nos fazem rir à custa dos poderosos</td>\n",
       "      <td>2</td>\n",
       "    </tr>\n",
       "  </tbody>\n",
       "</table>\n",
       "</div>"
      ],
      "text/plain": [
       "                 article_id annotator  node          ranges  \\\n",
       "0  5d04a31b896a7fea069ef06f         A     0  [[2516, 2556]]   \n",
       "1  5d04a31b896a7fea069ef06f         A     1  [[2568, 2806]]   \n",
       "2  5d04a31b896a7fea069ef06f         A     3  [[3169, 3190]]   \n",
       "3  5d04a31b896a7fea069ef06f         A     4  [[3198, 3285]]   \n",
       "4  5d04a31b896a7fea069ef06f         A     6  [[4257, 4296]]   \n",
       "\n",
       "                                              tokens  label  \n",
       "0           O facto não é apenas fruto da ignorância      2  \n",
       "1  havia no seu humor mais jornalismo (mais inves...      2  \n",
       "2                              É tudo cómico na FIFA      2  \n",
       "3  o que todos nós permitimos que esta organizaçã...      2  \n",
       "4            não nos fazem rir à custa dos poderosos      2  "
      ]
     },
     "execution_count": 5,
     "metadata": {},
     "output_type": "execute_result"
    }
   ],
   "source": [
    "classes = [\"Fact\", \"Policy\", \"Value\", \"Value(+)\", \"Value(-)\"]\n",
    "from sklearn.preprocessing import LabelEncoder\n",
    "le = LabelEncoder()\n",
    "adus[\"label\"] = le.fit_transform(adus[\"label\"])\n",
    "\n",
    "adus.head()"
   ]
  },
  {
   "cell_type": "markdown",
   "metadata": {},
   "source": [
    "# Create Train, Validation and Test splits"
   ]
  },
  {
   "cell_type": "code",
   "execution_count": 6,
   "metadata": {},
   "outputs": [
    {
     "name": "stdout",
     "output_type": "stream",
     "text": [
      "Train Label Ratios\n",
      "Value       0.483949\n",
      "Fact        0.218738\n",
      "Value(-)    0.173199\n",
      "Value(+)    0.084267\n",
      "Policy      0.039847\n",
      "dtype: float64\n",
      "Validation Label Ratios\n",
      "Value       0.483763\n",
      "Fact        0.218738\n",
      "Value(-)    0.173199\n",
      "Value(+)    0.084360\n",
      "Policy      0.039940\n",
      "dtype: float64\n",
      "Test Label Ratios\n",
      "Value       0.483871\n",
      "Fact        0.218937\n",
      "Value(-)    0.173238\n",
      "Value(+)    0.084229\n",
      "Policy      0.039725\n",
      "dtype: float64\n"
     ]
    },
    {
     "data": {
      "image/png": "[encoded data removed]",
      "text/plain": [
       "<Figure size 1152x288 with 3 Axes>"
      ]
     },
     "metadata": {
      "needs_background": "light"
     },
     "output_type": "display_data"
    },
    {
     "data": {
      "text/plain": [
       "<Figure size 432x288 with 0 Axes>"
      ]
     },
     "metadata": {},
     "output_type": "display_data"
    }
   ],
   "source": [
    "# Maintain the ratios of labels across splits\n",
    "train_val_adus = adus.groupby(\"label\").sample(frac=0.8, random_state=SEED)\n",
    "test_adus = adus.loc[adus.index.difference(train_val_adus.index)]\n",
    "\n",
    "train_adus = train_val_adus.groupby(\"label\").sample(frac=0.8, random_state=SEED)\n",
    "val_adus = train_val_adus.loc[train_val_adus.index.difference(train_adus.index)]\n",
    "\n",
    "fig, (train_ax, val_ax, test_ax) = plt.subplots(figsize=(16, 4), ncols=3)\n",
    "for split, df, ax in zip([\"Train\", \"Validation\", \"Test\"], [train_adus, val_adus, test_adus], [train_ax, val_ax, test_ax]):\n",
    "    df_labels = le.inverse_transform(df[\"label\"])\n",
    "    sns.countplot(x=df_labels, ax=ax, order=[\"Value\", \"Fact\", \"Value(-)\", \"Value(+)\", \"Policy\"])\n",
    "    ax.set_title(f\"Distribution of labels on {split} ADUs\")\n",
    "    ax.set_xlabel(\"Label\")\n",
    "    ax.set_ylabel(\"Count\")\n",
    "    \n",
    "    print(f\"{split} Label Ratios\")\n",
    "    print(pd.Series(df_labels).value_counts() / len(df_labels))\n",
    "fig.savefig(f\"{OUT_DIR}/label_distribution_splits.png\", dpi=150, bbox_inches='tight')\n",
    "plt.show()\n",
    "plt.clf()"
   ]
  },
  {
   "cell_type": "markdown",
   "metadata": {},
   "source": [
    "# Convert Dataset to HF Dataset"
   ]
  },
  {
   "cell_type": "code",
   "execution_count": 7,
   "metadata": {},
   "outputs": [
    {
     "name": "stdout",
     "output_type": "stream",
     "text": [
      "DatasetDict({\n",
      "    train: Dataset({\n",
      "        features: ['tokens', 'label', 'article_id', 'annotator', 'node', 'ranges'],\n",
      "        num_rows: 10716\n",
      "    })\n",
      "    val: Dataset({\n",
      "        features: ['tokens', 'label', 'article_id', 'annotator', 'node', 'ranges'],\n",
      "        num_rows: 2679\n",
      "    })\n",
      "    test: Dataset({\n",
      "        features: ['tokens', 'label', 'article_id', 'annotator', 'node', 'ranges'],\n",
      "        num_rows: 3348\n",
      "    })\n",
      "})\n"
     ]
    }
   ],
   "source": [
    "from datasets.dataset_dict import DatasetDict\n",
    "from datasets import Dataset, DatasetInfo, Features, Value, ClassLabel\n",
    "info = DatasetInfo(\n",
    "    features=Features({\n",
    "        \"tokens\": Value(\"string\"),\n",
    "        \"label\": ClassLabel(num_classes=len(classes), names=le.classes_.tolist()),\n",
    "        \"article_id\": Value(\"string\"),\n",
    "        \"annotator\": Value(\"string\"),\n",
    "        \"node\": Value(\"int64\"),\n",
    "        \"ranges\": Value(\"string\"),\n",
    "    })\n",
    ")\n",
    "\n",
    "adus_dataset = DatasetDict({\n",
    "    \"train\": Dataset.from_pandas(train_adus, preserve_index=False, info=info),\n",
    "    \"val\": Dataset.from_pandas(val_adus, preserve_index=False, info=info),\n",
    "    \"test\": Dataset.from_pandas(test_adus, preserve_index=False, info=info)\n",
    "})\n",
    "\n",
    "print(adus_dataset)"
   ]
  },
  {
   "cell_type": "code",
   "execution_count": 8,
   "metadata": {},
   "outputs": [
    {
     "data": {
      "text/plain": [
       "{'tokens': Value(dtype='string', id=None),\n",
       " 'label': ClassLabel(num_classes=5, names=['Fact', 'Policy', 'Value', 'Value(+)', 'Value(-)'], id=None),\n",
       " 'article_id': Value(dtype='string', id=None),\n",
       " 'annotator': Value(dtype='string', id=None),\n",
       " 'node': Value(dtype='int64', id=None),\n",
       " 'ranges': Value(dtype='string', id=None)}"
      ]
     },
     "execution_count": 8,
     "metadata": {},
     "output_type": "execute_result"
    }
   ],
   "source": [
    "adus_dataset[\"train\"].features"
   ]
  },
  {
   "cell_type": "markdown",
   "metadata": {},
   "source": [
    "Remove unnecessary columns"
   ]
  },
  {
   "cell_type": "code",
   "execution_count": 9,
   "metadata": {},
   "outputs": [
    {
     "name": "stdout",
     "output_type": "stream",
     "text": [
      "DatasetDict({\n",
      "    train: Dataset({\n",
      "        features: ['tokens', 'label', 'article_id'],\n",
      "        num_rows: 10716\n",
      "    })\n",
      "    val: Dataset({\n",
      "        features: ['tokens', 'label', 'article_id'],\n",
      "        num_rows: 2679\n",
      "    })\n",
      "    test: Dataset({\n",
      "        features: ['tokens', 'label', 'article_id'],\n",
      "        num_rows: 3348\n",
      "    })\n",
      "})\n"
     ]
    }
   ],
   "source": [
    "adus_dataset = adus_dataset.remove_columns([\"annotator\", \"node\", \"ranges\"])\n",
    "print(adus_dataset)"
   ]
  },
  {
   "cell_type": "markdown",
   "metadata": {},
   "source": [
    "Base Tokenizer"
   ]
  },
  {
   "cell_type": "code",
   "execution_count": 10,
   "metadata": {},
   "outputs": [],
   "source": [
    "from transformers import AutoTokenizer\n",
    "\n",
    "tokenizer = AutoTokenizer.from_pretrained('neuralmind/bert-large-portuguese-cased', do_lower_case=True)"
   ]
  },
  {
   "cell_type": "code",
   "execution_count": 11,
   "metadata": {},
   "outputs": [],
   "source": [
    "def tokenize(batch):\n",
    "    result = tokenizer(batch[\"tokens\"])\n",
    "    return result"
   ]
  },
  {
   "cell_type": "code",
   "execution_count": 12,
   "metadata": {},
   "outputs": [
    {
     "data": {
      "application/vnd.jupyter.widget-view+json": {
       "model_id": "be8250cf601d49198a4eaab7efdc9127",
       "version_major": 2,
       "version_minor": 0
      },
      "text/plain": [
       "  0%|          | 0/11 [00:00<?, ?ba/s]"
      ]
     },
     "metadata": {},
     "output_type": "display_data"
    },
    {
     "data": {
      "application/vnd.jupyter.widget-view+json": {
       "model_id": "93b0396301594c6fa2121da2369f7eea",
       "version_major": 2,
       "version_minor": 0
      },
      "text/plain": [
       "  0%|          | 0/3 [00:00<?, ?ba/s]"
      ]
     },
     "metadata": {},
     "output_type": "display_data"
    },
    {
     "data": {
      "application/vnd.jupyter.widget-view+json": {
       "model_id": "0a0f7a1054e640ab81eb4aa95e26f622",
       "version_major": 2,
       "version_minor": 0
      },
      "text/plain": [
       "  0%|          | 0/4 [00:00<?, ?ba/s]"
      ]
     },
     "metadata": {},
     "output_type": "display_data"
    },
    {
     "name": "stdout",
     "output_type": "stream",
     "text": [
      "DatasetDict({\n",
      "    train: Dataset({\n",
      "        features: ['label', 'input_ids', 'token_type_ids', 'attention_mask'],\n",
      "        num_rows: 10716\n",
      "    })\n",
      "    val: Dataset({\n",
      "        features: ['label', 'input_ids', 'token_type_ids', 'attention_mask'],\n",
      "        num_rows: 2679\n",
      "    })\n",
      "    test: Dataset({\n",
      "        features: ['label', 'input_ids', 'token_type_ids', 'attention_mask'],\n",
      "        num_rows: 3348\n",
      "    })\n",
      "})\n"
     ]
    }
   ],
   "source": [
    "cls_dataset = adus_dataset.map(\n",
    "    tokenize, batched=True, remove_columns=[\"article_id\", \"tokens\"]\n",
    ")\n",
    "\n",
    "print(cls_dataset)"
   ]
  },
  {
   "cell_type": "markdown",
   "metadata": {},
   "source": [
    "# Define Dataloaders"
   ]
  },
  {
   "cell_type": "code",
   "execution_count": 13,
   "metadata": {},
   "outputs": [],
   "source": [
    "from transformers import DataCollatorWithPadding\n",
    "from torch.utils.data import DataLoader\n",
    "\n",
    "data_collator = DataCollatorWithPadding(tokenizer=tokenizer, return_tensors=\"pt\")\n",
    "\n",
    "BATCH_SIZE = 128 # Tested with NVIDIA Tesla T4 16GB\n",
    "train_dataloader = DataLoader(\n",
    "    dataset=cls_dataset[\"train\"],\n",
    "    shuffle=True,\n",
    "    batch_size=BATCH_SIZE,\n",
    "    collate_fn=data_collator\n",
    ")\n",
    "\n",
    "val_dataloader = DataLoader(\n",
    "    dataset=cls_dataset[\"val\"],\n",
    "    shuffle=True,\n",
    "    batch_size=BATCH_SIZE,\n",
    "    collate_fn=data_collator\n",
    ")\n",
    "\n",
    "test_dataloader = DataLoader(\n",
    "    dataset=cls_dataset[\"test\"],\n",
    "    shuffle=True,\n",
    "    batch_size=1,\n",
    "    collate_fn=data_collator\n",
    ")"
   ]
  },
  {
   "cell_type": "markdown",
   "metadata": {},
   "source": [
    "# Model Definition"
   ]
  },
  {
   "cell_type": "code",
   "execution_count": 14,
   "metadata": {},
   "outputs": [
    {
     "name": "stderr",
     "output_type": "stream",
     "text": [
      "Some weights of the model checkpoint at ./out/language_model/best were not used when initializing BertForSequenceClassification: ['cls.predictions.bias', 'cls.predictions.transform.LayerNorm.weight', 'cls.predictions.transform.dense.weight', 'cls.predictions.decoder.bias', 'cls.predictions.transform.LayerNorm.bias', 'cls.predictions.transform.dense.bias', 'cls.predictions.decoder.weight']\n",
      "- This IS expected if you are initializing BertForSequenceClassification from the checkpoint of a model trained on another task or with another architecture (e.g. initializing a BertForSequenceClassification model from a BertForPreTraining model).\n",
      "- This IS NOT expected if you are initializing BertForSequenceClassification from the checkpoint of a model that you expect to be exactly identical (initializing a BertForSequenceClassification model from a BertForSequenceClassification model).\n",
      "Some weights of BertForSequenceClassification were not initialized from the model checkpoint at ./out/language_model/best and are newly initialized: ['classifier.weight', 'bert.pooler.dense.bias', 'bert.pooler.dense.weight', 'classifier.bias']\n",
      "You should probably TRAIN this model on a down-stream task to be able to use it for predictions and inference.\n"
     ]
    },
    {
     "data": {
      "text/plain": [
       "================================================================================\n",
       "Layer (type:depth-idx)                                  Param #\n",
       "================================================================================\n",
       "BertForSequenceClassification                           --\n",
       "├─BertModel: 1-1                                        --\n",
       "│    └─BertEmbeddings: 2-1                              --\n",
       "│    │    └─Embedding: 3-1                              30,509,056\n",
       "│    │    └─Embedding: 3-2                              524,288\n",
       "│    │    └─Embedding: 3-3                              2,048\n",
       "│    │    └─LayerNorm: 3-4                              2,048\n",
       "│    │    └─Dropout: 3-5                                --\n",
       "│    └─BertEncoder: 2-2                                 --\n",
       "│    │    └─ModuleList: 3-6                             302,309,376\n",
       "│    └─BertPooler: 2-3                                  --\n",
       "│    │    └─Linear: 3-7                                 1,049,600\n",
       "│    │    └─Tanh: 3-8                                   --\n",
       "├─Dropout: 1-2                                          --\n",
       "├─Linear: 1-3                                           5,125\n",
       "================================================================================\n",
       "Total params: 334,401,541\n",
       "Trainable params: 334,401,541\n",
       "Non-trainable params: 0\n",
       "================================================================================"
      ]
     },
     "execution_count": 14,
     "metadata": {},
     "output_type": "execute_result"
    }
   ],
   "source": [
    "from transformers import AutoModelForSequenceClassification\n",
    "from torchinfo import summary\n",
    "\n",
    "model = AutoModelForSequenceClassification.from_pretrained(f\"{LM_DIR}/best\", num_labels=len(classes))\n",
    "\n",
    "summary(model)"
   ]
  },
  {
   "cell_type": "markdown",
   "metadata": {},
   "source": [
    "# Define Optimizer"
   ]
  },
  {
   "cell_type": "code",
   "execution_count": 15,
   "metadata": {},
   "outputs": [],
   "source": [
    "from torch import optim\n",
    "\n",
    "optimizer = optim.AdamW(\n",
    "    params=model.parameters(),\n",
    "    lr=1e-3,\n",
    "    betas=(0.9, 0.999),\n",
    "    weight_decay=1e-4,\n",
    "    amsgrad=True\n",
    ")"
   ]
  },
  {
   "cell_type": "markdown",
   "metadata": {},
   "source": [
    "# Prepare Classification Model"
   ]
  },
  {
   "cell_type": "code",
   "execution_count": 16,
   "metadata": {},
   "outputs": [
    {
     "name": "stderr",
     "output_type": "stream",
     "text": [
      "/usr/local/lib/python3.6/dist-packages/setuptools/distutils_patch.py:26: UserWarning: Distutils was imported before Setuptools. This usage is discouraged and may exhibit undesirable behaviors or errors. Please use Setuptools' objects directly or at least import Setuptools first.\n",
      "  \"Distutils was imported before Setuptools. This usage is discouraged \"\n"
     ]
    }
   ],
   "source": [
    "from accelerate import Accelerator\n",
    "\n",
    "accelerator = Accelerator()\n",
    "\n",
    "model, optimizer, train_dataloader, val_dataloader = accelerator.prepare(\n",
    "    model, optimizer, train_dataloader, val_dataloader\n",
    ")"
   ]
  },
  {
   "cell_type": "markdown",
   "metadata": {},
   "source": [
    "# Define Epoch Iteration"
   ]
  },
  {
   "cell_type": "code",
   "execution_count": 20,
   "metadata": {},
   "outputs": [],
   "source": [
    "import torch\n",
    "import torch.nn.functional as F\n",
    "from tqdm import tqdm\n",
    "import numpy as np\n",
    "\n",
    "def epoch_iter(dataloader, model, is_train = True, optimizer=None, lr_scheduler=None):\n",
    "    if is_train:\n",
    "        assert optimizer is not None, \"When training, please provide an optimizer.\"\n",
    "      \n",
    "    num_batches = len(dataloader)\n",
    "\n",
    "    if is_train:\n",
    "        model.train()\n",
    "    else:\n",
    "        model.eval()\n",
    "\n",
    "    losses = []\n",
    "\n",
    "    with torch.set_grad_enabled(is_train):\n",
    "        for batch in tqdm(train_dataloader):\n",
    "            outputs = model(**batch)\n",
    "            \n",
    "            loss = output.loss\n",
    "\n",
    "            if is_train:\n",
    "                optimizer.zero_grad()\n",
    "                accelerator.backward(loss)\n",
    "                optimizer.step()\n",
    "            \n",
    "            total\n",
    "\n",
    "            prob = F.softmax(pred, dim=1)\n",
    "            final_pred = torch.argmax(prob, dim=1)\n",
    "\n",
    "            probs.extend(prob.detach().cpu().numpy())\n",
    "            preds.extend(final_pred.detach().cpu().numpy())\n",
    "            expected_labels.extend(y.detach().cpu().numpy())\n",
    "            imageIds.extend([f\"road{imageId}\" for imageId in ids.detach().cpu().numpy()])\n",
    "            \n",
    "            prob = F.softmax(outputs.logits, dim=1)\n",
    "            print(prob)\n",
    "            break"
   ]
  },
  {
   "cell_type": "markdown",
   "metadata": {},
   "source": [
    "# Train Classification Model"
   ]
  },
  {
   "cell_type": "code",
   "execution_count": 18,
   "metadata": {},
   "outputs": [],
   "source": [
    "from transformers import get_scheduler\n",
    "\n",
    "NUM_EPOCHS = 30\n",
    "num_update_steps_per_epoch = len(train_dataloader)\n",
    "num_training_steps = num_update_steps_per_epoch * num_update_steps_per_epoch\n",
    "\n",
    "lr_scheduler = get_scheduler(\n",
    "    \"linear\",\n",
    "    optimizer=optimizer,\n",
    "    num_warmup_steps=0,\n",
    "    num_training_steps=num_training_steps,\n",
    ")"
   ]
  },
  {
   "cell_type": "code",
   "execution_count": 21,
   "metadata": {},
   "outputs": [
    {
     "name": "stdout",
     "output_type": "stream",
     "text": [
      "Starting classification language model training...\n",
      "Epoch[1/30]\n"
     ]
    },
    {
     "name": "stderr",
     "output_type": "stream",
     "text": [
      "  0%|          | 0/84 [00:01<?, ?it/s]"
     ]
    },
    {
     "name": "stdout",
     "output_type": "stream",
     "text": [
      "tensor([[0.3159, 0.1337, 0.1355, 0.2328, 0.1821],\n",
      "        [0.2787, 0.1275, 0.2687, 0.1748, 0.1503],\n",
      "        [0.2577, 0.1593, 0.2558, 0.1446, 0.1826],\n",
      "        [0.2388, 0.1495, 0.2421, 0.1919, 0.1777],\n",
      "        [0.2609, 0.1774, 0.1967, 0.2295, 0.1355],\n",
      "        [0.2165, 0.1659, 0.2175, 0.2068, 0.1934],\n",
      "        [0.2647, 0.2051, 0.1739, 0.1731, 0.1832],\n",
      "        [0.1673, 0.2059, 0.1591, 0.2499, 0.2179],\n",
      "        [0.2280, 0.1798, 0.1302, 0.2198, 0.2422],\n",
      "        [0.2162, 0.1554, 0.2259, 0.2053, 0.1973],\n",
      "        [0.3305, 0.1880, 0.1718, 0.1670, 0.1428],\n",
      "        [0.2365, 0.1845, 0.2732, 0.1638, 0.1419],\n",
      "        [0.2331, 0.1505, 0.2550, 0.1867, 0.1747],\n",
      "        [0.2402, 0.1919, 0.1718, 0.2375, 0.1586],\n",
      "        [0.2560, 0.2492, 0.1869, 0.1841, 0.1237],\n",
      "        [0.2660, 0.2050, 0.1828, 0.1419, 0.2043],\n",
      "        [0.2208, 0.1961, 0.2254, 0.1721, 0.1856],\n",
      "        [0.2366, 0.1745, 0.1979, 0.2096, 0.1815],\n",
      "        [0.2191, 0.1653, 0.2078, 0.1941, 0.2136],\n",
      "        [0.2179, 0.1780, 0.1626, 0.2663, 0.1751],\n",
      "        [0.2654, 0.1505, 0.2182, 0.1958, 0.1701],\n",
      "        [0.2491, 0.1583, 0.2207, 0.1868, 0.1851],\n",
      "        [0.2266, 0.1722, 0.1976, 0.2146, 0.1890],\n",
      "        [0.2792, 0.2260, 0.1339, 0.2051, 0.1558],\n",
      "        [0.2526, 0.1289, 0.1689, 0.2322, 0.2174],\n",
      "        [0.2345, 0.1600, 0.2637, 0.1873, 0.1546],\n",
      "        [0.2926, 0.2211, 0.1506, 0.1662, 0.1695],\n",
      "        [0.2927, 0.1686, 0.1705, 0.2199, 0.1483],\n",
      "        [0.2212, 0.1726, 0.2066, 0.1879, 0.2117],\n",
      "        [0.2434, 0.1729, 0.2337, 0.1996, 0.1503],\n",
      "        [0.2662, 0.1577, 0.2056, 0.1849, 0.1856],\n",
      "        [0.2690, 0.1664, 0.1537, 0.2003, 0.2106],\n",
      "        [0.2761, 0.2251, 0.1544, 0.2017, 0.1427],\n",
      "        [0.2780, 0.1722, 0.1502, 0.2212, 0.1783],\n",
      "        [0.2800, 0.1592, 0.2875, 0.1326, 0.1407],\n",
      "        [0.2558, 0.1573, 0.2492, 0.1920, 0.1458],\n",
      "        [0.2929, 0.1779, 0.1807, 0.1825, 0.1661],\n",
      "        [0.1371, 0.2896, 0.1784, 0.2006, 0.1943],\n",
      "        [0.2067, 0.1603, 0.1835, 0.2432, 0.2063],\n",
      "        [0.2300, 0.1602, 0.1837, 0.2622, 0.1639],\n",
      "        [0.2659, 0.1974, 0.1252, 0.2749, 0.1365],\n",
      "        [0.2115, 0.1770, 0.2618, 0.1600, 0.1897],\n",
      "        [0.2260, 0.1520, 0.1792, 0.2525, 0.1903],\n",
      "        [0.2476, 0.1037, 0.1789, 0.2653, 0.2046],\n",
      "        [0.3035, 0.1758, 0.2076, 0.1395, 0.1736],\n",
      "        [0.1917, 0.1813, 0.1869, 0.2207, 0.2193],\n",
      "        [0.2746, 0.1633, 0.1786, 0.1793, 0.2041],\n",
      "        [0.2694, 0.1461, 0.2357, 0.2123, 0.1365],\n",
      "        [0.2221, 0.1851, 0.1651, 0.2071, 0.2206],\n",
      "        [0.2473, 0.1720, 0.1762, 0.2547, 0.1498],\n",
      "        [0.1995, 0.1637, 0.2402, 0.2603, 0.1362],\n",
      "        [0.1939, 0.2022, 0.1882, 0.2055, 0.2103],\n",
      "        [0.2266, 0.1721, 0.2197, 0.2181, 0.1636],\n",
      "        [0.2918, 0.1481, 0.1886, 0.2348, 0.1366],\n",
      "        [0.2289, 0.1649, 0.1873, 0.2315, 0.1874],\n",
      "        [0.2666, 0.1983, 0.2525, 0.1909, 0.0917],\n",
      "        [0.2768, 0.2069, 0.2001, 0.1623, 0.1539],\n",
      "        [0.2542, 0.1398, 0.1572, 0.2706, 0.1782],\n",
      "        [0.2866, 0.1453, 0.1859, 0.2080, 0.1742],\n",
      "        [0.1894, 0.2309, 0.2336, 0.1838, 0.1623],\n",
      "        [0.1301, 0.2041, 0.2173, 0.2833, 0.1652],\n",
      "        [0.3012, 0.1802, 0.1367, 0.2093, 0.1726],\n",
      "        [0.2522, 0.1757, 0.2125, 0.2020, 0.1577],\n",
      "        [0.2962, 0.1340, 0.2005, 0.1748, 0.1944],\n",
      "        [0.2247, 0.2246, 0.1758, 0.1871, 0.1878],\n",
      "        [0.1728, 0.1874, 0.2165, 0.2445, 0.1787],\n",
      "        [0.2113, 0.2724, 0.1737, 0.2011, 0.1415],\n",
      "        [0.2376, 0.1674, 0.1861, 0.1540, 0.2550],\n",
      "        [0.2626, 0.2627, 0.1432, 0.1670, 0.1644],\n",
      "        [0.2111, 0.2042, 0.1703, 0.2302, 0.1841],\n",
      "        [0.1613, 0.1616, 0.1920, 0.2936, 0.1915],\n",
      "        [0.2544, 0.1921, 0.1571, 0.2071, 0.1893],\n",
      "        [0.2335, 0.2162, 0.1961, 0.1601, 0.1942],\n",
      "        [0.2372, 0.2090, 0.2009, 0.1890, 0.1638],\n",
      "        [0.3154, 0.1382, 0.1720, 0.1893, 0.1850],\n",
      "        [0.2391, 0.1734, 0.1688, 0.1985, 0.2202],\n",
      "        [0.2741, 0.1350, 0.2605, 0.1990, 0.1315],\n",
      "        [0.1528, 0.1775, 0.2334, 0.2418, 0.1945],\n",
      "        [0.2348, 0.1458, 0.2179, 0.2432, 0.1584],\n",
      "        [0.2145, 0.2214, 0.1802, 0.2219, 0.1620],\n",
      "        [0.2036, 0.1902, 0.1971, 0.2026, 0.2065],\n",
      "        [0.2303, 0.2124, 0.2027, 0.1677, 0.1869],\n",
      "        [0.2555, 0.1378, 0.2381, 0.2153, 0.1534],\n",
      "        [0.2616, 0.1779, 0.1453, 0.2180, 0.1972],\n",
      "        [0.2447, 0.2044, 0.2058, 0.1822, 0.1629],\n",
      "        [0.2266, 0.1587, 0.1526, 0.3106, 0.1515],\n",
      "        [0.2901, 0.1424, 0.2060, 0.1832, 0.1783],\n",
      "        [0.2830, 0.2037, 0.2343, 0.1604, 0.1186],\n",
      "        [0.2993, 0.1719, 0.2371, 0.1453, 0.1464],\n",
      "        [0.2379, 0.1651, 0.1861, 0.2291, 0.1817],\n",
      "        [0.2460, 0.1536, 0.2244, 0.2070, 0.1690],\n",
      "        [0.2915, 0.1421, 0.2339, 0.1449, 0.1876],\n",
      "        [0.2513, 0.1303, 0.1921, 0.2435, 0.1828],\n",
      "        [0.2390, 0.1772, 0.1918, 0.2295, 0.1626],\n",
      "        [0.3165, 0.1453, 0.1781, 0.1588, 0.2013],\n",
      "        [0.2616, 0.1877, 0.1742, 0.2411, 0.1354],\n",
      "        [0.2148, 0.1672, 0.1993, 0.2491, 0.1696],\n",
      "        [0.2634, 0.1576, 0.2198, 0.1553, 0.2039],\n",
      "        [0.1827, 0.2289, 0.2541, 0.1609, 0.1735],\n",
      "        [0.1967, 0.2719, 0.2151, 0.1711, 0.1453],\n",
      "        [0.2623, 0.1194, 0.2934, 0.1861, 0.1388],\n",
      "        [0.2185, 0.2133, 0.1616, 0.2362, 0.1704],\n",
      "        [0.2152, 0.1835, 0.2155, 0.2025, 0.1834],\n",
      "        [0.2680, 0.1368, 0.1867, 0.2245, 0.1841],\n",
      "        [0.2837, 0.1418, 0.1693, 0.2607, 0.1445],\n",
      "        [0.2500, 0.1739, 0.2082, 0.2053, 0.1625],\n",
      "        [0.2683, 0.1536, 0.2002, 0.2148, 0.1631],\n",
      "        [0.2457, 0.1777, 0.1698, 0.2153, 0.1915],\n",
      "        [0.2838, 0.1962, 0.1806, 0.2188, 0.1206],\n",
      "        [0.2286, 0.1823, 0.2018, 0.1959, 0.1914],\n",
      "        [0.2649, 0.1467, 0.1610, 0.2462, 0.1813],\n",
      "        [0.2633, 0.1496, 0.2134, 0.2035, 0.1702],\n",
      "        [0.2650, 0.1569, 0.1619, 0.1884, 0.2277],\n",
      "        [0.2641, 0.1775, 0.1933, 0.2280, 0.1371],\n",
      "        [0.2509, 0.2216, 0.1842, 0.1557, 0.1877],\n",
      "        [0.2337, 0.2125, 0.1806, 0.1893, 0.1839],\n",
      "        [0.2403, 0.1485, 0.2196, 0.1793, 0.2123],\n",
      "        [0.1657, 0.2670, 0.1933, 0.2110, 0.1631],\n",
      "        [0.2146, 0.1602, 0.2372, 0.2355, 0.1525],\n",
      "        [0.2439, 0.1472, 0.2012, 0.2508, 0.1569],\n",
      "        [0.2729, 0.1639, 0.1698, 0.2196, 0.1739],\n",
      "        [0.2416, 0.1665, 0.1728, 0.2161, 0.2030],\n",
      "        [0.2564, 0.1412, 0.2250, 0.2114, 0.1659],\n",
      "        [0.2171, 0.1462, 0.1840, 0.2619, 0.1909],\n",
      "        [0.2287, 0.2021, 0.1549, 0.2132, 0.2011],\n",
      "        [0.2318, 0.1610, 0.2273, 0.2005, 0.1794],\n",
      "        [0.2632, 0.1933, 0.1978, 0.2113, 0.1343],\n",
      "        [0.2127, 0.2075, 0.2117, 0.1726, 0.1955]], device='cuda:0',\n",
      "       grad_fn=<SoftmaxBackward0>)\n"
     ]
    },
    {
     "name": "stderr",
     "output_type": "stream",
     "text": [
      "\n"
     ]
    }
   ],
   "source": [
    "train_history = {\n",
    "    \"loss\": [],\n",
    "    \"accuracy\": []\n",
    "}\n",
    "\n",
    "val_history = {\n",
    "    \"loss\": [],\n",
    "    \"accuracy\": []\n",
    "}\n",
    "\n",
    "model.bert.requires_grad_(False) # Freeze language model layer\n",
    "\n",
    "best_loss = np.inf\n",
    "best_epoch = -1\n",
    "\n",
    "print(f\"Starting classification language model training...\")\n",
    "\n",
    "for epoch in range(1, NUM_EPOCHS + 1):\n",
    "    print(f\"Epoch[{epoch}/{NUM_EPOCHS}]\")\n",
    "\n",
    "    epoch_iter(\n",
    "        dataloader=train_dataloader,\n",
    "        model=model,\n",
    "        is_train=True,\n",
    "        optimizer=optimizer,\n",
    "        lr_scheduler=lr_scheduler\n",
    "    )\n",
    "    \n",
    "    break"
   ]
  },
  {
   "cell_type": "code",
   "execution_count": null,
   "metadata": {},
   "outputs": [],
   "source": []
  }
 ],
 "metadata": {
  "kernelspec": {
   "display_name": "Python 3",
   "language": "python",
   "name": "python3"
  },
  "language_info": {
   "codemirror_mode": {
    "name": "ipython",
    "version": 3
   },
   "file_extension": ".py",
   "mimetype": "text/x-python",
   "name": "python",
   "nbconvert_exporter": "python",
   "pygments_lexer": "ipython3",
   "version": "3.6.9"
  }
 },
 "nbformat": 4,
 "nbformat_minor": 4
}
